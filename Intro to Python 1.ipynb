{
 "cells": [
  {
   "cell_type": "markdown",
   "metadata": {},
   "source": [
    "# Jupyter Notebook Tips\n",
    "\n",
    "Use `Shift-Enter` to execute code in a cell."
   ]
  },
  {
   "cell_type": "code",
   "execution_count": 65,
   "metadata": {},
   "outputs": [
    {
     "data": {
      "text/plain": [
       "5.0"
      ]
     },
     "execution_count": 65,
     "metadata": {},
     "output_type": "execute_result"
    }
   ],
   "source": [
    "10/2"
   ]
  },
  {
   "cell_type": "code",
   "execution_count": 66,
   "metadata": {},
   "outputs": [
    {
     "data": {
      "text/plain": [
       "3.8333333333333335"
      ]
     },
     "execution_count": 66,
     "metadata": {},
     "output_type": "execute_result"
    }
   ],
   "source": [
    "1+2+5/6"
   ]
  },
  {
   "cell_type": "markdown",
   "metadata": {},
   "source": [
    "Notebooks support tab completion."
   ]
  },
  {
   "cell_type": "code",
   "execution_count": null,
   "metadata": {
    "collapsed": true
   },
   "outputs": [],
   "source": [
    "print"
   ]
  },
  {
   "cell_type": "markdown",
   "metadata": {},
   "source": [
    "Notebooks have built in help.  Type `?` after the item you want help on and execute the cell."
   ]
  },
  {
   "cell_type": "code",
   "execution_count": null,
   "metadata": {
    "collapsed": true
   },
   "outputs": [],
   "source": [
    "print?"
   ]
  },
  {
   "cell_type": "markdown",
   "metadata": {},
   "source": [
    "# Variable Types"
   ]
  },
  {
   "cell_type": "markdown",
   "metadata": {},
   "source": [
    "### String"
   ]
  },
  {
   "cell_type": "code",
   "execution_count": 1,
   "metadata": {},
   "outputs": [
    {
     "name": "stdout",
     "output_type": "stream",
     "text": [
      "This is a string\n",
      "16\n",
      "<class 'str'>\n"
     ]
    }
   ],
   "source": [
    "mystring = \"This is a string\"\n",
    "print(mystring)\n",
    "print(len(mystring))  # The length of a string is how many characters it contains\n",
    "print(type(mystring))"
   ]
  },
  {
   "cell_type": "markdown",
   "metadata": {},
   "source": [
    "You can grab parts of a string using idexing.\n",
    "\n",
    "Python indexing is __zero based__ so the first element in a string is index 0.  The second element in __non-inclusive__, so"
   ]
  },
  {
   "cell_type": "code",
   "execution_count": 2,
   "metadata": {},
   "outputs": [
    {
     "data": {
      "text/plain": [
       "'is'"
      ]
     },
     "execution_count": 2,
     "metadata": {},
     "output_type": "execute_result"
    }
   ],
   "source": [
    "mystring[5:7]"
   ]
  },
  {
   "cell_type": "markdown",
   "metadata": {},
   "source": [
    "returns only two characters (indexes 5 and 6.)\n",
    "\n",
    "Negative indexes count backwards from the end."
   ]
  },
  {
   "cell_type": "code",
   "execution_count": 3,
   "metadata": {},
   "outputs": [
    {
     "data": {
      "text/plain": [
       "'g'"
      ]
     },
     "execution_count": 3,
     "metadata": {},
     "output_type": "execute_result"
    }
   ],
   "source": [
    "mystring[-1]"
   ]
  },
  {
   "cell_type": "markdown",
   "metadata": {},
   "source": [
    "You can leave out the starting or ending number when indexing and it will start or end at the beginning or end of the string respectively."
   ]
  },
  {
   "cell_type": "code",
   "execution_count": 4,
   "metadata": {},
   "outputs": [
    {
     "data": {
      "text/plain": [
       "'This'"
      ]
     },
     "execution_count": 4,
     "metadata": {},
     "output_type": "execute_result"
    }
   ],
   "source": [
    "mystring[:4]"
   ]
  },
  {
   "cell_type": "code",
   "execution_count": 5,
   "metadata": {},
   "outputs": [
    {
     "data": {
      "text/plain": [
       "'This is'"
      ]
     },
     "execution_count": 5,
     "metadata": {},
     "output_type": "execute_result"
    }
   ],
   "source": [
    "mystring[:-9]"
   ]
  },
  {
   "cell_type": "code",
   "execution_count": 6,
   "metadata": {},
   "outputs": [
    {
     "data": {
      "text/plain": [
       "'a string'"
      ]
     },
     "execution_count": 6,
     "metadata": {},
     "output_type": "execute_result"
    }
   ],
   "source": [
    "mystring[8:]"
   ]
  },
  {
   "cell_type": "markdown",
   "metadata": {},
   "source": [
    "### Floats and Ints"
   ]
  },
  {
   "cell_type": "code",
   "execution_count": 7,
   "metadata": {},
   "outputs": [
    {
     "name": "stdout",
     "output_type": "stream",
     "text": [
      "<class 'float'>\n",
      "<class 'int'>\n"
     ]
    }
   ],
   "source": [
    "myfloat = 1.23456\n",
    "myint = 2\n",
    "print(type(myfloat))\n",
    "print(type(myint))"
   ]
  },
  {
   "cell_type": "code",
   "execution_count": 8,
   "metadata": {},
   "outputs": [
    {
     "data": {
      "text/plain": [
       "0.6666666666666666"
      ]
     },
     "execution_count": 8,
     "metadata": {},
     "output_type": "execute_result"
    }
   ],
   "source": [
    "# python3 will try to do intelligent typing of outputs (some of this is new relative to python2)\n",
    "2/3"
   ]
  },
  {
   "cell_type": "code",
   "execution_count": 9,
   "metadata": {},
   "outputs": [
    {
     "data": {
      "text/plain": [
       "float"
      ]
     },
     "execution_count": 9,
     "metadata": {},
     "output_type": "execute_result"
    }
   ],
   "source": [
    "type(2/3)"
   ]
  },
  {
   "cell_type": "markdown",
   "metadata": {},
   "source": [
    "### Boolean"
   ]
  },
  {
   "cell_type": "code",
   "execution_count": 10,
   "metadata": {},
   "outputs": [
    {
     "name": "stdout",
     "output_type": "stream",
     "text": [
      "<class 'bool'>\n",
      "<class 'bool'>\n"
     ]
    }
   ],
   "source": [
    "x = True\n",
    "y = False\n",
    "print(type(x))\n",
    "print(type(y))"
   ]
  },
  {
   "cell_type": "code",
   "execution_count": 11,
   "metadata": {},
   "outputs": [
    {
     "name": "stdout",
     "output_type": "stream",
     "text": [
      "False\n",
      "<class 'bool'>\n"
     ]
    }
   ],
   "source": [
    "isittrue = (2 > 3)\n",
    "print(isittrue)\n",
    "print(type(isittrue))"
   ]
  },
  {
   "cell_type": "markdown",
   "metadata": {},
   "source": [
    "### None type"
   ]
  },
  {
   "cell_type": "code",
   "execution_count": 12,
   "metadata": {},
   "outputs": [
    {
     "name": "stdout",
     "output_type": "stream",
     "text": [
      "<class 'NoneType'>\n"
     ]
    }
   ],
   "source": [
    "z = None\n",
    "print(type(z))"
   ]
  },
  {
   "cell_type": "markdown",
   "metadata": {},
   "source": [
    "### Lists and tuples\n",
    "\n",
    "Tuples have structure, lists have order.\n",
    "\n",
    "Lists are mutable and tuples are immutable. The main difference between mutable and immutable is memory usage when you are trying to append an item. When you create a variable, some fixed memory is assigned to the variable. If it is a list, more memory is assigned than actually used.  You can add or remove elements from lists."
   ]
  },
  {
   "cell_type": "code",
   "execution_count": 13,
   "metadata": {},
   "outputs": [
    {
     "name": "stdout",
     "output_type": "stream",
     "text": [
      "<class 'list'>\n",
      "5\n",
      "<class 'tuple'>\n",
      "5\n"
     ]
    }
   ],
   "source": [
    "mylist = [1,2,3,4,5]\n",
    "mytuple = (1,2,3,4,5)\n",
    "print(type(mylist))\n",
    "print(len(mylist))  # lists have lengths equal to the number of elements\n",
    "print(type(mytuple))\n",
    "print(len(mytuple)) # tuples have lengths just like lists"
   ]
  },
  {
   "cell_type": "code",
   "execution_count": 14,
   "metadata": {},
   "outputs": [
    {
     "name": "stdout",
     "output_type": "stream",
     "text": [
      "1\n",
      "5\n",
      "[3, 4]\n",
      "[3, 4, 5]\n",
      "[1, 2]\n"
     ]
    }
   ],
   "source": [
    "# Python list indicies are zero-based\n",
    "print(mylist[0])\n",
    "print(mylist[-1])\n",
    "print(mylist[2:4])\n",
    "print(mylist[2:])\n",
    "print(mylist[:-3])"
   ]
  },
  {
   "cell_type": "code",
   "execution_count": 15,
   "metadata": {},
   "outputs": [
    {
     "name": "stdout",
     "output_type": "stream",
     "text": [
      "[1, 2, 3, 4, 5, 6]\n"
     ]
    }
   ],
   "source": [
    "mylist.append(6)\n",
    "print(mylist)"
   ]
  },
  {
   "cell_type": "code",
   "execution_count": 16,
   "metadata": {},
   "outputs": [
    {
     "name": "stdout",
     "output_type": "stream",
     "text": [
      "[1, 2, 3, 4, 5, 6]\n",
      "[1, 2, 3, 4, 5]\n",
      "[2, 3, 4, 5]\n"
     ]
    }
   ],
   "source": [
    "print(mylist)\n",
    "mylist.pop()\n",
    "print(mylist)\n",
    "mylist.pop(0)\n",
    "print(mylist)"
   ]
  },
  {
   "cell_type": "markdown",
   "metadata": {},
   "source": [
    "### Dictionaries\n",
    "\n",
    "Dictionaries are key-value pairs."
   ]
  },
  {
   "cell_type": "code",
   "execution_count": 17,
   "metadata": {},
   "outputs": [
    {
     "name": "stdout",
     "output_type": "stream",
     "text": [
      "{'a': 1, 'b': 2, 'c': 3, 'd': 4}\n",
      "<class 'dict'>\n"
     ]
    }
   ],
   "source": [
    "mydict = {'a': 1, 'b': 2, 'c': 3, 'd': 4}\n",
    "print(mydict)\n",
    "print(type(mydict))"
   ]
  },
  {
   "cell_type": "code",
   "execution_count": 18,
   "metadata": {},
   "outputs": [
    {
     "name": "stdout",
     "output_type": "stream",
     "text": [
      "3\n"
     ]
    }
   ],
   "source": [
    "print(mydict['c'])"
   ]
  },
  {
   "cell_type": "markdown",
   "metadata": {},
   "source": [
    "# Some Basic Tools"
   ]
  },
  {
   "cell_type": "markdown",
   "metadata": {},
   "source": [
    "### Printing to the Screen"
   ]
  },
  {
   "cell_type": "code",
   "execution_count": 19,
   "metadata": {},
   "outputs": [
    {
     "name": "stdout",
     "output_type": "stream",
     "text": [
      "Hello World!\n"
     ]
    }
   ],
   "source": [
    "print(\"Hello World!\")"
   ]
  },
  {
   "cell_type": "code",
   "execution_count": 20,
   "metadata": {},
   "outputs": [
    {
     "ename": "SyntaxError",
     "evalue": "Missing parentheses in call to 'print' (<ipython-input-20-df5f282cf5c5>, line 2)",
     "output_type": "error",
     "traceback": [
      "\u001b[0;36m  File \u001b[0;32m\"<ipython-input-20-df5f282cf5c5>\"\u001b[0;36m, line \u001b[0;32m2\u001b[0m\n\u001b[0;31m    print \"Hello World!\"\u001b[0m\n\u001b[0m                       ^\u001b[0m\n\u001b[0;31mSyntaxError\u001b[0m\u001b[0;31m:\u001b[0m Missing parentheses in call to 'print'\n"
     ]
    }
   ],
   "source": [
    "# This is the old, deprecated python 2 way.  It does not work in python 3, but you may see it in existing code.\n",
    "print \"Hello World!\""
   ]
  },
  {
   "cell_type": "markdown",
   "metadata": {},
   "source": [
    "### Formatted Strings\n",
    "\n",
    "There are multiple ways to do this. :("
   ]
  },
  {
   "cell_type": "code",
   "execution_count": 21,
   "metadata": {},
   "outputs": [
    {
     "name": "stdout",
     "output_type": "stream",
     "text": [
      "Hello World!\n"
     ]
    }
   ],
   "source": [
    "x = \"World!\"\n",
    "# This is the old python 2 formatted print.  Avoid if possible, but be aware it exists.\n",
    "print(\"Hello %s\" % x)"
   ]
  },
  {
   "cell_type": "code",
   "execution_count": 22,
   "metadata": {},
   "outputs": [
    {
     "name": "stdout",
     "output_type": "stream",
     "text": [
      "Hello World!\n"
     ]
    }
   ],
   "source": [
    "# This was the method used in later versions of python2 and all of python3\n",
    "print(\"Hello {}\".format(x))"
   ]
  },
  {
   "cell_type": "code",
   "execution_count": 23,
   "metadata": {},
   "outputs": [
    {
     "name": "stdout",
     "output_type": "stream",
     "text": [
      "Hello World!\n"
     ]
    }
   ],
   "source": [
    "# This is the new, more compact way of doing it in python 3.6+\n",
    "print(f\"Hello {x}\")"
   ]
  },
  {
   "cell_type": "markdown",
   "metadata": {},
   "source": [
    "Now let's actually format those strings!"
   ]
  },
  {
   "cell_type": "code",
   "execution_count": 24,
   "metadata": {},
   "outputs": [
    {
     "name": "stdout",
     "output_type": "stream",
     "text": [
      "Hello World!\n"
     ]
    }
   ],
   "source": [
    "# specify the string format this way\n",
    "print(f\"Hello {x:s}\")"
   ]
  },
  {
   "cell_type": "code",
   "execution_count": 25,
   "metadata": {},
   "outputs": [
    {
     "name": "stdout",
     "output_type": "stream",
     "text": [
      "The value of pi is 3.141592654.\n"
     ]
    }
   ],
   "source": [
    "pi = 3.141592654\n",
    "# if you don't specify a format, python will make a reasonable choice\n",
    "print(f\"The value of pi is {pi}.\")"
   ]
  },
  {
   "cell_type": "code",
   "execution_count": 26,
   "metadata": {},
   "outputs": [
    {
     "name": "stdout",
     "output_type": "stream",
     "text": [
      "The value of pi is 3.141593.\n"
     ]
    }
   ],
   "source": [
    "# specify floating point format this way (python has default formatting, note that the length is different than above)\n",
    "print(f\"The value of pi is {pi:f}.\")"
   ]
  },
  {
   "cell_type": "code",
   "execution_count": 27,
   "metadata": {},
   "outputs": [
    {
     "name": "stdout",
     "output_type": "stream",
     "text": [
      "The value of pi is  3.142.\n",
      "The value of pi is   3.1.\n",
      "The value of pi is 3.1  .\n",
      "The value of pi is 3.1.\n",
      "The value of pi is  +3.1.\n"
     ]
    }
   ],
   "source": [
    "# specify the length using :[sign][length].[decimals]f\n",
    "print(f\"The value of pi is {pi:6.3f}.\")\n",
    "print(f\"The value of pi is {pi:5.1f}.\")\n",
    "print(f\"The value of pi is {pi:<5.1f}.\")\n",
    "print(f\"The value of pi is {pi:3.1f}.\")\n",
    "print(f\"The value of pi is {pi:>+5.1f}.\")"
   ]
  },
  {
   "cell_type": "code",
   "execution_count": 28,
   "metadata": {},
   "outputs": [
    {
     "name": "stdout",
     "output_type": "stream",
     "text": [
      "The value of pi is 3.142.\n"
     ]
    }
   ],
   "source": [
    "# These formats also work in older style formatted print commands\n",
    "print(\"The value of pi is {:5.3f}.\".format(pi))"
   ]
  },
  {
   "cell_type": "markdown",
   "metadata": {},
   "source": [
    "Actually, formatted printing is part of strings, not the print command"
   ]
  },
  {
   "cell_type": "code",
   "execution_count": 29,
   "metadata": {},
   "outputs": [
    {
     "name": "stdout",
     "output_type": "stream",
     "text": [
      "The value of pi is +3.142.\n"
     ]
    }
   ],
   "source": [
    "mystring = f\"The value of pi is {pi:+5.3f}.\"\n",
    "print(mystring)"
   ]
  },
  {
   "cell_type": "markdown",
   "metadata": {},
   "source": [
    "### Forcing python to use a specific type\n",
    "\n",
    "To convert from one type to another, just use the type's function:"
   ]
  },
  {
   "cell_type": "code",
   "execution_count": 30,
   "metadata": {},
   "outputs": [
    {
     "ename": "TypeError",
     "evalue": "must be str, not int",
     "output_type": "error",
     "traceback": [
      "\u001b[0;31m---------------------------------------------------------------------------\u001b[0m",
      "\u001b[0;31mTypeError\u001b[0m                                 Traceback (most recent call last)",
      "\u001b[0;32m<ipython-input-30-6efd306765f6>\u001b[0m in \u001b[0;36m<module>\u001b[0;34m()\u001b[0m\n\u001b[1;32m      1\u001b[0m \u001b[0mvalue\u001b[0m \u001b[0;34m=\u001b[0m \u001b[0;34m'42'\u001b[0m\u001b[0;34m\u001b[0m\u001b[0m\n\u001b[0;32m----> 2\u001b[0;31m \u001b[0mresult\u001b[0m \u001b[0;34m=\u001b[0m \u001b[0mvalue\u001b[0m \u001b[0;34m+\u001b[0m \u001b[0;36m2\u001b[0m\u001b[0;34m\u001b[0m\u001b[0m\n\u001b[0m",
      "\u001b[0;31mTypeError\u001b[0m: must be str, not int"
     ]
    }
   ],
   "source": [
    "value = '42'\n",
    "result = value + 2"
   ]
  },
  {
   "cell_type": "code",
   "execution_count": 31,
   "metadata": {},
   "outputs": [
    {
     "name": "stdout",
     "output_type": "stream",
     "text": [
      "44\n"
     ]
    }
   ],
   "source": [
    "result = int(value) + 2\n",
    "print(result)"
   ]
  },
  {
   "cell_type": "code",
   "execution_count": 32,
   "metadata": {},
   "outputs": [
    {
     "ename": "TypeError",
     "evalue": "'int' object is not subscriptable",
     "output_type": "error",
     "traceback": [
      "\u001b[0;31m---------------------------------------------------------------------------\u001b[0m",
      "\u001b[0;31mTypeError\u001b[0m                                 Traceback (most recent call last)",
      "\u001b[0;32m<ipython-input-32-cb97970af52e>\u001b[0m in \u001b[0;36m<module>\u001b[0;34m()\u001b[0m\n\u001b[0;32m----> 1\u001b[0;31m \u001b[0mresult\u001b[0m\u001b[0;34m[\u001b[0m\u001b[0;36m0\u001b[0m\u001b[0;34m]\u001b[0m\u001b[0;34m\u001b[0m\u001b[0m\n\u001b[0m",
      "\u001b[0;31mTypeError\u001b[0m: 'int' object is not subscriptable"
     ]
    }
   ],
   "source": [
    "result[0]"
   ]
  },
  {
   "cell_type": "code",
   "execution_count": 33,
   "metadata": {},
   "outputs": [
    {
     "data": {
      "text/plain": [
       "'4'"
      ]
     },
     "execution_count": 33,
     "metadata": {},
     "output_type": "execute_result"
    }
   ],
   "source": [
    "result_as_str = str(result)\n",
    "result_as_str[0]"
   ]
  },
  {
   "cell_type": "code",
   "execution_count": 34,
   "metadata": {},
   "outputs": [
    {
     "data": {
      "text/plain": [
       "'4'"
      ]
     },
     "execution_count": 34,
     "metadata": {},
     "output_type": "execute_result"
    }
   ],
   "source": [
    "# alternatively\n",
    "str(result)[0]"
   ]
  },
  {
   "cell_type": "markdown",
   "metadata": {},
   "source": [
    "# Control Structures\n",
    "\n",
    "* Conditionals: `if`, `not`\n",
    "* Loops: `for`, `while`\n",
    "* `range`\n",
    "* `enumerate`"
   ]
  },
  {
   "cell_type": "markdown",
   "metadata": {},
   "source": [
    "### Conditionals"
   ]
  },
  {
   "cell_type": "code",
   "execution_count": 35,
   "metadata": {},
   "outputs": [
    {
     "name": "stdout",
     "output_type": "stream",
     "text": [
      "True\n"
     ]
    }
   ],
   "source": [
    "a = 3\n",
    "b = 4\n",
    "b_is_greater = b > a\n",
    "print(b_is_greater)"
   ]
  },
  {
   "cell_type": "code",
   "execution_count": 36,
   "metadata": {},
   "outputs": [
    {
     "name": "stdout",
     "output_type": "stream",
     "text": [
      "b is greater than a\n"
     ]
    }
   ],
   "source": [
    "if b_is_greater:\n",
    "    print('b is greater than a')\n",
    "else:\n",
    "    print('b is not greater than a')"
   ]
  },
  {
   "cell_type": "markdown",
   "metadata": {},
   "source": [
    "### Using None\n",
    "\n",
    "None can be a useful indicator that a value is not determined yet"
   ]
  },
  {
   "cell_type": "code",
   "execution_count": 37,
   "metadata": {},
   "outputs": [
    {
     "name": "stdout",
     "output_type": "stream",
     "text": [
      "Time to go calculate the answer!\n"
     ]
    }
   ],
   "source": [
    "answer = None\n",
    "if answer is None:\n",
    "    print('Time to go calculate the answer!')\n",
    "else:\n",
    "    print(f'The answer is {answer}')"
   ]
  },
  {
   "cell_type": "code",
   "execution_count": 38,
   "metadata": {},
   "outputs": [
    {
     "name": "stdout",
     "output_type": "stream",
     "text": [
      "I have figured out the answer, but I'm not going to tell you.\n"
     ]
    }
   ],
   "source": [
    "# You can use not to negate in a conditional\n",
    "answer = \"Forty-two!\"\n",
    "if answer is not None:\n",
    "    print(\"I have figured out the answer, but I'm not going to tell you.\")\n",
    "else:\n",
    "    print(\"I don't know the answer\")"
   ]
  },
  {
   "cell_type": "markdown",
   "metadata": {},
   "source": [
    "Notice that with the use of `is` and `not`, some conditionals read like language.  You could write the same loop in a less clear way (replace \"`is not`\" with `!=`).\n",
    "\n",
    "There is also a shorthand which is often used `if answer:` is the equivalent of `if answer is not None:`"
   ]
  },
  {
   "cell_type": "code",
   "execution_count": 39,
   "metadata": {},
   "outputs": [
    {
     "name": "stdout",
     "output_type": "stream",
     "text": [
      "I have figured out the answer, but I'm not going to tell you.\n"
     ]
    }
   ],
   "source": [
    "answer = \"Forty-two!\"\n",
    "if answer:\n",
    "    print(\"I have figured out the answer, but I'm not going to tell you.\")\n",
    "else:\n",
    "    print(\"I don't know the answer\")"
   ]
  },
  {
   "cell_type": "markdown",
   "metadata": {},
   "source": [
    "### Loops"
   ]
  },
  {
   "cell_type": "code",
   "execution_count": 40,
   "metadata": {},
   "outputs": [
    {
     "name": "stdout",
     "output_type": "stream",
     "text": [
      "1 1\n",
      "2 4\n",
      "3 9\n",
      "4 16\n",
      "5 25\n",
      "6 36\n",
      "7 49\n",
      "8 64\n"
     ]
    }
   ],
   "source": [
    "# Loops in python can be done similarly to many other languages\n",
    "indicies = [1,2,3,4,5,6,7,8]\n",
    "for i in indicies:\n",
    "    print(i, i**2)"
   ]
  },
  {
   "cell_type": "code",
   "execution_count": 41,
   "metadata": {},
   "outputs": [
    {
     "name": "stdout",
     "output_type": "stream",
     "text": [
      "1 1\n",
      "2 4\n",
      "3 9\n",
      "4 16\n",
      "5 25\n"
     ]
    }
   ],
   "source": [
    "j = 0\n",
    "while j < 5:\n",
    "    j += 1  #Note this is equivalent to j = j + 1\n",
    "    print(j, j**2)"
   ]
  },
  {
   "cell_type": "markdown",
   "metadata": {},
   "source": [
    "Rather than generating a list to loop over as I did above, we can use python's `range` function"
   ]
  },
  {
   "cell_type": "code",
   "execution_count": 42,
   "metadata": {},
   "outputs": [
    {
     "name": "stdout",
     "output_type": "stream",
     "text": [
      "0 0\n",
      "1 1\n",
      "2 4\n",
      "3 9\n",
      "4 16\n",
      "5 25\n",
      "6 36\n",
      "7 49\n"
     ]
    }
   ],
   "source": [
    "for i in range(8):\n",
    "    print(i, i**2)"
   ]
  },
  {
   "cell_type": "markdown",
   "metadata": {},
   "source": [
    "Note that `range` (like all python) is __zero based__.\n",
    "\n",
    "One advantage of range is that it does not generate the elemets in the list up front (as I did when I created the `indicies` list).  Instead it generates each value as needed.  When I print `indicies` I get the list.  When I print `range(8)` I get back the __function__ not the values.  If I want the values, I have to force it to be a list type."
   ]
  },
  {
   "cell_type": "code",
   "execution_count": 43,
   "metadata": {},
   "outputs": [
    {
     "name": "stdout",
     "output_type": "stream",
     "text": [
      "[1, 2, 3, 4, 5, 6, 7, 8]\n"
     ]
    }
   ],
   "source": [
    "print(indicies)"
   ]
  },
  {
   "cell_type": "code",
   "execution_count": 44,
   "metadata": {},
   "outputs": [
    {
     "name": "stdout",
     "output_type": "stream",
     "text": [
      "range(0, 8)\n",
      "[0, 1, 2, 3, 4, 5, 6, 7]\n"
     ]
    }
   ],
   "source": [
    "print(range(8))\n",
    "print(list(range(8)))"
   ]
  },
  {
   "cell_type": "markdown",
   "metadata": {},
   "source": [
    "The `range` function can also take start, stop, and step values.  Note that the stop value is non-inclusive."
   ]
  },
  {
   "cell_type": "code",
   "execution_count": 45,
   "metadata": {},
   "outputs": [
    {
     "name": "stdout",
     "output_type": "stream",
     "text": [
      "2 4\n",
      "4 16\n",
      "6 36\n",
      "8 64\n",
      "10 100\n"
     ]
    }
   ],
   "source": [
    "for i in range(2,12,2):\n",
    "    print(i, i**2)"
   ]
  },
  {
   "cell_type": "markdown",
   "metadata": {},
   "source": [
    "The `enumerate` function can be very useful when constructing loops"
   ]
  },
  {
   "cell_type": "code",
   "execution_count": 46,
   "metadata": {
    "collapsed": true
   },
   "outputs": [],
   "source": [
    "objects = [\"M1\", \"M42\", \"M81\", \"M82\"]\n",
    "names = [\"The Crab Nebula\", \"The Orion Nebula\", \"Bode's Galaxy\", \"The Cigar Galaxy\"]"
   ]
  },
  {
   "cell_type": "code",
   "execution_count": 47,
   "metadata": {},
   "outputs": [
    {
     "name": "stdout",
     "output_type": "stream",
     "text": [
      "M1 is commonly known as The Crab Nebula\n",
      "M42 is commonly known as The Orion Nebula\n",
      "M81 is commonly known as Bode's Galaxy\n",
      "M82 is commonly known as The Cigar Galaxy\n"
     ]
    }
   ],
   "source": [
    "for i,obj in enumerate(objects):\n",
    "    print(f\"{obj} is commonly known as {names[i]}\")"
   ]
  },
  {
   "cell_type": "markdown",
   "metadata": {},
   "source": [
    "### Using dictionary keys in loops"
   ]
  },
  {
   "cell_type": "code",
   "execution_count": 48,
   "metadata": {},
   "outputs": [
    {
     "name": "stdout",
     "output_type": "stream",
     "text": [
      "dict_keys(['M1', 'M42', 'M81', 'M82'])\n"
     ]
    }
   ],
   "source": [
    "objectnames = {\"M1\": \"The Crab Nebula\",\n",
    "               \"M42\": \"The Orion Nebula\",\n",
    "               \"M81\": \"Bode's Galaxy\",\n",
    "               \"M82\": \"The Cigar Galaxy\"}\n",
    "print(objectnames.keys())  # Note that the .keys() method yeilds the keys unordered."
   ]
  },
  {
   "cell_type": "code",
   "execution_count": 49,
   "metadata": {},
   "outputs": [
    {
     "name": "stdout",
     "output_type": "stream",
     "text": [
      "M1 is commonly known as The Crab Nebula\n",
      "M42 is commonly known as The Orion Nebula\n",
      "M81 is commonly known as Bode's Galaxy\n",
      "M82 is commonly known as The Cigar Galaxy\n"
     ]
    }
   ],
   "source": [
    "for obj in objectnames.keys():\n",
    "    print(f\"{obj} is commonly known as {objectnames[obj]}\")"
   ]
  },
  {
   "cell_type": "markdown",
   "metadata": {},
   "source": [
    "Note that when I defined `objectnames` I spread it out over multiples lines to make it easier to read.  Python is usually able to figure out when lines should be continued inside parens or brackets (i.e. during definition of lists, tuples, and dictionaries).  You can explicitly force line continuation with the `\\` symbol.\n",
    "\n",
    "Also, within line continuation, you can indent as much whitespace as you like.  The convention (google \"PEP8\" if you want to know more) is to line up each line under the paren (or bracket) that started it as I've done here."
   ]
  },
  {
   "cell_type": "code",
   "execution_count": 50,
   "metadata": {
    "collapsed": true
   },
   "outputs": [],
   "source": [
    "objectnames = {\"M1\": \"The Crab Nebula\",\\\n",
    "               \"M42\": \"The Orion Nebula\",\\\n",
    "               \"M81\": \"Bode's Galaxy\",\\\n",
    "               \"M82\": \"The Cigar Galaxy\"}"
   ]
  },
  {
   "cell_type": "markdown",
   "metadata": {},
   "source": [
    "# Avoiding Loops with List Comprehension\n",
    "\n",
    "To make more compact, readable code you can sometimes use \"list comprehension\".  This (used to be?) faster than for loops in python, but my understanding is that it is now similar in speed."
   ]
  },
  {
   "cell_type": "code",
   "execution_count": 51,
   "metadata": {},
   "outputs": [
    {
     "name": "stdout",
     "output_type": "stream",
     "text": [
      "[4, 16, 36, 64, 100]\n"
     ]
    }
   ],
   "source": [
    "squares = []\n",
    "for i in range(2,12,2):\n",
    "    squares.append(i**2)\n",
    "print(squares)"
   ]
  },
  {
   "cell_type": "code",
   "execution_count": 52,
   "metadata": {},
   "outputs": [
    {
     "name": "stdout",
     "output_type": "stream",
     "text": [
      "[4, 16, 36, 64, 100]\n"
     ]
    }
   ],
   "source": [
    "squares = [i**2 for i in range(2,12,2)]\n",
    "print(squares)"
   ]
  },
  {
   "cell_type": "markdown",
   "metadata": {},
   "source": [
    "You can also use `if` in list comprehension."
   ]
  },
  {
   "cell_type": "code",
   "execution_count": 53,
   "metadata": {
    "collapsed": true
   },
   "outputs": [],
   "source": [
    "inputs = [11,1,3,14,6,8,9,10]"
   ]
  },
  {
   "cell_type": "code",
   "execution_count": 54,
   "metadata": {},
   "outputs": [
    {
     "name": "stdout",
     "output_type": "stream",
     "text": [
      "[1, 9, 36, 64]\n"
     ]
    }
   ],
   "source": [
    "squares = []\n",
    "for i in inputs:\n",
    "    if i < 9:\n",
    "        squares.append(i**2)\n",
    "print(squares)"
   ]
  },
  {
   "cell_type": "code",
   "execution_count": 55,
   "metadata": {},
   "outputs": [
    {
     "name": "stdout",
     "output_type": "stream",
     "text": [
      "[1, 9, 36, 64]\n"
     ]
    }
   ],
   "source": [
    "squares = [i**2 for i in inputs if i < 9]\n",
    "print(squares)"
   ]
  },
  {
   "cell_type": "markdown",
   "metadata": {},
   "source": [
    "One nice thing about list comprehension is that the structure when you read it is closer to language than nested loops and `if`s."
   ]
  },
  {
   "cell_type": "markdown",
   "metadata": {},
   "source": [
    "# Functions"
   ]
  },
  {
   "cell_type": "markdown",
   "metadata": {},
   "source": [
    "Functions are called using the format:\n",
    "\n",
    "```\n",
    "output = functionname(input1, input2, ...)\n",
    "```\n",
    "\n",
    "To define your own function in python, use the `def` command."
   ]
  },
  {
   "cell_type": "code",
   "execution_count": 56,
   "metadata": {
    "collapsed": true
   },
   "outputs": [],
   "source": [
    "def squareit(input):\n",
    "    output = input**2\n",
    "    return output\n",
    "\n",
    "def addthem(a, b, c):\n",
    "    return a + b + c"
   ]
  },
  {
   "cell_type": "code",
   "execution_count": 57,
   "metadata": {},
   "outputs": [
    {
     "name": "stdout",
     "output_type": "stream",
     "text": [
      "25\n"
     ]
    }
   ],
   "source": [
    "result = squareit(5)\n",
    "print(result)"
   ]
  },
  {
   "cell_type": "code",
   "execution_count": 58,
   "metadata": {},
   "outputs": [
    {
     "name": "stdout",
     "output_type": "stream",
     "text": [
      "8\n"
     ]
    }
   ],
   "source": [
    "result = addthem(1,2,5)\n",
    "print(result)"
   ]
  },
  {
   "cell_type": "code",
   "execution_count": 59,
   "metadata": {
    "collapsed": true
   },
   "outputs": [],
   "source": [
    "# Functions can have multiple outputs\n",
    "def square_and_cube(input):\n",
    "    return (input**2, input**3)"
   ]
  },
  {
   "cell_type": "code",
   "execution_count": 60,
   "metadata": {},
   "outputs": [
    {
     "name": "stdout",
     "output_type": "stream",
     "text": [
      "(25, 125)\n"
     ]
    }
   ],
   "source": [
    "result = square_and_cube(5)\n",
    "print(result)"
   ]
  },
  {
   "cell_type": "code",
   "execution_count": 61,
   "metadata": {},
   "outputs": [
    {
     "name": "stdout",
     "output_type": "stream",
     "text": [
      "25\n",
      "125\n"
     ]
    }
   ],
   "source": [
    "x, y = square_and_cube(5)\n",
    "print(x)\n",
    "print(y)"
   ]
  },
  {
   "cell_type": "markdown",
   "metadata": {},
   "source": [
    "# Reading and Writing Files"
   ]
  },
  {
   "cell_type": "markdown",
   "metadata": {
    "collapsed": true
   },
   "source": [
    "# Exercises"
   ]
  },
  {
   "cell_type": "markdown",
   "metadata": {
    "collapsed": true
   },
   "source": [
    "### Exercise 1) Formatting strings\n",
    "\n",
    "You have a table of target information in a list.  Each row is a list containing a string with the object's NGC name, an abbreviation of the type of object, an abbreviation of the constellation, and the magnitude.\n",
    "\n",
    "Print out a string which is a full sentence describing the object including expanfing out the abbreviations for the type and constellation in to full words.\n",
    "\n",
    "Types:\n",
    "* Gal is Galaxy\n",
    "* Double is Double Star\n",
    "* PN is Planetary Nebula\n",
    "* GC is Globular Cluster\n",
    "* OC is Open Cluster\n",
    "\n",
    "Constellations:\n",
    "* Peg is Pegasus\n",
    "* Cep is Cepheus\n",
    "* Tuc is Tucana\n",
    "* Cas is Cassiopeia\n",
    "\n",
    "Your result look like:\n",
    "```\n",
    "NGC1 is a Galaxy located in Pegasus with a magnitude of 13.65\n",
    "NGC2 is a Galaxy located in Pegasus with a magnitude of 14.96\n",
    "NGC8 is a Double Star located in Pegasus with a magnitude of 15.2\n",
    "NGC40 is a Planetary Nebula located in Cepheus with a magnitude of 11.7\n",
    "NGC104 is a Globular Cluster located in Tucana with a magnitude of 5.8\n",
    "NGC110 is a Open Cluster located in Cassiopeia with a magnitude of 9.0\n",
    "```"
   ]
  },
  {
   "cell_type": "code",
   "execution_count": 62,
   "metadata": {},
   "outputs": [],
   "source": [
    "targets = [['NGC1', 'Gal', 'Peg', 13.65],\n",
    "           ['NGC110', 'OC', 'Cas', 9.0],\n",
    "           ['NGC40', 'PN', 'Cep', 11.7],\n",
    "           ['NGC8', 'Double', 'Peg', '15.2'],\n",
    "           ['NGC104', 'GC', 'Tuc', 5.8],\n",
    "           ['NGC2', 'Gal', 'Peg', 14.96],\n",
    "                ]"
   ]
  },
  {
   "cell_type": "code",
   "execution_count": 63,
   "metadata": {},
   "outputs": [
    {
     "name": "stdout",
     "output_type": "stream",
     "text": [
      "NGC1 is a Galaxy located in Pegasus with a magnitude of 13.65\n",
      "NGC110 is a Open Cluster located in Cassiopeia with a magnitude of 9.0\n",
      "NGC40 is a Planetary Nebula located in Cepheus with a magnitude of 11.7\n",
      "NGC8 is a Double Star located in Pegasus with a magnitude of 15.2\n",
      "NGC104 is a Globular Cluster located in Tucana with a magnitude of 5.8\n",
      "NGC2 is a Galaxy located in Pegasus with a magnitude of 14.96\n"
     ]
    }
   ],
   "source": [
    "# Solution\n",
    "objtype = {'Gal': 'Galaxy',\n",
    "           'Double': 'Double Star',\n",
    "           'PN': 'Planetary Nebula',\n",
    "           'GC':'Globular Cluster',\n",
    "           'OC': 'Open Cluster'}\n",
    "constellation = {'Peg': 'Pegasus',\n",
    "                 'Cep': 'Cepheus',\n",
    "                 'Tuc': 'Tucana',\n",
    "                 'Cas': 'Cassiopeia'}\n",
    "for targ in targets:\n",
    "    print(f\"{targ[0]} is a {objtype[targ[1]]} located in {constellation[targ[2]]} with a magnitude of {targ[3]}\")"
   ]
  },
  {
   "cell_type": "markdown",
   "metadata": {},
   "source": [
    "### Exercise 2) Sorting\n",
    "\n",
    "Repeat the above, but make sure the output is sorted by NGC number and print the output with all NGC numbers formatted with a space between NGC and the number and four digits (add leading zeros where needed).\n",
    "\n",
    "Hint: check out the `sorted` function and/or the `.sort()` list method.\n",
    "\n",
    "Hint number 2: Remember, in a jupyter notebook, you can get help by typing a `?` after the item you are interested in and hitting Shift-Enter.  For example: `sorted?`"
   ]
  },
  {
   "cell_type": "code",
   "execution_count": 64,
   "metadata": {},
   "outputs": [
    {
     "name": "stdout",
     "output_type": "stream",
     "text": [
      "NGC 0001 is a Galaxy located in Pegasus with a magnitude of 13.65\n",
      "NGC 0002 is a Galaxy located in Pegasus with a magnitude of 14.96\n",
      "NGC 0008 is a Double Star located in Pegasus with a magnitude of 15.2\n",
      "NGC 0040 is a Planetary Nebula located in Cepheus with a magnitude of 11.7\n",
      "NGC 0104 is a Globular Cluster located in Tucana with a magnitude of 5.8\n",
      "NGC 0110 is a Open Cluster located in Cassiopeia with a magnitude of 9.0\n"
     ]
    }
   ],
   "source": [
    "# Solution\n",
    "objtype = {'Gal': 'Galaxy',\n",
    "           'Double': 'Double Star',\n",
    "           'PN': 'Planetary Nebula',\n",
    "           'GC':'Globular Cluster',\n",
    "           'OC': 'Open Cluster'}\n",
    "constellation = {'Peg': 'Pegasus',\n",
    "                 'Cep': 'Cepheus',\n",
    "                 'Tuc': 'Tucana',\n",
    "                 'Cas': 'Cassiopeia'}\n",
    "for targ in targets:\n",
    "    targ[0] = int(targ[0][3:])\n",
    "\n",
    "for targ in sorted(targets):\n",
    "    print(f\"NGC {targ[0]:04d} is a {objtype[targ[1]]} located in {constellation[targ[2]]} with a magnitude of {targ[3]}\")"
   ]
  },
  {
   "cell_type": "code",
   "execution_count": null,
   "metadata": {
    "collapsed": true
   },
   "outputs": [],
   "source": []
  }
 ],
 "metadata": {
  "kernelspec": {
   "display_name": "Python 3",
   "language": "python",
   "name": "python3"
  },
  "language_info": {
   "codemirror_mode": {
    "name": "ipython",
    "version": 3
   },
   "file_extension": ".py",
   "mimetype": "text/x-python",
   "name": "python",
   "nbconvert_exporter": "python",
   "pygments_lexer": "ipython3",
   "version": "3.6.2"
  }
 },
 "nbformat": 4,
 "nbformat_minor": 2
}
