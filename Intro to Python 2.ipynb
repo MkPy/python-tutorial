{
 "cells": [
  {
   "cell_type": "markdown",
   "metadata": {},
   "source": [
    "# Importing and Modules"
   ]
  },
  {
   "cell_type": "code",
   "execution_count": null,
   "metadata": {
    "collapsed": true
   },
   "outputs": [],
   "source": [
    "import os\n",
    "os.cpu_count()"
   ]
  },
  {
   "cell_type": "markdown",
   "metadata": {},
   "source": [
    "Importing can take several forms.\n",
    "\n",
    "Note that \"path\" is a sub-module of \"os\"."
   ]
  },
  {
   "cell_type": "code",
   "execution_count": null,
   "metadata": {
    "collapsed": true
   },
   "outputs": [],
   "source": [
    "os.path.abspath('.')"
   ]
  },
  {
   "cell_type": "code",
   "execution_count": null,
   "metadata": {
    "collapsed": true
   },
   "outputs": [],
   "source": [
    "from os import path\n",
    "path.abspath('.')"
   ]
  },
  {
   "cell_type": "code",
   "execution_count": null,
   "metadata": {
    "collapsed": true
   },
   "outputs": [],
   "source": [
    "from os import path as p\n",
    "p.abspath('.')"
   ]
  },
  {
   "cell_type": "code",
   "execution_count": null,
   "metadata": {
    "collapsed": true
   },
   "outputs": [],
   "source": [
    "from os.path import abspath\n",
    "abspath('.')"
   ]
  },
  {
   "cell_type": "code",
   "execution_count": null,
   "metadata": {
    "collapsed": true
   },
   "outputs": [],
   "source": [
    "from os.path import abspath as tell_me_the_absolute_path\n",
    "tell_me_the_absolute_path('.')"
   ]
  },
  {
   "cell_type": "markdown",
   "metadata": {},
   "source": [
    "### Using the `os.path` module."
   ]
  },
  {
   "cell_type": "code",
   "execution_count": null,
   "metadata": {
    "collapsed": true
   },
   "outputs": [],
   "source": [
    "from os import path\n",
    "path.exists('/a/path/which/does/not/exist')"
   ]
  },
  {
   "cell_type": "code",
   "execution_count": null,
   "metadata": {
    "collapsed": true
   },
   "outputs": [],
   "source": [
    "path.exists('a_file_which_does_not_exist.txt')"
   ]
  },
  {
   "cell_type": "code",
   "execution_count": null,
   "metadata": {
    "collapsed": true
   },
   "outputs": [],
   "source": [
    "path.exists('Intro to Python 2.ipynb')"
   ]
  },
  {
   "cell_type": "code",
   "execution_count": null,
   "metadata": {
    "collapsed": true
   },
   "outputs": [],
   "source": [
    "testfilename = 'test_file.txt'\n",
    "if path.exists(testfilename):\n",
    "    os.remove(testfilename)"
   ]
  },
  {
   "cell_type": "markdown",
   "metadata": {},
   "source": [
    "# Error Handling: try/except/else\n",
    "\n",
    "The python `try/except/else` error (aka eception) handling follows the \"it is better to ask forgiveness than permission\" principle.  You try something, if it raises an exception, you do somehting about it, if it does not you proceed with your code."
   ]
  },
  {
   "cell_type": "code",
   "execution_count": null,
   "metadata": {
    "collapsed": true
   },
   "outputs": [],
   "source": [
    "numerator = 1\n",
    "denominator = 0\n",
    "a = numerator/denominator"
   ]
  },
  {
   "cell_type": "code",
   "execution_count": null,
   "metadata": {
    "collapsed": true
   },
   "outputs": [],
   "source": [
    "numerator = 1\n",
    "denominator = 2\n",
    "try:\n",
    "    a = numerator/denominator\n",
    "except ZeroDivisionError:\n",
    "    print(\"You shouldn't divide by zero, dummy!\")\n",
    "else:\n",
    "    print(f'The result is {a}')\n",
    "print('Now continuing on with other parts of your program.')"
   ]
  },
  {
   "cell_type": "code",
   "execution_count": null,
   "metadata": {
    "collapsed": true
   },
   "outputs": [],
   "source": [
    "numerator = 1\n",
    "denominator = 0\n",
    "try:\n",
    "    a = numerator/denominator\n",
    "except ZeroDivisionError:\n",
    "    print(\"You shouldn't divide by zero, dummy!\")\n",
    "else:\n",
    "    print(f'The result is {a}')\n",
    "print('Now continuing on with other parts of your program.')"
   ]
  },
  {
   "cell_type": "code",
   "execution_count": null,
   "metadata": {
    "collapsed": true
   },
   "outputs": [],
   "source": [
    "numerator = 1\n",
    "denominator = 0\n",
    "try:\n",
    "    a = numerator/denominator\n",
    "    print(a)\n",
    "except ZeroDivisionError:\n",
    "    print(\"You shouldn't divide by zero, dummy!\")\n",
    "    a = 0.01\n",
    "\n",
    "print(f'The result is {a}')"
   ]
  },
  {
   "cell_type": "markdown",
   "metadata": {},
   "source": [
    "# Objects"
   ]
  },
  {
   "cell_type": "code",
   "execution_count": null,
   "metadata": {
    "collapsed": true
   },
   "outputs": [],
   "source": [
    "from astropy.coordinates import SkyCoord"
   ]
  },
  {
   "cell_type": "code",
   "execution_count": null,
   "metadata": {
    "collapsed": true
   },
   "outputs": [],
   "source": [
    "M42 = SkyCoord('05h35m16.4789s -05d23m22.8444s')"
   ]
  },
  {
   "cell_type": "code",
   "execution_count": null,
   "metadata": {
    "collapsed": true
   },
   "outputs": [],
   "source": [
    "M42"
   ]
  },
  {
   "cell_type": "code",
   "execution_count": null,
   "metadata": {
    "collapsed": true
   },
   "outputs": [],
   "source": [
    "print(M42.ra)"
   ]
  },
  {
   "cell_type": "code",
   "execution_count": null,
   "metadata": {
    "collapsed": true
   },
   "outputs": [],
   "source": [
    "M42.ra.deg"
   ]
  },
  {
   "cell_type": "code",
   "execution_count": null,
   "metadata": {
    "collapsed": true
   },
   "outputs": [],
   "source": [
    "M42.galactic"
   ]
  },
  {
   "cell_type": "code",
   "execution_count": null,
   "metadata": {
    "collapsed": true
   },
   "outputs": [],
   "source": [
    "M42.galactic.b"
   ]
  },
  {
   "cell_type": "markdown",
   "metadata": {},
   "source": [
    "### Defining your own objects\n",
    "\n",
    "Objects have properties and methods.\n",
    "\n",
    "Properties are values associated with the object.\n",
    "\n",
    "Methods are functions called by the object on the object.\n",
    "\n",
    "You can define a \"docstring\" for any object, function, or method.  The docstring is triple quoted (a string literal which can span multiple lines) after the initial `class` or `def` line.  The docstring will then be parsed by `ipython` or `jupyter` and come up as help.  Other untilities can also automatically document you code based on docstrings.  __Docstrings are powerful, use them instead of comments__ where reasonable as they are easier to find and read."
   ]
  },
  {
   "cell_type": "code",
   "execution_count": null,
   "metadata": {
    "collapsed": true
   },
   "outputs": [],
   "source": [
    "class Rectangle(object):\n",
    "    '''This object is meant to be a representation on a geometric form.\n",
    "    Instantiate it with length and width values.\n",
    "    \n",
    "    compute_area(): Method to determine the area of the rectangle.\n",
    "    '''\n",
    "    def __init__(self, length, width):\n",
    "        self.length = length  # length is a property\n",
    "        self.width = width    # width is a property\n",
    "        self.myarea = length*width\n",
    "    def compute_area(self):   # compute_area is a method\n",
    "        return self.length*self.width"
   ]
  },
  {
   "cell_type": "code",
   "execution_count": null,
   "metadata": {
    "collapsed": true
   },
   "outputs": [],
   "source": [
    "first_rectangle = Rectangle(2,3)"
   ]
  },
  {
   "cell_type": "code",
   "execution_count": null,
   "metadata": {
    "collapsed": true
   },
   "outputs": [],
   "source": [
    "first_rectangle.compute_area()"
   ]
  },
  {
   "cell_type": "code",
   "execution_count": null,
   "metadata": {
    "collapsed": true
   },
   "outputs": [],
   "source": [
    "first_rectangle.myarea"
   ]
  },
  {
   "cell_type": "code",
   "execution_count": null,
   "metadata": {
    "collapsed": true
   },
   "outputs": [],
   "source": [
    "second_rectangle = Rectangle(12,31)"
   ]
  },
  {
   "cell_type": "code",
   "execution_count": null,
   "metadata": {
    "collapsed": true
   },
   "outputs": [],
   "source": [
    "first_rectangle.compute_area()/second_rectangle.compute_area()"
   ]
  },
  {
   "cell_type": "code",
   "execution_count": null,
   "metadata": {
    "collapsed": true
   },
   "outputs": [],
   "source": [
    "first_rectangle.length = 100"
   ]
  },
  {
   "cell_type": "code",
   "execution_count": null,
   "metadata": {
    "collapsed": true
   },
   "outputs": [],
   "source": [
    "first_rectangle.myarea"
   ]
  },
  {
   "cell_type": "code",
   "execution_count": null,
   "metadata": {
    "collapsed": true
   },
   "outputs": [],
   "source": [
    "first_rectangle.compute_area()"
   ]
  },
  {
   "cell_type": "code",
   "execution_count": null,
   "metadata": {
    "collapsed": true
   },
   "outputs": [],
   "source": [
    "first_rectangle.compute_area()/second_rectangle.compute_area()"
   ]
  },
  {
   "cell_type": "code",
   "execution_count": null,
   "metadata": {
    "collapsed": true
   },
   "outputs": [],
   "source": [
    "first_rectangle?"
   ]
  },
  {
   "cell_type": "code",
   "execution_count": null,
   "metadata": {
    "collapsed": true
   },
   "outputs": [],
   "source": [
    "print(M42.ra)"
   ]
  },
  {
   "cell_type": "markdown",
   "metadata": {},
   "source": [
    "# Exercises"
   ]
  },
  {
   "cell_type": "markdown",
   "metadata": {},
   "source": [
    "### Exercise 1) Write an if/then sequence\n",
    "\n",
    "Write a function which takes in a filename string and which uses an if/then sequence to determine whether the filename exists.  If it does, return an int of the count of the number of letters in a file basename (the name not including the extension).  If it doesn't exist, return the string \"File not found.\"."
   ]
  },
  {
   "cell_type": "code",
   "execution_count": null,
   "metadata": {
    "collapsed": true
   },
   "outputs": [],
   "source": [
    "# Put your code here"
   ]
  },
  {
   "cell_type": "markdown",
   "metadata": {},
   "source": [
    "### Exercise 2) Write a try/except test\n",
    "\n",
    "Write a function which takes in the name of an astronomical object, and builds a `SkyCoord` with it using the `from_name` method.\n",
    "\n",
    "Use a try/except clause in the function to return a tuple `(l, b)` of the galactic coordinates of the object in decimal degrees if the input is sucesfully parsed and a coordinate determined and which prints a message to the screen and returns `None` if it is not parsed."
   ]
  },
  {
   "cell_type": "code",
   "execution_count": null,
   "metadata": {
    "collapsed": true
   },
   "outputs": [],
   "source": [
    "# Put your code here"
   ]
  },
  {
   "cell_type": "markdown",
   "metadata": {
    "collapsed": true
   },
   "source": [
    "### Exercise 3) Build A Telescope Object\n",
    "\n",
    "Generate a `Telescope` object which takes in focal length (in mm), aperture (in meters), and pixel size (in microns) on instantiation and which includes methods which calculate the pixel scale (`get_pixel_scale()`), plate scale (`get_plate_scale()`), and focal ratio (`get_focal_ratio()`).\n",
    "\n",
    "Hint: Pixel scale = 206.265 * pixel_size_in_microns / focal_length_in_mm\n",
    "\n",
    "Hint: Plate scale = 206265 / focal_length_in_mm\n",
    "\n",
    "Hint: Focal ratio = focal_length / aperture"
   ]
  },
  {
   "cell_type": "code",
   "execution_count": null,
   "metadata": {
    "collapsed": true
   },
   "outputs": [],
   "source": [
    "# Put your object definition here"
   ]
  },
  {
   "cell_type": "code",
   "execution_count": null,
   "metadata": {
    "collapsed": true
   },
   "outputs": [],
   "source": [
    "# If your object above is correct, this definition should work:\n",
    "Keck = Telescope(150000, 10, 15) # 150,000 mm focal length, 10 meters, 15 microns"
   ]
  },
  {
   "cell_type": "code",
   "execution_count": null,
   "metadata": {
    "collapsed": true
   },
   "outputs": [],
   "source": [
    "# This should return 15\n",
    "Keck.get_focal_ratio()"
   ]
  },
  {
   "cell_type": "code",
   "execution_count": null,
   "metadata": {
    "collapsed": true
   },
   "outputs": [],
   "source": [
    "# This should return .0206265\n",
    "Keck.get_pixel_scale()"
   ]
  },
  {
   "cell_type": "code",
   "execution_count": null,
   "metadata": {
    "collapsed": true
   },
   "outputs": [],
   "source": [
    "# This should return 1.3751\n",
    "Keck.get_plate_scale()"
   ]
  }
 ],
 "metadata": {
  "kernelspec": {
   "display_name": "Python 3",
   "language": "python",
   "name": "python3"
  },
  "language_info": {
   "codemirror_mode": {
    "name": "ipython",
    "version": 3
   },
   "file_extension": ".py",
   "mimetype": "text/x-python",
   "name": "python",
   "nbconvert_exporter": "python",
   "pygments_lexer": "ipython3",
   "version": "3.6.3"
  }
 },
 "nbformat": 4,
 "nbformat_minor": 2
}
