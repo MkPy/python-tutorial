{
 "cells": [
  {
   "cell_type": "markdown",
   "metadata": {},
   "source": [
    "# Numpy and Astropy FITS"
   ]
  },
  {
   "cell_type": "markdown",
   "metadata": {},
   "source": [
    "## numpy arrays\n",
    "\n",
    "Numerical Python (numpy) brings more advanced mathematical and data analysis tools to python.\n",
    "\n",
    "A core concept in numpy is the numpy array.  You can think of this as similar to a list, but much more advanced."
   ]
  },
  {
   "cell_type": "code",
   "execution_count": null,
   "metadata": {
    "collapsed": true
   },
   "outputs": [],
   "source": [
    "import numpy as np\n",
    "\n",
    "data = np.array([[ 1., 0., 0.],\n",
    "                 [ 0., 1., 2.]])"
   ]
  },
  {
   "cell_type": "code",
   "execution_count": null,
   "metadata": {
    "collapsed": true
   },
   "outputs": [],
   "source": [
    "data"
   ]
  },
  {
   "cell_type": "code",
   "execution_count": null,
   "metadata": {
    "collapsed": true
   },
   "outputs": [],
   "source": [
    "type(data)"
   ]
  },
  {
   "cell_type": "code",
   "execution_count": null,
   "metadata": {
    "collapsed": true
   },
   "outputs": [],
   "source": [
    "# How many axes does this array have? (i.e. what is the dimension?)\n",
    "data.ndim"
   ]
  },
  {
   "cell_type": "code",
   "execution_count": null,
   "metadata": {
    "collapsed": true
   },
   "outputs": [],
   "source": [
    "# What is the \"shape\" of this array?\n",
    "data.shape"
   ]
  },
  {
   "cell_type": "code",
   "execution_count": null,
   "metadata": {
    "collapsed": true
   },
   "outputs": [],
   "source": [
    "# How mnay elements does this array have?\n",
    "data.size"
   ]
  },
  {
   "cell_type": "code",
   "execution_count": null,
   "metadata": {
    "collapsed": true,
    "scrolled": true
   },
   "outputs": [],
   "source": [
    "# What type of data is in this array?\n",
    "data.dtype"
   ]
  },
  {
   "cell_type": "markdown",
   "metadata": {},
   "source": [
    "### Array math"
   ]
  },
  {
   "cell_type": "code",
   "execution_count": null,
   "metadata": {
    "collapsed": true
   },
   "outputs": [],
   "source": [
    "# Arithmetic is done elementwise\n",
    "a = np.array([1,2,3,4,5])\n",
    "b = np.array([11,12,13,14,15])\n",
    "a+b"
   ]
  },
  {
   "cell_type": "code",
   "execution_count": null,
   "metadata": {
    "collapsed": true
   },
   "outputs": [],
   "source": [
    "c = [1,2,3,4,5]\n",
    "d = [11,12,13,14,15]\n",
    "c + d"
   ]
  },
  {
   "cell_type": "code",
   "execution_count": null,
   "metadata": {
    "collapsed": true
   },
   "outputs": [],
   "source": [
    "a**2"
   ]
  },
  {
   "cell_type": "code",
   "execution_count": null,
   "metadata": {
    "collapsed": true
   },
   "outputs": [],
   "source": [
    "np.sin(a) # a is in radians of course"
   ]
  },
  {
   "cell_type": "code",
   "execution_count": null,
   "metadata": {
    "collapsed": true
   },
   "outputs": [],
   "source": [
    "a<3"
   ]
  },
  {
   "cell_type": "code",
   "execution_count": null,
   "metadata": {
    "collapsed": true
   },
   "outputs": [],
   "source": [
    "np.where(a<3)"
   ]
  },
  {
   "cell_type": "code",
   "execution_count": null,
   "metadata": {
    "collapsed": true
   },
   "outputs": [],
   "source": [
    "np.exp(a)"
   ]
  },
  {
   "cell_type": "code",
   "execution_count": null,
   "metadata": {
    "collapsed": true
   },
   "outputs": [],
   "source": [
    "np.sqrt(a)"
   ]
  },
  {
   "cell_type": "markdown",
   "metadata": {},
   "source": [
    "### Matrix operations"
   ]
  },
  {
   "cell_type": "code",
   "execution_count": null,
   "metadata": {
    "collapsed": true
   },
   "outputs": [],
   "source": [
    "A = np.array( [[1,1],\n",
    "              [0,1]] )\n",
    "B = np.array( [[2,0],\n",
    "              [3,4]] )\n",
    "A*B # elementwise multiplication"
   ]
  },
  {
   "cell_type": "code",
   "execution_count": null,
   "metadata": {
    "collapsed": true
   },
   "outputs": [],
   "source": [
    "A.dot(B) # dot product"
   ]
  },
  {
   "cell_type": "code",
   "execution_count": null,
   "metadata": {
    "collapsed": true
   },
   "outputs": [],
   "source": [
    "# alternatively\n",
    "np.dot(A,B)"
   ]
  },
  {
   "cell_type": "markdown",
   "metadata": {},
   "source": [
    "### Mixing dtypes\n",
    "\n",
    "Be careful when mixing dtypes during mathematical operations.  The results follow a complex set of rules for casting one type in to another."
   ]
  },
  {
   "cell_type": "code",
   "execution_count": null,
   "metadata": {
    "collapsed": true
   },
   "outputs": [],
   "source": [
    "B = np.array( [[2,0],\n",
    "              [3,4]], dtype=bool )"
   ]
  },
  {
   "cell_type": "code",
   "execution_count": null,
   "metadata": {
    "collapsed": true
   },
   "outputs": [],
   "source": [
    "A*B"
   ]
  },
  {
   "cell_type": "markdown",
   "metadata": {},
   "source": [
    "### Other numpy tools\n",
    "\n",
    "Numpy has several useful tools for generating arrays."
   ]
  },
  {
   "cell_type": "code",
   "execution_count": null,
   "metadata": {
    "collapsed": true
   },
   "outputs": [],
   "source": [
    "# arange is similar to range, but generates a numpy array\n",
    "np.arange(5)"
   ]
  },
  {
   "cell_type": "code",
   "execution_count": null,
   "metadata": {
    "collapsed": true
   },
   "outputs": [],
   "source": [
    "np.arange(10,50,5)"
   ]
  },
  {
   "cell_type": "code",
   "execution_count": null,
   "metadata": {
    "collapsed": true
   },
   "outputs": [],
   "source": [
    "# linspace gives you an array from start to stop, divided in to a number of equal elements\n",
    "np.linspace(0,np.pi,3)"
   ]
  },
  {
   "cell_type": "code",
   "execution_count": null,
   "metadata": {
    "collapsed": true
   },
   "outputs": [],
   "source": [
    "# ones and zeros\n",
    "np.ones((3,5))"
   ]
  },
  {
   "cell_type": "code",
   "execution_count": null,
   "metadata": {
    "collapsed": true
   },
   "outputs": [],
   "source": [
    "np.zeros((5,3))"
   ]
  },
  {
   "cell_type": "code",
   "execution_count": null,
   "metadata": {
    "collapsed": true
   },
   "outputs": [],
   "source": [
    "np.zeros((5,3), dtype=bool)"
   ]
  },
  {
   "cell_type": "code",
   "execution_count": null,
   "metadata": {
    "collapsed": true
   },
   "outputs": [],
   "source": [
    "np.ones((5,3), dtype=float)"
   ]
  },
  {
   "cell_type": "markdown",
   "metadata": {},
   "source": [
    "# Astropy\n",
    "\n",
    "\"The Astropy Project is a community effort to develop a single core package for Astronomy\"\n",
    "\n",
    "Astropy includes many different tools which may be of use to you including (but not limited to):\n",
    "* units and constants\n",
    "* time\n",
    "* tables\n",
    "* coordinates\n",
    "* FITS files and WCS\n",
    "* models and fitting\n",
    "\n",
    "In addition Astropy includes the concept of affiliated packages:  \"An affiliated package is an astronomy-related Python package that is not part of the astropy core package, but has requested to be included as part of the Astropy project’s community.\"  Some highlights include:\n",
    "\n",
    "* ginga FITS viewer\n",
    "* montage image mosaicing engine\n",
    "* APLpy (Astronomical Plotting Library in Python)"
   ]
  },
  {
   "cell_type": "markdown",
   "metadata": {},
   "source": [
    "# astropy.io.fits\n",
    "\n",
    "The `astropy.io.fits` package evolved from the `pyfits` package which you may have encountered in the past.  `pyfits` has been deprected, though it is being maintained so that it keeps up with `astropy.io.fits` for now."
   ]
  },
  {
   "cell_type": "code",
   "execution_count": null,
   "metadata": {
    "collapsed": true
   },
   "outputs": [],
   "source": [
    "from astropy.io import fits"
   ]
  },
  {
   "cell_type": "markdown",
   "metadata": {},
   "source": [
    "Because `pyfits` was the old standard it is still used in some code.  The `astropy.io.fits` standard evolved from `pyfits` and they were kepts up to date with one another for a while.  To replace `pyfits` you will sometimes see an import statement similar to:"
   ]
  },
  {
   "cell_type": "code",
   "execution_count": null,
   "metadata": {
    "collapsed": true
   },
   "outputs": [],
   "source": [
    "from astropy.io import fits as pyfits"
   ]
  },
  {
   "cell_type": "markdown",
   "metadata": {
    "collapsed": true
   },
   "source": [
    "Astropy provides access to FITS files which requires you to understand a bit more about the FITS file structure than you may have if you've only used FITS viewers in the past.\n",
    "\n",
    "FITS files are composed of one or more \"Header Data Units\" (HDUs), so when you open a fits file you will get a list of HDUs.\n",
    "\n",
    "Each HDU contains a header and data."
   ]
  },
  {
   "cell_type": "code",
   "execution_count": null,
   "metadata": {
    "collapsed": true
   },
   "outputs": [],
   "source": [
    "hdul = fits.open('km170918_003.fits')\n",
    "# hdul = fits.open('kb170805_00050_icuber.fits')\n",
    "print(type(hdul))"
   ]
  },
  {
   "cell_type": "code",
   "execution_count": null,
   "metadata": {
    "collapsed": true
   },
   "outputs": [],
   "source": [
    "# This HDU List has only one HDU\n",
    "hdul"
   ]
  },
  {
   "cell_type": "code",
   "execution_count": null,
   "metadata": {
    "collapsed": true
   },
   "outputs": [],
   "source": [
    "hdul.info()"
   ]
  },
  {
   "cell_type": "code",
   "execution_count": null,
   "metadata": {
    "collapsed": true
   },
   "outputs": [],
   "source": [
    "hdu = hdul[0]\n",
    "hdr = hdul[0].header\n",
    "hdr"
   ]
  },
  {
   "cell_type": "markdown",
   "metadata": {},
   "source": [
    "### Headers"
   ]
  },
  {
   "cell_type": "code",
   "execution_count": null,
   "metadata": {
    "collapsed": true
   },
   "outputs": [],
   "source": [
    "hdr.get('AZ')"
   ]
  },
  {
   "cell_type": "code",
   "execution_count": null,
   "metadata": {
    "collapsed": true
   },
   "outputs": [],
   "source": [
    "hdr['AZ']"
   ]
  },
  {
   "cell_type": "code",
   "execution_count": null,
   "metadata": {
    "collapsed": true
   },
   "outputs": [],
   "source": [
    "hdr['FUBAR']"
   ]
  },
  {
   "cell_type": "code",
   "execution_count": null,
   "metadata": {
    "collapsed": true
   },
   "outputs": [],
   "source": [
    "result = hdr.get('FUBAR')\n",
    "print(result)"
   ]
  },
  {
   "cell_type": "code",
   "execution_count": null,
   "metadata": {
    "collapsed": true
   },
   "outputs": [],
   "source": [
    "hdr.comments['AZ']"
   ]
  },
  {
   "cell_type": "code",
   "execution_count": null,
   "metadata": {
    "collapsed": true
   },
   "outputs": [],
   "source": [
    "for key in hdr.keys():\n",
    "    print(key)"
   ]
  },
  {
   "cell_type": "code",
   "execution_count": null,
   "metadata": {
    "collapsed": true
   },
   "outputs": [],
   "source": [
    "hdr.set('AZ', 0.0)"
   ]
  },
  {
   "cell_type": "code",
   "execution_count": null,
   "metadata": {
    "collapsed": true
   },
   "outputs": [],
   "source": [
    "hdr.get('AZ')"
   ]
  },
  {
   "cell_type": "code",
   "execution_count": null,
   "metadata": {
    "collapsed": true
   },
   "outputs": [],
   "source": [
    "if not hdr.get('FUBAR'):\n",
    "    hdr.set('FUBAR', True, 'Situation Normal')"
   ]
  },
  {
   "cell_type": "code",
   "execution_count": null,
   "metadata": {
    "collapsed": true
   },
   "outputs": [],
   "source": [
    "hdr['FUBAR']"
   ]
  },
  {
   "cell_type": "code",
   "execution_count": null,
   "metadata": {
    "collapsed": true
   },
   "outputs": [],
   "source": [
    "hdr.comments['FUBAR']"
   ]
  },
  {
   "cell_type": "markdown",
   "metadata": {},
   "source": [
    "### Data\n",
    "\n",
    "The data in a FITS image file is read out and stored in a numpy array."
   ]
  },
  {
   "cell_type": "code",
   "execution_count": null,
   "metadata": {
    "collapsed": true
   },
   "outputs": [],
   "source": [
    "im = hdul[0].data\n",
    "print(type(im))"
   ]
  },
  {
   "cell_type": "code",
   "execution_count": null,
   "metadata": {
    "collapsed": true
   },
   "outputs": [],
   "source": [
    "im.shape"
   ]
  },
  {
   "cell_type": "code",
   "execution_count": null,
   "metadata": {
    "collapsed": true
   },
   "outputs": [],
   "source": [
    "im"
   ]
  },
  {
   "cell_type": "markdown",
   "metadata": {},
   "source": [
    "### Conventions Confusion\n",
    "\n",
    "The numpy arrays which hold the image data are indexable.  Unfortunately, __python and FITS have differing conventions on where the origin is__.\n",
    "\n",
    "The convention in astronomy (FITS, IRAF, ds9, etc.) is for the origin to be pixel (1,1) and to be in the lower left corner.\n",
    "\n",
    "In python the origin is (0, 0) because it is zero-based and that is in the upper left corner.\n",
    "\n",
    "Also, python ordering is (row, column) while many astronomical tools order it (x, y) or (column, row).\n",
    "\n",
    "This can be __very confusing__. Expecially when taking pixel coordinates from FITS headers. :("
   ]
  },
  {
   "cell_type": "code",
   "execution_count": null,
   "metadata": {
    "collapsed": true
   },
   "outputs": [],
   "source": [
    "# Here are the values of the upper right corner of the above array\n",
    "# (which would be displayed in the lower left if you were using IRAF or ds9)\n",
    "im[0:2,0:3]\n",
    "# Note that I've printed out rows 0:2 and columns 0:3."
   ]
  },
  {
   "cell_type": "markdown",
   "metadata": {},
   "source": [
    "### FITS Tables\n",
    "\n",
    "Astropy also supports FITS tables, but we will leave those for you to examine on your own.  As always, information is on the astropy documentation page:\n",
    "http://docs.astropy.org"
   ]
  },
  {
   "cell_type": "markdown",
   "metadata": {},
   "source": [
    "### Manipulating FITS Files"
   ]
  },
  {
   "cell_type": "code",
   "execution_count": null,
   "metadata": {
    "collapsed": true
   },
   "outputs": [],
   "source": [
    "hdul = fits.open('km170918_003.fits')\n",
    "hdul[0].header.get('FUBAR')"
   ]
  },
  {
   "cell_type": "code",
   "execution_count": null,
   "metadata": {
    "collapsed": true
   },
   "outputs": [],
   "source": [
    "if not hdul[0].header.get('FUBAR'):\n",
    "    hdul[0].header.set('FUBAR', True, 'Situation Normal')\n",
    "\n",
    "import os\n",
    "if os.path.exists('newfits.fits'):\n",
    "    os.remove('newfits.fits')\n",
    "hdul.writeto('newfits.fits', output_verify='ignore')"
   ]
  },
  {
   "cell_type": "code",
   "execution_count": null,
   "metadata": {
    "collapsed": true
   },
   "outputs": [],
   "source": [
    "hdul2 = fits.open('newfits.fits')\n",
    "hdul2[0].header.get('FUBAR')"
   ]
  },
  {
   "cell_type": "markdown",
   "metadata": {},
   "source": [
    "### Closing FITS Files"
   ]
  },
  {
   "cell_type": "markdown",
   "metadata": {},
   "source": [
    "FITS files can take up lots of memory if they contain a lot of pixels.  If you're trying to open a single large file, there is an option (`mmap`) which will tell astropy not to read the entire file in to memory.\n",
    "\n",
    "A more common situation is when you have many files you are opening.  Once you use a file, you may not need it's data after a certain point, so there is no reason for it to remain in memory.  Normally, I would just rely on python's built in memory cleanup to deal with this, but looping through numerous FITS files can overfill your memory.  \n",
    "\n",
    "The solution is to use the `.close()` method on an `HDUList` when you are done with it, but it is ught to have many `hdul.close()` scattered throughout your code, a cleaner, easier to read solution is to use python's `with`:"
   ]
  },
  {
   "cell_type": "code",
   "execution_count": null,
   "metadata": {
    "collapsed": true
   },
   "outputs": [],
   "source": [
    "# hdul3 = fits.open('newfits.fits', mode='update')\n",
    "# hdul3[0].header.set('FUBAR', False)\n",
    "# hdul3.flush(output_verify='ignore')\n",
    "# hdul3.close()\n",
    "\n",
    "with fits.open('newfits.fits', mode='update') as hdul3:\n",
    "    hdul3[0].header.set('FUBAR', False)\n",
    "    hdul3.flush(output_verify='ignore')"
   ]
  },
  {
   "cell_type": "code",
   "execution_count": null,
   "metadata": {
    "collapsed": true
   },
   "outputs": [],
   "source": [
    "# hdul4 = fits.open('newfits.fits', mode='readonly')\n",
    "# fubar = hdul4[0].header.get('FUBAR')\n",
    "# print(fubar)\n",
    "# hdul4.close()\n",
    "\n",
    "with fits.open('newfits.fits', mode='readonly') as hdul4:\n",
    "    fubar = hdul4[0].header.get('FUBAR')\n",
    "print(fubar)"
   ]
  },
  {
   "cell_type": "markdown",
   "metadata": {},
   "source": [
    "# Astropy Command Line Utilities"
   ]
  },
  {
   "cell_type": "markdown",
   "metadata": {},
   "source": [
    "For convenience, several of Astropy’s subpackages install utility programs on your system which allow common tasks to be performed without having to open a Python interpreter. These utilities include:\n",
    "\n",
    "* fitsheader: prints the headers of a FITS file.\n",
    "* fitscheck: verifies and optionally re-writes the CHECKSUM and DATASUM keywords of a FITS file.\n",
    "* fitsdiff: compares two FITS files and reports the differences.\n",
    "* Scripts: converts FITS images to bitmaps, including scaling and stretching.\n",
    "* wcslint: checks the WCS keywords in a FITS file for compliance against the standards."
   ]
  },
  {
   "cell_type": "markdown",
   "metadata": {},
   "source": [
    "# World Coordinate Systems\n",
    "\n",
    "Astropy includes support for world coordinate system (WCS) representations.  The WCS is a very powerful, generic system for describing the transformation between pixel coordinates and some other system (e.g. RA, Dec).  Because it is so powerful and generic, it is also complicated."
   ]
  },
  {
   "cell_type": "code",
   "execution_count": null,
   "metadata": {
    "collapsed": true
   },
   "outputs": [],
   "source": [
    "from astropy.wcs import WCS\n",
    "import numpy as np"
   ]
  },
  {
   "cell_type": "code",
   "execution_count": null,
   "metadata": {
    "collapsed": true
   },
   "outputs": [],
   "source": [
    "w = WCS(hdul[0].header)"
   ]
  },
  {
   "cell_type": "code",
   "execution_count": null,
   "metadata": {
    "collapsed": true
   },
   "outputs": [],
   "source": [
    "w"
   ]
  },
  {
   "cell_type": "code",
   "execution_count": null,
   "metadata": {
    "collapsed": true
   },
   "outputs": [],
   "source": [
    "# Three pixel coordinates\n",
    "pix = np.array([[0, 0],\n",
    "                [24, 38],\n",
    "                [45, 98]])\n",
    "# Convert to world coordinates\n",
    "world = w.wcs_pix2world(pix, 1)\n",
    "world"
   ]
  },
  {
   "cell_type": "code",
   "execution_count": null,
   "metadata": {
    "collapsed": true
   },
   "outputs": [],
   "source": [
    "# Convert back to pixels\n",
    "pix2 = w.wcs_world2pix(world, 1)\n",
    "pix2"
   ]
  },
  {
   "cell_type": "code",
   "execution_count": null,
   "metadata": {
    "collapsed": true
   },
   "outputs": [],
   "source": [
    "pix3 = np.array(np.round(pix2), dtype=int)\n",
    "pix3"
   ]
  },
  {
   "cell_type": "markdown",
   "metadata": {},
   "source": [
    "The `,1` in the conversions above is to specify the origin.  Here, origin is the coordinate in the upper left corner of the image. In FITS and Fortran standards, this is 1. In Numpy and C standards this is 0."
   ]
  },
  {
   "cell_type": "markdown",
   "metadata": {},
   "source": [
    "Astropy WCS supports SIP distortions and many projections.  See the astropy documentation for more info on the details."
   ]
  },
  {
   "cell_type": "markdown",
   "metadata": {},
   "source": [
    "# Exercises"
   ]
  },
  {
   "cell_type": "markdown",
   "metadata": {},
   "source": [
    "### Exercise 1) Verify that your file as a WCS\n",
    "\n",
    "Open the file `km170920_002.fits`.\n",
    "\n",
    "First, verify that the file has a WCS and print a message if it has one."
   ]
  },
  {
   "cell_type": "code",
   "execution_count": null,
   "metadata": {
    "collapsed": true
   },
   "outputs": [],
   "source": [
    "# Your code here"
   ]
  },
  {
   "cell_type": "markdown",
   "metadata": {},
   "source": [
    "### Exercise 2) RA, Dec to Pixel Coordinates\n",
    "\n",
    "There is a star of interest at coordinates `(RA, Dec) = (271.82875, 66.47797)`.  This should be in your field of view.  Using the WCS in the image, determine which pixel this coordinate corresponds to.\n",
    "\n",
    "Using formatted printing, print the result in the form:\n",
    "```\n",
    "xpixel = 1023.45\n",
    "ypixel =   67.89\n",
    "```"
   ]
  },
  {
   "cell_type": "code",
   "execution_count": null,
   "metadata": {
    "collapsed": true
   },
   "outputs": [],
   "source": [
    "# Your code here"
   ]
  },
  {
   "cell_type": "markdown",
   "metadata": {},
   "source": [
    "### Exercise 3) Grab subsection of the Image\n",
    "\n",
    "Get a numpy array that covers a 8x8 pixel region centered on the pixel position of the star.  Print it to the screen and visually confirm that the numbers near the center have large values (>10,000 ADU).\n",
    "\n",
    "Hint: you will be subscripting a numpy array which requires that the subscripts be integer values, not float."
   ]
  },
  {
   "cell_type": "code",
   "execution_count": null,
   "metadata": {
    "collapsed": true
   },
   "outputs": [],
   "source": [
    "# Your code here"
   ]
  }
 ],
 "metadata": {
  "kernelspec": {
   "display_name": "Python 3",
   "language": "python",
   "name": "python3"
  },
  "language_info": {
   "codemirror_mode": {
    "name": "ipython",
    "version": 3
   },
   "file_extension": ".py",
   "mimetype": "text/x-python",
   "name": "python",
   "nbconvert_exporter": "python",
   "pygments_lexer": "ipython3",
   "version": "3.6.3"
  }
 },
 "nbformat": 4,
 "nbformat_minor": 2
}
