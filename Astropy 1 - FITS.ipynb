{
 "cells": [
  {
   "cell_type": "markdown",
   "metadata": {},
   "source": [
    "# Astropy\n",
    "\n",
    "\"The Astropy Project is a community effort to develop a single core package for Astronomy\"\n",
    "\n",
    "Astropy includes many different tools which may be of use to you including (but not limited to):\n",
    "* units and constants\n",
    "* time\n",
    "* tables\n",
    "* coordinates\n",
    "* FITS files and WCS\n",
    "* models and fitting\n",
    "\n",
    "In addition Astropy includes the concept of affiliated packages:  \"An affiliated package is an astronomy-related Python package that is not part of the astropy core package, but has requested to be included as part of the Astropy project’s community.\"  Some highlights include:\n",
    "\n",
    "* ginga FITS viewer\n",
    "* montage image mosaicing engine\n",
    "* APLpy (Astronomical Plotting Library in Python)"
   ]
  },
  {
   "cell_type": "markdown",
   "metadata": {},
   "source": [
    "# astropy.io.fits\n",
    "\n",
    "The `astropy.io.fits` package evolved from the `pyfits` package which you may have encountered in the past.  `pyfits` has been deprected, though it is being maintained so that it keeps up with `astropy.io.fits` for now."
   ]
  },
  {
   "cell_type": "code",
   "execution_count": 1,
   "metadata": {
    "collapsed": true
   },
   "outputs": [],
   "source": [
    "from astropy.io import fits"
   ]
  },
  {
   "cell_type": "markdown",
   "metadata": {
    "collapsed": true
   },
   "source": [
    "Astropy provides access to FITS files which requires you to understand a bit more about the FITS file structure than you may have if you've only used FITS viewers in the past.\n",
    "\n",
    "FITS files are composed of one or more \"Header Data Units\" (HDUs), so when you open a fits file you will get a list of HDUs.\n",
    "\n",
    "Each HDU contains a header and data."
   ]
  },
  {
   "cell_type": "code",
   "execution_count": 2,
   "metadata": {},
   "outputs": [
    {
     "name": "stdout",
     "output_type": "stream",
     "text": [
      "<class 'astropy.io.fits.hdu.hdulist.HDUList'>\n"
     ]
    }
   ],
   "source": [
    "hdul = fits.open('km170918_003.fits')\n",
    "# hdul = fits.open('kb170805_00050_icuber.fits')\n",
    "print(type(hdul))"
   ]
  },
  {
   "cell_type": "code",
   "execution_count": 3,
   "metadata": {},
   "outputs": [
    {
     "data": {
      "text/plain": [
       "[<astropy.io.fits.hdu.image.PrimaryHDU object at 0x115632dd8>]"
      ]
     },
     "execution_count": 3,
     "metadata": {},
     "output_type": "execute_result"
    }
   ],
   "source": [
    "# This HDU List has only one HDU\n",
    "hdul"
   ]
  },
  {
   "cell_type": "code",
   "execution_count": 4,
   "metadata": {},
   "outputs": [
    {
     "name": "stdout",
     "output_type": "stream",
     "text": [
      "Filename: km170918_003.fits\n",
      "No.    Name      Ver    Type      Cards   Dimensions   Format\n",
      "  0  PRIMARY       1 PrimaryHDU     128   (512, 512)   int16   \n"
     ]
    }
   ],
   "source": [
    "hdul.info()"
   ]
  },
  {
   "cell_type": "code",
   "execution_count": 5,
   "metadata": {},
   "outputs": [
    {
     "name": "stderr",
     "output_type": "stream",
     "text": [
      "WARNING: VerifyWarning: Verification reported errors: [astropy.io.fits.verify]\n",
      "WARNING: VerifyWarning: Card 'CD2_2' is not FITS standard (invalid value string: '-1.022221e-04 / Tx Matrix').  Fixed 'CD2_2' card to meet the FITS standard. [astropy.io.fits.verify]\n",
      "WARNING: VerifyWarning: Note: astropy.io.fits uses zero-based indexing.\n",
      " [astropy.io.fits.verify]\n",
      "WARNING: VerifyWarning: Card 'CD2_1' is not FITS standard (invalid value string: '1.433518e-07 / Tx Matrix').  Fixed 'CD2_1' card to meet the FITS standard. [astropy.io.fits.verify]\n",
      "WARNING: VerifyWarning: Card 'CD1_2' is not FITS standard (invalid value string: '-1.433518e-07 / Tx Matrix').  Fixed 'CD1_2' card to meet the FITS standard. [astropy.io.fits.verify]\n",
      "WARNING: VerifyWarning: Card 'CD1_1' is not FITS standard (invalid value string: '-1.022221e-04 / Tx Matrix').  Fixed 'CD1_1' card to meet the FITS standard. [astropy.io.fits.verify]\n"
     ]
    },
    {
     "data": {
      "text/plain": [
       "SIMPLE  = T                                                                     \n",
       "BITPIX  = 16                                                                    \n",
       "NAXIS   = 2                                                                     \n",
       "NAXIS1  = 512                                                                   \n",
       "NAXIS2  = 512                                                                   \n",
       "BZERO   = 0                                                                     \n",
       "BSCALE  = 1                                                                     \n",
       "BINNING = 2                                                                     \n",
       "TARGPMRA= 0 / targ pr motion ra (0 s/yr)                                        \n",
       "CURRINST= 'KCWI' / current instrument                                           \n",
       "RAOFF   = 0.000000 / ra offset (0.000000 arcsec)                                \n",
       "CTYPE2  = 'DEC--TAN' /Second axis type                                          \n",
       "TVFLIP  = 'no' /porg to tv y flip                                               \n",
       "CTYPE1  = 'RA---TAN' /First axis type                                           \n",
       "RADESYS = 'FK5' /Coordinates frame type                                         \n",
       "ROTMODE = 'POSITION_ANGLE' / rotator tracking mode                              \n",
       "TARGEQUI= 2000 / target equinox (2000)                                          \n",
       "POYPOS9 = 0 / pointing origin yposition (0 m)                                   \n",
       "TARGRA  = 22.695864 / target right ascension (22.695864 h)                      \n",
       "POXPOS  = 0.00068 / pointing origin xposition (0.00068 m)                       \n",
       "POYPOS8 = 0 / pointing origin yposition (0 m)                                   \n",
       "POYPOS7 = 0 / pointing origin yposition (0 m)                                   \n",
       "POYPOS6 = -0.00108 / pointing origin yposition (-0.00108 m)                     \n",
       "PONAME9 = '<udf>' / pointing origin name 9                                      \n",
       "POYPOS5 = -0.00064 / pointing origin yposition (-0.00064 m)                     \n",
       "PONAME8 = '<udf>' / pointing origin name 8                                      \n",
       "TARGEPOC= 2000 / target epoch (2000)                                            \n",
       "POYPOS4 = -0.00072 / pointing origin yposition (-0.00072 m)                     \n",
       "PONAME7 = '<udf>' / pointing origin name 7                                      \n",
       "FOCALSTN= 'Right nasmyth' / focal station                                       \n",
       "POYPOS3 = 0.02 / pointing origin yposition (0.02 m)                             \n",
       "PONAME6 = 'IFU-S' / pointing origin name 6                                      \n",
       "POYPOS  = -0.00072 / pointing origin yposition (-0.00072 m)                     \n",
       "POYPOS2 = 0 / pointing origin yposition (0 m)                                   \n",
       "PONAME5 = 'IFU-M' / pointing origin name 5                                      \n",
       "TARGNAME= 'SDSS2241 1225' /target name                                          \n",
       "POYPOS1 = 0 / pointing origin yposition (0 m)                                   \n",
       "PONAME4 = 'IFU-L' / pointing origin name 4                                      \n",
       "PONAME3 = 'YPLUS' / pointing origin name 3                                      \n",
       "PONAME2 = 'XPLUS' / pointing origin name 2                                      \n",
       "PARANTEL= -74.283445 / parallactic angle telescope (-74.283445 deg)             \n",
       "PONAME1 = 'REF' / pointing origin name 1                                        \n",
       "DCSSTAT = 'STANDBY' / drive and control status                                  \n",
       "TVANGL  = 0.000000 / porg to tv angle (0.000000 deg)                            \n",
       "DECOFF  = 0.000000 / dec offset (0.000000 arcsec)                               \n",
       "DOMESTAT= 'Tracking' / dome status                                              \n",
       "PARANG  = -74.226813 / parallactic angle astrometric (-74.226813 deg)           \n",
       "TARGPMDC= 0 / targ pr motion dec (0 arcsec/yr)                                  \n",
       "POXPOS9 = 0 / pointing origin xposition (0 m)                                   \n",
       "POXPOS8 = 0 / pointing origin xposition (0 m)                                   \n",
       "POXPOS7 = 0 / pointing origin xposition (0 m)                                   \n",
       "TARGFRAM= 'FK5' /target frame                                                   \n",
       "POXPOS6 = 0.00097 / pointing origin xposition (0.00097 m)                       \n",
       "POXPOS5 = 0.00097 / pointing origin xposition (0.00097 m)                       \n",
       "POXPOS4 = 0.00068 / pointing origin xposition (0.00068 m)                       \n",
       "POXPOS3 = 0 / pointing origin xposition (0 m)                                   \n",
       "POXPOS2 = 0.02 / pointing origin xposition (0.02 m)                             \n",
       "DEC     = 12.432567 / telescope declination (12.432567 deg)                     \n",
       "POXPOS1 = 0 / pointing origin xposition (0 m)                                   \n",
       "CRPIX2  = 260 / Ref pixel y pos                                                 \n",
       "CRPIX1  = 253 / Ref pixel x pos                                                 \n",
       "TELFOCUS= 0.884037 / tel focus compensated (0.884037 mm)                        \n",
       "UTC     = '05:12:21.100' / coordinated universal time (h)                       \n",
       "RA      = 340.437958 / telescope right ascension (340.437958 deg)               \n",
       "CUNIT2  = 'deg' /CRVAL2 unit                                                    \n",
       "CUNIT1  = 'deg' /CRVAL1 unit                                                    \n",
       "EL      = 31.588590 / telescope elevation (31.588590 deg)                       \n",
       "TUBETEMP= 4.2787 / tube temperature (4.2787 degC)                               \n",
       "DOMEPOSN= 87.167156 / dome azimuth (87.167156 deg)                              \n",
       "AIRMASS = 1.9044927978 / air mass (1.9044927978)                                \n",
       "ROTREFAN= 0.000000 / rotator reference angle (0.000000 deg)                     \n",
       "SECFOCUS= -0.043000 / sec mirror focus raw (-0.043000 mm)                       \n",
       "INSTFLIP= 'no' / porg to instrument y flip                                      \n",
       "EQUINOX = 2000 / telescope equinox (2000)                                       \n",
       "CELOCAL = -0.00021441899394 / collim el local (-44.227092 arcsec)               \n",
       "TVANDEF = 0.0000 / Default TV angle                                             \n",
       "MJD-OBS = 58014.216911 / modified julian date of obs (58014.216911              \n",
       "TARGRADV= 0 / targ radial vel (0 km/s)                                          \n",
       "YPXSZ   = 0.1840 / Plt scale in x [arcsec/px]                                   \n",
       "TELESCOP= 'Keck II' /telescope name                                             \n",
       "INSTANGL= 179.000000 / porg to instr angle (179.000000 deg)                     \n",
       "AXESTAT = 'TRACKING' / axes control status                                      \n",
       "ROTDEST = 0.000000 / rotator user destination (0.000000 deg)                    \n",
       "CAMPORG = 'ref' /Default camera pointing origin                                 \n",
       "POXOFF  = 0 / pointing origin x offset (0 m)                                    \n",
       "ROTPOSN = -0.001298 / rotator user position (-0.001298 deg)                     \n",
       "CRVAL2  = 12.432842 / DEC [degree]                                              \n",
       "POYOFF  = 0 / pointing origin y offset (0 m)                                    \n",
       "CRVAL1  = 340.438225 / RA [degree]                                              \n",
       "TARGPLAX= 0.000000 / target parallax (0.000000 arcsec)                          \n",
       "PONAME  = 'IFU-L' / pointing origin name                                        \n",
       "LST     = 18.662083 /  local apparent sidereal time (h)                         \n",
       "SECTHETY= -255.558618 / sec mirror thetay (-255.558618 arcsec)                  \n",
       "SECTHETX= -65.803139 / sec mirror thetax (-65.803139 arcsec)                    \n",
       "DATE    = '2017-09-18' / file creation date (2017-09-17T05:12:21.100 UTC)       \n",
       "DATE-OBS= '2017-09-18' / udate of observation                                   \n",
       "XPXSZ   = 0.1840 / Plt scale in x [acssec/px]                                   \n",
       "CAMREFY = 521 / Ref pixel in y direction                                        \n",
       "CAMREFX = 506 / Ref pixel in x direction                                        \n",
       "ROTPDEST= 42.695994 / rotator physical destination (42.695994 deg)              \n",
       "CD2_2   =        -1.022221E-04 / Tx Matrix                                      \n",
       "TARGDEC = 12.432567 / target declination (12.432567 deg)                        \n",
       "CD2_1   =         1.433518E-07 / Tx Matrix                                      \n",
       "CALOCAL = 0.00028285772956 / collim az local (58.343595 arcsec)                 \n",
       "PMFM    = 0.0 / Primary Mirror Focus Mode in nanometer                          \n",
       "ROTPPOSN= 42.718572 / rotator physical position (42.718572 deg)                 \n",
       "CD1_2   =        -1.433518E-07 / Tx Matrix                                      \n",
       "CD1_1   =        -1.022221E-04 / Tx Matrix                                      \n",
       "CAMBIN  = 2 / Image binning                                                     \n",
       "HA      = -4.033781 / telescope hour angle (-4.033781 h)                        \n",
       "AZ      = 87.174615 / telescope azimuth (87.174615 deg)                         \n",
       "DCSVERS = 'TCSU' / drive and control version                                    \n",
       "ROTCALAN= 0.000000 / rotator calibration angle (0.000000 deg)                   \n",
       "CAMNAME = 'kcwi' / Camera name                                                  \n",
       "FRAME   = 'GFF' / Frame type                                                    \n",
       "WINDOW  = '0,0,512,512' / Window                                                \n",
       "FILTER0 = 'ND3' / filter in wheel                                               \n",
       "FILTER1 = 'Open' / filter in wheel                                              \n",
       "CAMFOCUS= 134 / camera focus                                                    \n",
       "IQLPOS  = 'IQL_POS_UNKNOWN' / IQ element position                               \n",
       "TTIME   = 1.0 / Exposure time [s]                                               \n",
       "CAMBIAS0= 417 / Camera bias 0                                                   \n",
       "CAMBIAS1= 398 / Camera bias 1                                                   \n",
       "CAMGAIN = 3 / Camera gain                                                       \n",
       "TEMP1   = 20.6 / SERVICEMODULE                                                  \n",
       "TEMP2   = -33.5 / CCD1                                                          \n",
       "TEMP3   = -33.3 / CCD2                                                          \n",
       "TEMP4   = -99.0 / HEADTEMP                                                      "
      ]
     },
     "execution_count": 5,
     "metadata": {},
     "output_type": "execute_result"
    }
   ],
   "source": [
    "hdu = hdul[0]\n",
    "hdr = hdul[0].header\n",
    "hdr"
   ]
  },
  {
   "cell_type": "markdown",
   "metadata": {},
   "source": [
    "### Headers"
   ]
  },
  {
   "cell_type": "code",
   "execution_count": 6,
   "metadata": {},
   "outputs": [
    {
     "data": {
      "text/plain": [
       "87.174615"
      ]
     },
     "execution_count": 6,
     "metadata": {},
     "output_type": "execute_result"
    }
   ],
   "source": [
    "hdr.get('AZ')"
   ]
  },
  {
   "cell_type": "code",
   "execution_count": 7,
   "metadata": {},
   "outputs": [
    {
     "data": {
      "text/plain": [
       "87.174615"
      ]
     },
     "execution_count": 7,
     "metadata": {},
     "output_type": "execute_result"
    }
   ],
   "source": [
    "hdr['AZ']"
   ]
  },
  {
   "cell_type": "code",
   "execution_count": 8,
   "metadata": {},
   "outputs": [
    {
     "ename": "KeyError",
     "evalue": "\"Keyword 'FUBAR' not found.\"",
     "output_type": "error",
     "traceback": [
      "\u001b[0;31m---------------------------------------------------------------------------\u001b[0m",
      "\u001b[0;31mKeyError\u001b[0m                                  Traceback (most recent call last)",
      "\u001b[0;32m<ipython-input-8-e17f6473bdc9>\u001b[0m in \u001b[0;36m<module>\u001b[0;34m()\u001b[0m\n\u001b[0;32m----> 1\u001b[0;31m \u001b[0mhdr\u001b[0m\u001b[0;34m[\u001b[0m\u001b[0;34m'FUBAR'\u001b[0m\u001b[0;34m]\u001b[0m\u001b[0;34m\u001b[0m\u001b[0m\n\u001b[0m",
      "\u001b[0;32m~/anaconda/lib/python3.6/site-packages/astropy/io/fits/header.py\u001b[0m in \u001b[0;36m__getitem__\u001b[0;34m(self, key)\u001b[0m\n\u001b[1;32m    148\u001b[0m         \u001b[0;32melse\u001b[0m\u001b[0;34m:\u001b[0m\u001b[0;34m\u001b[0m\u001b[0m\n\u001b[1;32m    149\u001b[0m             \u001b[0mkeyword\u001b[0m \u001b[0;34m=\u001b[0m \u001b[0mkey\u001b[0m\u001b[0;34m\u001b[0m\u001b[0m\n\u001b[0;32m--> 150\u001b[0;31m         \u001b[0mcard\u001b[0m \u001b[0;34m=\u001b[0m \u001b[0mself\u001b[0m\u001b[0;34m.\u001b[0m\u001b[0m_cards\u001b[0m\u001b[0;34m[\u001b[0m\u001b[0mself\u001b[0m\u001b[0;34m.\u001b[0m\u001b[0m_cardindex\u001b[0m\u001b[0;34m(\u001b[0m\u001b[0mkey\u001b[0m\u001b[0;34m)\u001b[0m\u001b[0;34m]\u001b[0m\u001b[0;34m\u001b[0m\u001b[0m\n\u001b[0m\u001b[1;32m    151\u001b[0m         \u001b[0;32mif\u001b[0m \u001b[0mcard\u001b[0m\u001b[0;34m.\u001b[0m\u001b[0mfield_specifier\u001b[0m \u001b[0;32mis\u001b[0m \u001b[0;32mnot\u001b[0m \u001b[0;32mNone\u001b[0m \u001b[0;32mand\u001b[0m \u001b[0mkeyword\u001b[0m \u001b[0;34m==\u001b[0m \u001b[0mcard\u001b[0m\u001b[0;34m.\u001b[0m\u001b[0mrawkeyword\u001b[0m\u001b[0;34m:\u001b[0m\u001b[0;34m\u001b[0m\u001b[0m\n\u001b[1;32m    152\u001b[0m             \u001b[0;31m# This is RVKC; if only the top-level keyword was specified return\u001b[0m\u001b[0;34m\u001b[0m\u001b[0;34m\u001b[0m\u001b[0m\n",
      "\u001b[0;32m~/anaconda/lib/python3.6/site-packages/astropy/io/fits/header.py\u001b[0m in \u001b[0;36m_cardindex\u001b[0;34m(self, key)\u001b[0m\n\u001b[1;32m   1673\u001b[0m \u001b[0;34m\u001b[0m\u001b[0m\n\u001b[1;32m   1674\u001b[0m         \u001b[0;32mif\u001b[0m \u001b[0;32mnot\u001b[0m \u001b[0mindices\u001b[0m\u001b[0;34m:\u001b[0m\u001b[0;34m\u001b[0m\u001b[0m\n\u001b[0;32m-> 1675\u001b[0;31m             \u001b[0;32mraise\u001b[0m \u001b[0mKeyError\u001b[0m\u001b[0;34m(\u001b[0m\u001b[0;34m\"Keyword {!r} not found.\"\u001b[0m\u001b[0;34m.\u001b[0m\u001b[0mformat\u001b[0m\u001b[0;34m(\u001b[0m\u001b[0mkeyword\u001b[0m\u001b[0;34m)\u001b[0m\u001b[0;34m)\u001b[0m\u001b[0;34m\u001b[0m\u001b[0m\n\u001b[0m\u001b[1;32m   1676\u001b[0m \u001b[0;34m\u001b[0m\u001b[0m\n\u001b[1;32m   1677\u001b[0m         \u001b[0;32mtry\u001b[0m\u001b[0;34m:\u001b[0m\u001b[0;34m\u001b[0m\u001b[0m\n",
      "\u001b[0;31mKeyError\u001b[0m: \"Keyword 'FUBAR' not found.\""
     ]
    }
   ],
   "source": [
    "hdr['FUBAR']"
   ]
  },
  {
   "cell_type": "code",
   "execution_count": 9,
   "metadata": {},
   "outputs": [
    {
     "name": "stdout",
     "output_type": "stream",
     "text": [
      "None\n"
     ]
    }
   ],
   "source": [
    "result = hdr.get('FUBAR')\n",
    "print(result)"
   ]
  },
  {
   "cell_type": "code",
   "execution_count": 10,
   "metadata": {},
   "outputs": [
    {
     "data": {
      "text/plain": [
       "'telescope azimuth (87.174615 deg)'"
      ]
     },
     "execution_count": 10,
     "metadata": {},
     "output_type": "execute_result"
    }
   ],
   "source": [
    "hdr.comments['AZ']"
   ]
  },
  {
   "cell_type": "code",
   "execution_count": 11,
   "metadata": {},
   "outputs": [
    {
     "name": "stdout",
     "output_type": "stream",
     "text": [
      "SIMPLE\n",
      "BITPIX\n",
      "NAXIS\n",
      "NAXIS1\n",
      "NAXIS2\n",
      "BZERO\n",
      "BSCALE\n",
      "BINNING\n",
      "TARGPMRA\n",
      "CURRINST\n",
      "RAOFF\n",
      "CTYPE2\n",
      "TVFLIP\n",
      "CTYPE1\n",
      "RADESYS\n",
      "ROTMODE\n",
      "TARGEQUI\n",
      "POYPOS9\n",
      "TARGRA\n",
      "POXPOS\n",
      "POYPOS8\n",
      "POYPOS7\n",
      "POYPOS6\n",
      "PONAME9\n",
      "POYPOS5\n",
      "PONAME8\n",
      "TARGEPOC\n",
      "POYPOS4\n",
      "PONAME7\n",
      "FOCALSTN\n",
      "POYPOS3\n",
      "PONAME6\n",
      "POYPOS\n",
      "POYPOS2\n",
      "PONAME5\n",
      "TARGNAME\n",
      "POYPOS1\n",
      "PONAME4\n",
      "PONAME3\n",
      "PONAME2\n",
      "PARANTEL\n",
      "PONAME1\n",
      "DCSSTAT\n",
      "TVANGL\n",
      "DECOFF\n",
      "DOMESTAT\n",
      "PARANG\n",
      "TARGPMDC\n",
      "POXPOS9\n",
      "POXPOS8\n",
      "POXPOS7\n",
      "TARGFRAM\n",
      "POXPOS6\n",
      "POXPOS5\n",
      "POXPOS4\n",
      "POXPOS3\n",
      "POXPOS2\n",
      "DEC\n",
      "POXPOS1\n",
      "CRPIX2\n",
      "CRPIX1\n",
      "TELFOCUS\n",
      "UTC\n",
      "RA\n",
      "CUNIT2\n",
      "CUNIT1\n",
      "EL\n",
      "TUBETEMP\n",
      "DOMEPOSN\n",
      "AIRMASS\n",
      "ROTREFAN\n",
      "SECFOCUS\n",
      "INSTFLIP\n",
      "EQUINOX\n",
      "CELOCAL\n",
      "TVANDEF\n",
      "MJD-OBS\n",
      "TARGRADV\n",
      "YPXSZ\n",
      "TELESCOP\n",
      "INSTANGL\n",
      "AXESTAT\n",
      "ROTDEST\n",
      "CAMPORG\n",
      "POXOFF\n",
      "ROTPOSN\n",
      "CRVAL2\n",
      "POYOFF\n",
      "CRVAL1\n",
      "TARGPLAX\n",
      "PONAME\n",
      "LST\n",
      "SECTHETY\n",
      "SECTHETX\n",
      "DATE\n",
      "DATE-OBS\n",
      "XPXSZ\n",
      "CAMREFY\n",
      "CAMREFX\n",
      "ROTPDEST\n",
      "CD2_2\n",
      "TARGDEC\n",
      "CD2_1\n",
      "CALOCAL\n",
      "PMFM\n",
      "ROTPPOSN\n",
      "CD1_2\n",
      "CD1_1\n",
      "CAMBIN\n",
      "HA\n",
      "AZ\n",
      "DCSVERS\n",
      "ROTCALAN\n",
      "CAMNAME\n",
      "FRAME\n",
      "WINDOW\n",
      "FILTER0\n",
      "FILTER1\n",
      "CAMFOCUS\n",
      "IQLPOS\n",
      "TTIME\n",
      "CAMBIAS0\n",
      "CAMBIAS1\n",
      "CAMGAIN\n",
      "TEMP1\n",
      "TEMP2\n",
      "TEMP3\n",
      "TEMP4\n"
     ]
    }
   ],
   "source": [
    "for key in hdr.keys():\n",
    "    print(key)"
   ]
  },
  {
   "cell_type": "code",
   "execution_count": 12,
   "metadata": {
    "collapsed": true
   },
   "outputs": [],
   "source": [
    "hdr.set('AZ', 0.0)"
   ]
  },
  {
   "cell_type": "code",
   "execution_count": 13,
   "metadata": {},
   "outputs": [
    {
     "data": {
      "text/plain": [
       "0.0"
      ]
     },
     "execution_count": 13,
     "metadata": {},
     "output_type": "execute_result"
    }
   ],
   "source": [
    "hdr.get('AZ')"
   ]
  },
  {
   "cell_type": "code",
   "execution_count": 14,
   "metadata": {
    "collapsed": true
   },
   "outputs": [],
   "source": [
    "if not hdr.get('FUBAR'):\n",
    "    hdr.set('FUBAR', True, 'Situation Normal')"
   ]
  },
  {
   "cell_type": "code",
   "execution_count": 15,
   "metadata": {},
   "outputs": [
    {
     "data": {
      "text/plain": [
       "True"
      ]
     },
     "execution_count": 15,
     "metadata": {},
     "output_type": "execute_result"
    }
   ],
   "source": [
    "hdr['FUBAR']"
   ]
  },
  {
   "cell_type": "code",
   "execution_count": 16,
   "metadata": {},
   "outputs": [
    {
     "data": {
      "text/plain": [
       "'Situation Normal'"
      ]
     },
     "execution_count": 16,
     "metadata": {},
     "output_type": "execute_result"
    }
   ],
   "source": [
    "hdr.comments['FUBAR']"
   ]
  },
  {
   "cell_type": "markdown",
   "metadata": {},
   "source": [
    "### Data\n",
    "\n",
    "The data in a FITS image file is read out and stored in a numpy array."
   ]
  },
  {
   "cell_type": "code",
   "execution_count": 17,
   "metadata": {},
   "outputs": [
    {
     "name": "stdout",
     "output_type": "stream",
     "text": [
      "<class 'numpy.ndarray'>\n"
     ]
    }
   ],
   "source": [
    "im = hdul[0].data\n",
    "print(type(im))"
   ]
  },
  {
   "cell_type": "code",
   "execution_count": 18,
   "metadata": {},
   "outputs": [
    {
     "data": {
      "text/plain": [
       "(512, 512)"
      ]
     },
     "execution_count": 18,
     "metadata": {},
     "output_type": "execute_result"
    }
   ],
   "source": [
    "im.shape"
   ]
  },
  {
   "cell_type": "code",
   "execution_count": 19,
   "metadata": {},
   "outputs": [
    {
     "data": {
      "text/plain": [
       "array([[259, 258, 258, ..., 260, 258, 260],\n",
       "       [259, 260, 260, ..., 261, 261, 260],\n",
       "       [260, 259, 258, ..., 260, 260, 261],\n",
       "       ..., \n",
       "       [258, 260, 260, ..., 261, 262, 259],\n",
       "       [260, 259, 259, ..., 260, 259, 260],\n",
       "       [259, 259, 259, ..., 259, 259, 259]], dtype=int16)"
      ]
     },
     "execution_count": 19,
     "metadata": {},
     "output_type": "execute_result"
    }
   ],
   "source": [
    "im"
   ]
  },
  {
   "cell_type": "markdown",
   "metadata": {},
   "source": [
    "Astropy also supports FITS tables, but we will leave those for you to examine on your own.  As always, information is on the astropy documentation page:\n",
    "http://docs.astropy.org"
   ]
  },
  {
   "cell_type": "markdown",
   "metadata": {},
   "source": [
    "### Manipulating FITS Files"
   ]
  },
  {
   "cell_type": "code",
   "execution_count": 20,
   "metadata": {
    "collapsed": true
   },
   "outputs": [],
   "source": [
    "hdul = fits.open('km170918_003.fits')\n",
    "hdul[0].header.get('FUBAR')"
   ]
  },
  {
   "cell_type": "code",
   "execution_count": 21,
   "metadata": {},
   "outputs": [
    {
     "name": "stderr",
     "output_type": "stream",
     "text": [
      "WARNING: VerifyWarning: Verification reported errors: [astropy.io.fits.verify]\n",
      "WARNING: VerifyWarning: Card 'CD2_2' is not FITS standard (invalid value string: '-1.022221e-04 / Tx Matrix').  Fixed 'CD2_2' card to meet the FITS standard. [astropy.io.fits.verify]\n",
      "WARNING: VerifyWarning: Note: astropy.io.fits uses zero-based indexing.\n",
      " [astropy.io.fits.verify]\n",
      "WARNING: VerifyWarning: Card 'CD2_1' is not FITS standard (invalid value string: '1.433518e-07 / Tx Matrix').  Fixed 'CD2_1' card to meet the FITS standard. [astropy.io.fits.verify]\n",
      "WARNING: VerifyWarning: Card 'CD1_2' is not FITS standard (invalid value string: '-1.433518e-07 / Tx Matrix').  Fixed 'CD1_2' card to meet the FITS standard. [astropy.io.fits.verify]\n",
      "WARNING: VerifyWarning: Card 'CD1_1' is not FITS standard (invalid value string: '-1.022221e-04 / Tx Matrix').  Fixed 'CD1_1' card to meet the FITS standard. [astropy.io.fits.verify]\n"
     ]
    }
   ],
   "source": [
    "if not hdul[0].header.get('FUBAR'):\n",
    "    hdul[0].header.set('FUBAR', True, 'Situation Normal')\n",
    "hdul.writeto('newfits.fits', output_verify='ignore')"
   ]
  },
  {
   "cell_type": "code",
   "execution_count": 22,
   "metadata": {},
   "outputs": [
    {
     "data": {
      "text/plain": [
       "True"
      ]
     },
     "execution_count": 22,
     "metadata": {},
     "output_type": "execute_result"
    }
   ],
   "source": [
    "hdul2 = fits.open('newfits.fits')\n",
    "hdul2[0].header.get('FUBAR')"
   ]
  },
  {
   "cell_type": "markdown",
   "metadata": {},
   "source": [
    "### Closing FITS Files"
   ]
  },
  {
   "cell_type": "markdown",
   "metadata": {},
   "source": [
    "FITS files can take up lots of memory if they contain a lot of pixels.  If you're trying to open a single large file, there is an option (`mmap`) which will tell astropy not to read the entire file in to memory.\n",
    "\n",
    "A more common situation is when you have many files you are opening.  Once you use a file, you may not need it's data after a certain point, so there is no reason for it to remain in memory.  Normally, I would just rely on python's built in memory cleanup to deal with this, but looping through numerous FITS files can overfill your memory.  \n",
    "\n",
    "The solution is to use the `.close()` method on an `HDUList` when you are done with it, but it is ught to have many `hdul.close()` scattered throughout your code, a cleaner, easier to read solution is to use python's `with`:"
   ]
  },
  {
   "cell_type": "code",
   "execution_count": 23,
   "metadata": {},
   "outputs": [],
   "source": [
    "with fits.open('newfits.fits', mode='update') as hdul3:\n",
    "    hdul3[0].header.set('FUBAR', False)\n",
    "    hdul3.flush(output_verify='ignore')"
   ]
  },
  {
   "cell_type": "code",
   "execution_count": 25,
   "metadata": {},
   "outputs": [
    {
     "name": "stdout",
     "output_type": "stream",
     "text": [
      "False\n"
     ]
    }
   ],
   "source": [
    "with fits.open('newfits.fits', mode='readonly') as hdul4:\n",
    "    fubar = hdul3[0].header.get('FUBAR')\n",
    "print(fubar)"
   ]
  },
  {
   "cell_type": "markdown",
   "metadata": {},
   "source": [
    "# Astropy Command Line Utilities"
   ]
  },
  {
   "cell_type": "markdown",
   "metadata": {},
   "source": [
    "For convenience, several of Astropy’s subpackages install utility programs on your system which allow common tasks to be performed without having to open a Python interpreter. These utilities include:\n",
    "\n",
    "* fitsheader: prints the headers of a FITS file.\n",
    "* fitscheck: verifies and optionally re-writes the CHECKSUM and DATASUM keywords of a FITS file.\n",
    "* fitsdiff: compares two FITS files and reports the differences.\n",
    "* Scripts: converts FITS images to bitmaps, including scaling and stretching.\n",
    "* wcslint: checks the WCS keywords in a FITS file for compliance against the standards."
   ]
  },
  {
   "cell_type": "markdown",
   "metadata": {},
   "source": [
    "# World Coordinate Systems\n",
    "\n",
    "Astropy includes support for world coordinate system (WCS) representations.  The WCS is a very powerful, generic system for describing the transformation between pixel coordinates and some other system (e.g. RA, Dec).  Because it is so powerful and generic, it is also complicated."
   ]
  },
  {
   "cell_type": "code",
   "execution_count": 26,
   "metadata": {
    "collapsed": true
   },
   "outputs": [],
   "source": [
    "from astropy.wcs import WCS\n",
    "import numpy as np"
   ]
  },
  {
   "cell_type": "code",
   "execution_count": 27,
   "metadata": {
    "collapsed": true
   },
   "outputs": [],
   "source": [
    "w = WCS(hdul[0].header)"
   ]
  },
  {
   "cell_type": "code",
   "execution_count": 28,
   "metadata": {},
   "outputs": [
    {
     "data": {
      "text/plain": [
       "WCS Keywords\n",
       "\n",
       "Number of WCS axes: 2\n",
       "CTYPE : 'RA---TAN'  'DEC--TAN'  \n",
       "CRVAL : 340.43822499999999  12.432842000000001  \n",
       "CRPIX : 253.0  260.0  \n",
       "CD1_1 CD1_2  : -0.00010222210000000001  -1.4335179999999999e-07  \n",
       "CD2_1 CD2_2  : 1.4335179999999999e-07  -0.00010222210000000001  \n",
       "NAXIS : 512  512"
      ]
     },
     "execution_count": 28,
     "metadata": {},
     "output_type": "execute_result"
    }
   ],
   "source": [
    "w"
   ]
  },
  {
   "cell_type": "code",
   "execution_count": 29,
   "metadata": {},
   "outputs": [
    {
     "data": {
      "text/plain": [
       "array([[ 340.46474912,   12.45938218],\n",
       "       [ 340.46223068,   12.45550142],\n",
       "       [ 340.46002296,   12.44937129]])"
      ]
     },
     "execution_count": 29,
     "metadata": {},
     "output_type": "execute_result"
    }
   ],
   "source": [
    "# Three pixel coordinates\n",
    "pix = np.array([[0, 0],\n",
    "                [24, 38],\n",
    "                [45, 98]])\n",
    "# Conver to world coordinates\n",
    "world = w.wcs_pix2world(pix, 1)\n",
    "world"
   ]
  },
  {
   "cell_type": "code",
   "execution_count": 30,
   "metadata": {},
   "outputs": [
    {
     "data": {
      "text/plain": [
       "array([[  1.47622359e-10,   3.27986527e-11],\n",
       "       [  2.40000000e+01,   3.80000000e+01],\n",
       "       [  4.50000000e+01,   9.80000000e+01]])"
      ]
     },
     "execution_count": 30,
     "metadata": {},
     "output_type": "execute_result"
    }
   ],
   "source": [
    "# Convert back to pixels\n",
    "pix2 = w.wcs_world2pix(world, 1)\n",
    "pix2"
   ]
  },
  {
   "cell_type": "markdown",
   "metadata": {},
   "source": [
    "The `,1` in the conversions above is to specify the origin.  Here, origin is the coordinate in the upper left corner of the image. In FITS and Fortran standards, this is 1. In Numpy and C standards this is 0."
   ]
  },
  {
   "cell_type": "markdown",
   "metadata": {},
   "source": [
    "Astropy WCS supports SIP distortions and many projections.  See the astropy documentation for more info on the details."
   ]
  },
  {
   "cell_type": "code",
   "execution_count": null,
   "metadata": {
    "collapsed": true
   },
   "outputs": [],
   "source": []
  }
 ],
 "metadata": {
  "kernelspec": {
   "display_name": "Python 3",
   "language": "python",
   "name": "python3"
  },
  "language_info": {
   "codemirror_mode": {
    "name": "ipython",
    "version": 3
   },
   "file_extension": ".py",
   "mimetype": "text/x-python",
   "name": "python",
   "nbconvert_exporter": "python",
   "pygments_lexer": "ipython3",
   "version": "3.6.2"
  }
 },
 "nbformat": 4,
 "nbformat_minor": 2
}
