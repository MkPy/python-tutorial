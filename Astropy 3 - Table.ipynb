{
 "cells": [
  {
   "cell_type": "markdown",
   "metadata": {
    "collapsed": true
   },
   "source": [
    "# Table\n",
    "\n",
    "I didn't go in to opening and reading files in python because the `astropy.tables` module covers most of what astronomers will need.  If you want to open and edit files directly, see the `open()` and `close()` funtions in python.\n",
    "\n",
    "Astropy has a module (`astropy.io`) which covers input and output for reading and writing various file types.  The `tables` module uses that to read and write numerous file formatting options."
   ]
  },
  {
   "cell_type": "code",
   "execution_count": 1,
   "metadata": {
    "collapsed": true
   },
   "outputs": [],
   "source": [
    "from astropy import units as u\n",
    "from astropy.table import Table, Column, Row"
   ]
  },
  {
   "cell_type": "code",
   "execution_count": 2,
   "metadata": {
    "collapsed": true
   },
   "outputs": [],
   "source": [
    "# Tables can be formed from columns\n",
    "a = [1, 4, 5]\n",
    "b = [2.0, 5.0, 8.2]\n",
    "c = ['x', 'y', 'z']\n",
    "t = Table([a, b, c], names=('a', 'b', 'c'))"
   ]
  },
  {
   "cell_type": "code",
   "execution_count": 3,
   "metadata": {},
   "outputs": [
    {
     "data": {
      "text/html": [
       "&lt;Table length=3&gt;\n",
       "<table id=\"table4676931312\" class=\"table-striped table-bordered table-condensed\">\n",
       "<thead><tr><th>a</th><th>b</th><th>c</th></tr></thead>\n",
       "<thead><tr><th>int64</th><th>float64</th><th>str1</th></tr></thead>\n",
       "<tr><td>1</td><td>2.0</td><td>x</td></tr>\n",
       "<tr><td>4</td><td>5.0</td><td>y</td></tr>\n",
       "<tr><td>5</td><td>8.2</td><td>z</td></tr>\n",
       "</table>"
      ],
      "text/plain": [
       "<Table length=3>\n",
       "  a      b     c  \n",
       "int64 float64 str1\n",
       "----- ------- ----\n",
       "    1     2.0    x\n",
       "    4     5.0    y\n",
       "    5     8.2    z"
      ]
     },
     "execution_count": 3,
     "metadata": {},
     "output_type": "execute_result"
    }
   ],
   "source": [
    "t"
   ]
  },
  {
   "cell_type": "code",
   "execution_count": 4,
   "metadata": {
    "collapsed": true
   },
   "outputs": [],
   "source": [
    "# Tables can be formed from rows\n",
    "data_rows = [(1, 2.0, 'x'),\n",
    "             (4, 5.0, 'y'),\n",
    "             (5, 8.2, 'z')]\n",
    "t = Table(rows=data_rows, names=('a', 'b', 'c'), meta={'name': 'first table'},\n",
    "          dtype=('i4', 'f8', 'S1'))"
   ]
  },
  {
   "cell_type": "code",
   "execution_count": 5,
   "metadata": {},
   "outputs": [
    {
     "data": {
      "text/html": [
       "&lt;Table length=3&gt;\n",
       "<table id=\"table4677186056\" class=\"table-striped table-bordered table-condensed\">\n",
       "<thead><tr><th>a</th><th>b</th><th>c</th></tr></thead>\n",
       "<thead><tr><th>int32</th><th>float64</th><th>bytes1</th></tr></thead>\n",
       "<tr><td>1</td><td>2.0</td><td>x</td></tr>\n",
       "<tr><td>4</td><td>5.0</td><td>y</td></tr>\n",
       "<tr><td>5</td><td>8.2</td><td>z</td></tr>\n",
       "</table>"
      ],
      "text/plain": [
       "<Table length=3>\n",
       "  a      b      c   \n",
       "int32 float64 bytes1\n",
       "----- ------- ------\n",
       "    1     2.0      x\n",
       "    4     5.0      y\n",
       "    5     8.2      z"
      ]
     },
     "execution_count": 5,
     "metadata": {},
     "output_type": "execute_result"
    }
   ],
   "source": [
    "t"
   ]
  },
  {
   "cell_type": "code",
   "execution_count": 6,
   "metadata": {
    "collapsed": true
   },
   "outputs": [],
   "source": [
    "# Tables work with astropy units\n",
    "# We can assign unit of seconds to column b\n",
    "t['b'].unit = u.second"
   ]
  },
  {
   "cell_type": "code",
   "execution_count": 7,
   "metadata": {},
   "outputs": [
    {
     "data": {
      "text/html": [
       "&lt;Table length=3&gt;\n",
       "<table id=\"table4677186056\" class=\"table-striped table-bordered table-condensed\">\n",
       "<thead><tr><th>a</th><th>b</th><th>c</th></tr></thead>\n",
       "<thead><tr><th></th><th>s</th><th></th></tr></thead>\n",
       "<thead><tr><th>int32</th><th>float64</th><th>bytes1</th></tr></thead>\n",
       "<tr><td>1</td><td>2.0</td><td>x</td></tr>\n",
       "<tr><td>4</td><td>5.0</td><td>y</td></tr>\n",
       "<tr><td>5</td><td>8.2</td><td>z</td></tr>\n",
       "</table>"
      ],
      "text/plain": [
       "<Table length=3>\n",
       "  a      b      c   \n",
       "         s          \n",
       "int32 float64 bytes1\n",
       "----- ------- ------\n",
       "    1     2.0      x\n",
       "    4     5.0      y\n",
       "    5     8.2      z"
      ]
     },
     "execution_count": 7,
     "metadata": {},
     "output_type": "execute_result"
    }
   ],
   "source": [
    "t"
   ]
  },
  {
   "cell_type": "code",
   "execution_count": 8,
   "metadata": {},
   "outputs": [
    {
     "data": {
      "text/plain": [
       "<Table length=3>\n",
       "name  dtype  unit\n",
       "---- ------- ----\n",
       "   a   int32     \n",
       "   b float64    s\n",
       "   c  bytes1     "
      ]
     },
     "execution_count": 8,
     "metadata": {},
     "output_type": "execute_result"
    }
   ],
   "source": [
    "# To get summary information about a table\n",
    "t.info"
   ]
  },
  {
   "cell_type": "code",
   "execution_count": 9,
   "metadata": {},
   "outputs": [
    {
     "data": {
      "text/html": [
       "&lt;Table length=3&gt;\n",
       "<table id=\"table4677186056\" class=\"table-striped table-bordered table-condensed\">\n",
       "<thead><tr><th>a</th><th>b</th><th>c</th></tr></thead>\n",
       "<thead><tr><th></th><th>s</th><th></th></tr></thead>\n",
       "<thead><tr><th>int32</th><th>float64</th><th>bytes1</th></tr></thead>\n",
       "<tr><td>1</td><td>2.000</td><td>x</td></tr>\n",
       "<tr><td>4</td><td>5.000</td><td>y</td></tr>\n",
       "<tr><td>5</td><td>8.200</td><td>z</td></tr>\n",
       "</table>"
      ],
      "text/plain": [
       "<Table length=3>\n",
       "  a      b      c   \n",
       "         s          \n",
       "int32 float64 bytes1\n",
       "----- ------- ------\n",
       "    1   2.000      x\n",
       "    4   5.000      y\n",
       "    5   8.200      z"
      ]
     },
     "execution_count": 9,
     "metadata": {},
     "output_type": "execute_result"
    }
   ],
   "source": [
    "t['b'].format = '7.3f'\n",
    "t"
   ]
  },
  {
   "cell_type": "code",
   "execution_count": null,
   "metadata": {
    "collapsed": true
   },
   "outputs": [],
   "source": []
  },
  {
   "cell_type": "markdown",
   "metadata": {},
   "source": [
    "### Reading from Files"
   ]
  },
  {
   "cell_type": "code",
   "execution_count": 10,
   "metadata": {
    "collapsed": true
   },
   "outputs": [],
   "source": [
    "data = Table.read('table.tex', format='latex')"
   ]
  },
  {
   "cell_type": "code",
   "execution_count": 11,
   "metadata": {},
   "outputs": [
    {
     "data": {
      "text/html": [
       "&lt;Table length=57&gt;\n",
       "<table id=\"table4677187680\" class=\"table-striped table-bordered table-condensed\">\n",
       "<thead><tr><th>mangaID</th><th>RA</th><th>DEC</th><th>x</th><th>$M_r$</th><th>log $M^\\star/M_\\odot$</th><th>GZ1$_c$</th><th>$C$</th><th>$A$</th><th>$L(\\rm{[OIII]})$</th></tr></thead>\n",
       "<thead><tr><th>str8</th><th>float64</th><th>float64</th><th>float64</th><th>float64</th><th>float64</th><th>str3</th><th>float64</th><th>float64</th><th>str14</th></tr></thead>\n",
       "<tr><td>1-558912</td><td>166.12941</td><td>42.624554</td><td>0.1261</td><td>-20.46</td><td>11.25</td><td>--</td><td>0.37</td><td>0.12</td><td>56.82$\\pm$1.25</td></tr>\n",
       "<tr><td>1-269632</td><td>247.560974</td><td>26.206474</td><td>0.1315</td><td>-21.78</td><td>11.62</td><td>S</td><td>0.47</td><td>0.05</td><td>30.08$\\pm$1.69</td></tr>\n",
       "<tr><td>1-258599</td><td>186.181</td><td>44.41077</td><td>0.1256</td><td>-21.24</td><td>11.68</td><td>E</td><td>0.5</td><td>0.11</td><td>20.95$\\pm$0.67</td></tr>\n",
       "<tr><td>1-72322</td><td>121.014198</td><td>40.802612</td><td>0.1262</td><td>-21.81</td><td>12.05</td><td>S</td><td>0.34</td><td>0.08</td><td>20.66$\\pm$0.43</td></tr>\n",
       "<tr><td>1-121532</td><td>118.09111</td><td>34.326569</td><td>0.14</td><td>-20.51</td><td>11.34</td><td>E</td><td>0.33</td><td>0.05</td><td>11.68$\\pm$0.96</td></tr>\n",
       "<tr><td>1-209980</td><td>240.470871</td><td>45.35194</td><td>0.042</td><td>-19.7</td><td>10.79</td><td>S</td><td>0.57</td><td>0.04</td><td>11.01$\\pm$0.17</td></tr>\n",
       "<tr><td>1-44379</td><td>120.700706</td><td>45.034554</td><td>0.0389</td><td>-19.89</td><td>10.97</td><td>S</td><td>0.24</td><td>0.06</td><td>8.94$\\pm$0.14</td></tr>\n",
       "<tr><td>1-149211</td><td>168.9478</td><td>50.401634</td><td>0.0473</td><td>-18.27</td><td>10.16</td><td>S</td><td>0.29</td><td>0.03</td><td>7.88$\\pm$0.14</td></tr>\n",
       "<tr><td>1-173958</td><td>167.306015</td><td>49.519432</td><td>0.0724</td><td>-20.53</td><td>11.31</td><td>S</td><td>0.33</td><td>0.06</td><td>6.79$\\pm$0.30</td></tr>\n",
       "<tr><td>1-338922</td><td>114.775749</td><td>44.402767</td><td>0.1345</td><td>-20.27</td><td>11.13</td><td>M</td><td>0.44</td><td>0.03</td><td>6.77$\\pm$0.90</td></tr>\n",
       "<tr><td>...</td><td>...</td><td>...</td><td>...</td><td>...</td><td>...</td><td>...</td><td>...</td><td>...</td><td>...</td></tr>\n",
       "<tr><td>1-94604</td><td>251.335938</td><td>42.75779</td><td>0.0493</td><td>-19.44</td><td>10.52</td><td>S</td><td>0.37</td><td>0.01</td><td>0.86$\\pm$0.07</td></tr>\n",
       "<tr><td>1-37036</td><td>41.699909</td><td>0.421577</td><td>0.0283</td><td>-19.02</td><td>10.66</td><td>E</td><td>0.4</td><td>0.09</td><td>0.84$\\pm$0.06</td></tr>\n",
       "<tr><td>1-167688</td><td>155.885559</td><td>46.057755</td><td>0.0258</td><td>-17.86</td><td>9.75</td><td>E</td><td>0.52</td><td>0.04</td><td>0.84$\\pm$0.02</td></tr>\n",
       "<tr><td>1-279666</td><td>173.91124</td><td>47.515518</td><td>0.0455</td><td>-18.83</td><td>10.42</td><td>E</td><td>0.31</td><td>0.02</td><td>0.84$\\pm$0.07</td></tr>\n",
       "<tr><td>1-339163</td><td>116.280205</td><td>46.072422</td><td>0.0312</td><td>-20.02</td><td>10.97</td><td>S</td><td>0.3</td><td>0.1</td><td>0.82$\\pm$0.07</td></tr>\n",
       "<tr><td>1-258774</td><td>186.400864</td><td>45.083858</td><td>0.0384</td><td>-19.6</td><td>10.77</td><td>--</td><td>0.55</td><td>0.03</td><td>0.77$\\pm$0.10</td></tr>\n",
       "<tr><td>1-198153</td><td>224.289078</td><td>48.633968</td><td>0.0354</td><td>-19.83</td><td>11.0</td><td>S</td><td>0.27</td><td>0.07</td><td>0.76$\\pm$0.08</td></tr>\n",
       "<tr><td>1-91016</td><td>234.810974</td><td>56.670856</td><td>0.0463</td><td>-18.6</td><td>10.56</td><td>S</td><td>0.27</td><td>0.06</td><td>0.76$\\pm$0.09</td></tr>\n",
       "<tr><td>1-279073</td><td>170.58815</td><td>46.430504</td><td>0.0323</td><td>-19.53</td><td>10.79</td><td>E</td><td>0.51</td><td>0.01</td><td>0.63$\\pm$0.06</td></tr>\n",
       "<tr><td>1-135044</td><td>247.90799</td><td>41.493645</td><td>0.0303</td><td>-19.76</td><td>10.65</td><td>S</td><td>0.31</td><td>0.05</td><td>0.61$\\pm$0.04</td></tr>\n",
       "</table>"
      ],
      "text/plain": [
       "<Table length=57>\n",
       "mangaID      RA        DEC       x    ...   $C$     $A$   $L(\\rm{[OIII]})$\n",
       "  str8    float64    float64  float64 ... float64 float64      str14      \n",
       "-------- ---------- --------- ------- ... ------- ------- ----------------\n",
       "1-558912  166.12941 42.624554  0.1261 ...    0.37    0.12   56.82$\\pm$1.25\n",
       "1-269632 247.560974 26.206474  0.1315 ...    0.47    0.05   30.08$\\pm$1.69\n",
       "1-258599    186.181  44.41077  0.1256 ...     0.5    0.11   20.95$\\pm$0.67\n",
       " 1-72322 121.014198 40.802612  0.1262 ...    0.34    0.08   20.66$\\pm$0.43\n",
       "1-121532  118.09111 34.326569    0.14 ...    0.33    0.05   11.68$\\pm$0.96\n",
       "1-209980 240.470871  45.35194   0.042 ...    0.57    0.04   11.01$\\pm$0.17\n",
       " 1-44379 120.700706 45.034554  0.0389 ...    0.24    0.06    8.94$\\pm$0.14\n",
       "1-149211   168.9478 50.401634  0.0473 ...    0.29    0.03    7.88$\\pm$0.14\n",
       "1-173958 167.306015 49.519432  0.0724 ...    0.33    0.06    6.79$\\pm$0.30\n",
       "1-338922 114.775749 44.402767  0.1345 ...    0.44    0.03    6.77$\\pm$0.90\n",
       "     ...        ...       ...     ... ...     ...     ...              ...\n",
       " 1-94604 251.335938  42.75779  0.0493 ...    0.37    0.01    0.86$\\pm$0.07\n",
       " 1-37036  41.699909  0.421577  0.0283 ...     0.4    0.09    0.84$\\pm$0.06\n",
       "1-167688 155.885559 46.057755  0.0258 ...    0.52    0.04    0.84$\\pm$0.02\n",
       "1-279666  173.91124 47.515518  0.0455 ...    0.31    0.02    0.84$\\pm$0.07\n",
       "1-339163 116.280205 46.072422  0.0312 ...     0.3     0.1    0.82$\\pm$0.07\n",
       "1-258774 186.400864 45.083858  0.0384 ...    0.55    0.03    0.77$\\pm$0.10\n",
       "1-198153 224.289078 48.633968  0.0354 ...    0.27    0.07    0.76$\\pm$0.08\n",
       " 1-91016 234.810974 56.670856  0.0463 ...    0.27    0.06    0.76$\\pm$0.09\n",
       "1-279073  170.58815 46.430504  0.0323 ...    0.51    0.01    0.63$\\pm$0.06\n",
       "1-135044  247.90799 41.493645  0.0303 ...    0.31    0.05    0.61$\\pm$0.04"
      ]
     },
     "execution_count": 11,
     "metadata": {},
     "output_type": "execute_result"
    }
   ],
   "source": [
    "data"
   ]
  },
  {
   "cell_type": "code",
   "execution_count": 12,
   "metadata": {},
   "outputs": [
    {
     "data": {
      "text/html": [
       "&lt;Table length=57&gt;\n",
       "<table id=\"table4677187680-741669\" class=\"table-striped table-bordered table-condensed\">\n",
       "<thead><tr><th>idx</th><th>mangaID</th><th>RA</th><th>DEC</th><th>x</th><th>$M_r$</th><th>log $M^\\star/M_\\odot$</th><th>GZ1$_c$</th><th>$C$</th><th>$A$</th><th>$L(\\rm{[OIII]})$</th></tr></thead>\n",
       "<tr><td>0</td><td>1-558912</td><td>166.12941</td><td>42.624554</td><td>0.1261</td><td>-20.46</td><td>11.25</td><td>--</td><td>0.37</td><td>0.12</td><td>56.82$\\pm$1.25</td></tr>\n",
       "<tr><td>1</td><td>1-269632</td><td>247.560974</td><td>26.206474</td><td>0.1315</td><td>-21.78</td><td>11.62</td><td>S</td><td>0.47</td><td>0.05</td><td>30.08$\\pm$1.69</td></tr>\n",
       "<tr><td>2</td><td>1-258599</td><td>186.181</td><td>44.41077</td><td>0.1256</td><td>-21.24</td><td>11.68</td><td>E</td><td>0.5</td><td>0.11</td><td>20.95$\\pm$0.67</td></tr>\n",
       "<tr><td>3</td><td>1-72322</td><td>121.014198</td><td>40.802612</td><td>0.1262</td><td>-21.81</td><td>12.05</td><td>S</td><td>0.34</td><td>0.08</td><td>20.66$\\pm$0.43</td></tr>\n",
       "<tr><td>4</td><td>1-121532</td><td>118.09111</td><td>34.326569</td><td>0.14</td><td>-20.51</td><td>11.34</td><td>E</td><td>0.33</td><td>0.05</td><td>11.68$\\pm$0.96</td></tr>\n",
       "<tr><td>5</td><td>1-209980</td><td>240.470871</td><td>45.35194</td><td>0.042</td><td>-19.7</td><td>10.79</td><td>S</td><td>0.57</td><td>0.04</td><td>11.01$\\pm$0.17</td></tr>\n",
       "<tr><td>6</td><td>1-44379</td><td>120.700706</td><td>45.034554</td><td>0.0389</td><td>-19.89</td><td>10.97</td><td>S</td><td>0.24</td><td>0.06</td><td>8.94$\\pm$0.14</td></tr>\n",
       "<tr><td>7</td><td>1-149211</td><td>168.9478</td><td>50.401634</td><td>0.0473</td><td>-18.27</td><td>10.16</td><td>S</td><td>0.29</td><td>0.03</td><td>7.88$\\pm$0.14</td></tr>\n",
       "<tr><td>8</td><td>1-173958</td><td>167.306015</td><td>49.519432</td><td>0.0724</td><td>-20.53</td><td>11.31</td><td>S</td><td>0.33</td><td>0.06</td><td>6.79$\\pm$0.30</td></tr>\n",
       "<tr><td>9</td><td>1-338922</td><td>114.775749</td><td>44.402767</td><td>0.1345</td><td>-20.27</td><td>11.13</td><td>M</td><td>0.44</td><td>0.03</td><td>6.77$\\pm$0.90</td></tr>\n",
       "<tr><td>10</td><td>1-279147</td><td>168.957733</td><td>46.319565</td><td>0.0533</td><td>-19.51</td><td>10.66</td><td>S</td><td>0.45</td><td>0.03</td><td>6.77$\\pm$0.20</td></tr>\n",
       "<tr><td>11</td><td>1-460812</td><td>127.170799</td><td>17.5814</td><td>0.0665</td><td>-19.81</td><td>11.44</td><td>--</td><td>0.38</td><td>0.05</td><td>6.46$\\pm$0.31</td></tr>\n",
       "<tr><td>12</td><td>1-92866</td><td>243.581818</td><td>50.465611</td><td>0.0603</td><td>-20.56</td><td>11.69</td><td>E</td><td>0.49</td><td>0.05</td><td>6.12$\\pm$0.30</td></tr>\n",
       "<tr><td>13</td><td>1-94784</td><td>249.31842</td><td>44.418228</td><td>0.0314</td><td>-20.06</td><td>10.85</td><td>S</td><td>0.42</td><td>0.03</td><td>5.96$\\pm$0.12</td></tr>\n",
       "<tr><td>14</td><td>1-44303</td><td>119.182152</td><td>44.856709</td><td>0.0499</td><td>-19.72</td><td>10.62</td><td>S</td><td>0.29</td><td>0.1</td><td>5.56$\\pm$0.12</td></tr>\n",
       "<tr><td>15</td><td>1-339094</td><td>117.47242</td><td>45.248482</td><td>0.0313</td><td>-19.02</td><td>10.52</td><td>E</td><td>0.36</td><td>0.03</td><td>5.29$\\pm$0.09</td></tr>\n",
       "<tr><td>16</td><td>1-137883</td><td>137.874756</td><td>45.468319</td><td>0.0268</td><td>-18.06</td><td>10.77</td><td>E/S</td><td>0.41</td><td>0.01</td><td>3.87$\\pm$0.12</td></tr>\n",
       "<tr><td>17</td><td>1-48116</td><td>132.653992</td><td>57.359669</td><td>0.0261</td><td>-19.18</td><td>10.6</td><td>S</td><td>0.31</td><td>0.06</td><td>3.79$\\pm$0.08</td></tr>\n",
       "<tr><td>18</td><td>1-256446</td><td>166.509872</td><td>43.173473</td><td>0.0584</td><td>-19.4</td><td>11.14</td><td>E</td><td>0.49</td><td>0.05</td><td>3.74$\\pm$0.15</td></tr>\n",
       "<tr><td>19</td><td>1-95585</td><td>255.029877</td><td>37.8395</td><td>0.0633</td><td>-20.88</td><td>11.24</td><td>S</td><td>0.27</td><td>0.08</td><td>3.58$\\pm$0.16</td></tr>\n",
       "<tr><td>20</td><td>1-135641</td><td>249.557312</td><td>40.14682</td><td>0.0304</td><td>-19.03</td><td>11.19</td><td>S</td><td>0.28</td><td>0.08</td><td>3.52$\\pm$0.09</td></tr>\n",
       "<tr><td>21</td><td>1-259142</td><td>193.703995</td><td>44.155567</td><td>0.0543</td><td>-20.75</td><td>11.29</td><td>S</td><td>0.39</td><td>0.06</td><td>3.47$\\pm$0.20</td></tr>\n",
       "<tr><td>22</td><td>1-109056</td><td>39.446587</td><td>0.405085</td><td>0.0473</td><td>-19.27</td><td>10.57</td><td>--</td><td>0.32</td><td>0.05</td><td>3.24$\\pm$0.08</td></tr>\n",
       "<tr><td>23</td><td>1-24148</td><td>258.827423</td><td>57.658772</td><td>0.0282</td><td>-18.51</td><td>10.56</td><td>S</td><td>0.31</td><td>0.04</td><td>3.17$\\pm$0.05</td></tr>\n",
       "<tr><td>24</td><td>1-166919</td><td>146.709106</td><td>43.423843</td><td>0.0722</td><td>-20.85</td><td>11.28</td><td>S</td><td>0.37</td><td>0.06</td><td>2.64$\\pm$0.25</td></tr>\n",
       "<tr><td>25</td><td>1-248389</td><td>240.658051</td><td>41.293427</td><td>0.0348</td><td>-19.36</td><td>10.57</td><td>S</td><td>0.49</td><td>0.12</td><td>2.55$\\pm$0.09</td></tr>\n",
       "<tr><td>26</td><td>1-321739</td><td>226.431656</td><td>44.404903</td><td>0.0283</td><td>-18.91</td><td>11.12</td><td>S</td><td>0.4</td><td>0.14</td><td>2.24$\\pm$0.10</td></tr>\n",
       "<tr><td>27</td><td>1-234618</td><td>202.128433</td><td>47.714039</td><td>0.0608</td><td>-19.64</td><td>11.37</td><td>S</td><td>0.31</td><td>0.09</td><td>2.23$\\pm$0.23</td></tr>\n",
       "<tr><td>28</td><td>1-229010</td><td>57.243038</td><td>-1.144831</td><td>0.0407</td><td>-20.51</td><td>11.46</td><td>--</td><td>0.41</td><td>0.03</td><td>2.11$\\pm$0.09</td></tr>\n",
       "<tr><td>29</td><td>1-211311</td><td>248.426392</td><td>39.18512</td><td>0.0298</td><td>-19.04</td><td>10.44</td><td>E/S</td><td>0.43</td><td>0.02</td><td>1.99$\\pm$0.06</td></tr>\n",
       "<tr><td>30</td><td>1-373161</td><td>222.810074</td><td>30.692245</td><td>0.0547</td><td>-21.3</td><td>11.6</td><td>E</td><td>0.43</td><td>0.0</td><td>1.87$\\pm$0.11</td></tr>\n",
       "<tr><td>31</td><td>1-210646</td><td>245.157181</td><td>41.466873</td><td>0.0606</td><td>-20.38</td><td>10.98</td><td>S</td><td>0.18</td><td>0.05</td><td>1.80$\\pm$0.10</td></tr>\n",
       "<tr><td>32</td><td>1-351790</td><td>121.147926</td><td>50.708557</td><td>0.0227</td><td>-18.09</td><td>9.92</td><td>E</td><td>0.39</td><td>0.02</td><td>1.72$\\pm$0.03</td></tr>\n",
       "<tr><td>33</td><td>1-163831</td><td>118.627846</td><td>25.815987</td><td>0.0631</td><td>-20.84</td><td>11.26</td><td>S</td><td>0.27</td><td>0.05</td><td>1.67$\\pm$0.13</td></tr>\n",
       "<tr><td>34</td><td>1-22301</td><td>253.405563</td><td>63.031269</td><td>0.1052</td><td>-21.19</td><td>11.18</td><td>S</td><td>0.29</td><td>0.08</td><td>1.67$\\pm$0.23</td></tr>\n",
       "<tr><td>35</td><td>1-248420</td><td>241.823395</td><td>41.403603</td><td>0.0346</td><td>-19.71</td><td>10.9</td><td>S</td><td>0.21</td><td>0.07</td><td>1.66$\\pm$0.06</td></tr>\n",
       "<tr><td>36</td><td>1-23979</td><td>258.158752</td><td>57.322422</td><td>0.0266</td><td>-18.27</td><td>10.42</td><td>E</td><td>0.44</td><td>0.06</td><td>1.60$\\pm$0.05</td></tr>\n",
       "<tr><td>37</td><td>1-542318</td><td>245.248306</td><td>49.001778</td><td>0.0582</td><td>-19.75</td><td>10.91</td><td>E</td><td>0.34</td><td>0.01</td><td>1.58$\\pm$0.07</td></tr>\n",
       "<tr><td>38</td><td>1-95092</td><td>250.84642</td><td>39.806461</td><td>0.0302</td><td>-19.95</td><td>11.2</td><td>E</td><td>0.47</td><td>0.04</td><td>1.54$\\pm$0.07</td></tr>\n",
       "<tr><td>39</td><td>1-279676</td><td>173.981888</td><td>48.021458</td><td>0.0587</td><td>-19.4</td><td>10.81</td><td>--</td><td>0.32</td><td>0.02</td><td>1.52$\\pm$0.14</td></tr>\n",
       "<tr><td>40</td><td>1-201561</td><td>118.053215</td><td>28.772579</td><td>0.0637</td><td>-19.73</td><td>10.88</td><td>S</td><td>0.3</td><td>0.07</td><td>1.37$\\pm$0.15</td></tr>\n",
       "<tr><td>41</td><td>1-198182</td><td>224.749649</td><td>48.409855</td><td>0.0359</td><td>-20.22</td><td>11.09</td><td>E</td><td>0.49</td><td>0.01</td><td>1.34$\\pm$0.11</td></tr>\n",
       "<tr><td>42</td><td>1-96075</td><td>253.946381</td><td>39.310535</td><td>0.0631</td><td>-21.12</td><td>11.35</td><td>S</td><td>0.29</td><td>0.07</td><td>1.26$\\pm$0.13</td></tr>\n",
       "<tr><td>43</td><td>1-519742</td><td>206.612457</td><td>22.076742</td><td>0.0276</td><td>-17.62</td><td>9.64</td><td>S</td><td>0.23</td><td>0.04</td><td>1.19$\\pm$0.03</td></tr>\n",
       "<tr><td>44</td><td>1-491229</td><td>172.607544</td><td>22.21653</td><td>0.0393</td><td>-20.25</td><td>11.12</td><td>E</td><td>0.51</td><td>0.02</td><td>1.14$\\pm$0.11</td></tr>\n",
       "<tr><td>45</td><td>1-604761</td><td>113.472275</td><td>37.025906</td><td>0.0618</td><td>-20.92</td><td>11.34</td><td>S</td><td>0.26</td><td>0.12</td><td>1.00$\\pm$0.13</td></tr>\n",
       "<tr><td>46</td><td>1-25725</td><td>262.996735</td><td>59.971638</td><td>0.0291</td><td>-18.3</td><td>10.55</td><td>E</td><td>0.44</td><td>0.04</td><td>0.92$\\pm$0.05</td></tr>\n",
       "<tr><td>47</td><td>1-94604</td><td>251.335938</td><td>42.75779</td><td>0.0493</td><td>-19.44</td><td>10.52</td><td>S</td><td>0.37</td><td>0.01</td><td>0.86$\\pm$0.07</td></tr>\n",
       "<tr><td>48</td><td>1-37036</td><td>41.699909</td><td>0.421577</td><td>0.0283</td><td>-19.02</td><td>10.66</td><td>E</td><td>0.4</td><td>0.09</td><td>0.84$\\pm$0.06</td></tr>\n",
       "<tr><td>49</td><td>1-167688</td><td>155.885559</td><td>46.057755</td><td>0.0258</td><td>-17.86</td><td>9.75</td><td>E</td><td>0.52</td><td>0.04</td><td>0.84$\\pm$0.02</td></tr>\n",
       "<tr><td>50</td><td>1-279666</td><td>173.91124</td><td>47.515518</td><td>0.0455</td><td>-18.83</td><td>10.42</td><td>E</td><td>0.31</td><td>0.02</td><td>0.84$\\pm$0.07</td></tr>\n",
       "<tr><td>51</td><td>1-339163</td><td>116.280205</td><td>46.072422</td><td>0.0312</td><td>-20.02</td><td>10.97</td><td>S</td><td>0.3</td><td>0.1</td><td>0.82$\\pm$0.07</td></tr>\n",
       "<tr><td>52</td><td>1-258774</td><td>186.400864</td><td>45.083858</td><td>0.0384</td><td>-19.6</td><td>10.77</td><td>--</td><td>0.55</td><td>0.03</td><td>0.77$\\pm$0.10</td></tr>\n",
       "<tr><td>53</td><td>1-198153</td><td>224.289078</td><td>48.633968</td><td>0.0354</td><td>-19.83</td><td>11.0</td><td>S</td><td>0.27</td><td>0.07</td><td>0.76$\\pm$0.08</td></tr>\n",
       "<tr><td>54</td><td>1-91016</td><td>234.810974</td><td>56.670856</td><td>0.0463</td><td>-18.6</td><td>10.56</td><td>S</td><td>0.27</td><td>0.06</td><td>0.76$\\pm$0.09</td></tr>\n",
       "<tr><td>55</td><td>1-279073</td><td>170.58815</td><td>46.430504</td><td>0.0323</td><td>-19.53</td><td>10.79</td><td>E</td><td>0.51</td><td>0.01</td><td>0.63$\\pm$0.06</td></tr>\n",
       "<tr><td>56</td><td>1-135044</td><td>247.90799</td><td>41.493645</td><td>0.0303</td><td>-19.76</td><td>10.65</td><td>S</td><td>0.31</td><td>0.05</td><td>0.61$\\pm$0.04</td></tr>\n",
       "</table><style>table.dataTable {clear: both; width: auto !important; margin: 0 !important;}\n",
       ".dataTables_info, .dataTables_length, .dataTables_filter, .dataTables_paginate{\n",
       "display: inline-block; margin-right: 1em; }\n",
       ".paginate_button { margin-right: 5px; }\n",
       "</style>\n",
       "<script>\n",
       "\n",
       "var astropy_sort_num = function(a, b) {\n",
       "    var a_num = parseFloat(a);\n",
       "    var b_num = parseFloat(b);\n",
       "\n",
       "    if (isNaN(a_num) && isNaN(b_num))\n",
       "        return ((a < b) ? -1 : ((a > b) ? 1 : 0));\n",
       "    else if (!isNaN(a_num) && !isNaN(b_num))\n",
       "        return ((a_num < b_num) ? -1 : ((a_num > b_num) ? 1 : 0));\n",
       "    else\n",
       "        return isNaN(a_num) ? -1 : 1;\n",
       "}\n",
       "\n",
       "require.config({paths: {\n",
       "    datatables: 'https://cdn.datatables.net/1.10.12/js/jquery.dataTables.min'\n",
       "}});\n",
       "require([\"datatables\"], function(){\n",
       "    console.log(\"$('#table4677187680-741669').dataTable()\");\n",
       "    \n",
       "jQuery.extend( jQuery.fn.dataTableExt.oSort, {\n",
       "    \"optionalnum-asc\": astropy_sort_num,\n",
       "    \"optionalnum-desc\": function (a,b) { return -astropy_sort_num(a, b); }\n",
       "});\n",
       "\n",
       "    $('#table4677187680-741669').dataTable({\n",
       "        order: [],\n",
       "        pageLength: 50,\n",
       "        lengthMenu: [[10, 25, 50, 100, 500, 1000, -1], [10, 25, 50, 100, 500, 1000, 'All']],\n",
       "        pagingType: \"full_numbers\",\n",
       "        columnDefs: [{targets: [0, 2, 3, 4, 5, 6, 8, 9], type: \"optionalnum\"}]\n",
       "    });\n",
       "});\n",
       "</script>\n"
      ],
      "text/plain": [
       "<IPython.core.display.HTML object>"
      ]
     },
     "execution_count": 12,
     "metadata": {},
     "output_type": "execute_result"
    }
   ],
   "source": [
    "# Tables have several tools for convienient display.  For example, they can display interactively in a notebook!\n",
    "data.show_in_notebook()"
   ]
  },
  {
   "cell_type": "markdown",
   "metadata": {},
   "source": [
    "Astropy tables are very powerful (and thus can be somewhat complex).  They can be manipulated in numerous ways."
   ]
  },
  {
   "cell_type": "code",
   "execution_count": 13,
   "metadata": {},
   "outputs": [
    {
     "name": "stdout",
     "output_type": "stream",
     "text": [
      "<Table length=57>\n",
      "         name          dtype \n",
      "--------------------- -------\n",
      "              mangaID    str8\n",
      "                   RA float64\n",
      "                  DEC float64\n",
      "                    x float64\n",
      "                $M_r$ float64\n",
      "log $M^\\star/M_\\odot$ float64\n",
      "              GZ1$_c$    str3\n",
      "                  $C$ float64\n",
      "                  $A$ float64\n",
      "     $L(\\rm{[OIII]})$   str14\n"
     ]
    }
   ],
   "source": [
    "data.info()"
   ]
  },
  {
   "cell_type": "code",
   "execution_count": 14,
   "metadata": {},
   "outputs": [
    {
     "data": {
      "text/plain": [
       "['mangaID',\n",
       " 'RA',\n",
       " 'DEC',\n",
       " 'x',\n",
       " '$M_r$',\n",
       " 'log $M^\\\\star/M_\\\\odot$',\n",
       " 'GZ1$_c$',\n",
       " '$C$',\n",
       " '$A$',\n",
       " '$L(\\\\rm{[OIII]})$']"
      ]
     },
     "execution_count": 14,
     "metadata": {},
     "output_type": "execute_result"
    }
   ],
   "source": [
    "data.keys()"
   ]
  },
  {
   "cell_type": "code",
   "execution_count": 15,
   "metadata": {
    "collapsed": true
   },
   "outputs": [],
   "source": [
    "# Let's clean up some of those column names to remove the LaTeX\n",
    "data['$M_r$'].name = 'M_r'\n",
    "data['log $M^\\star/M_\\odot$'].name = 'log M/M_o'\n",
    "data['GZ1$_c$'].name = 'GZ1_c'\n",
    "data['$C$'].name = 'C'\n",
    "data['$A$'].name = 'A'\n",
    "data['$L(\\\\rm{[OIII]})$'].name = 'L_OIII'"
   ]
  },
  {
   "cell_type": "code",
   "execution_count": 16,
   "metadata": {},
   "outputs": [
    {
     "name": "stdout",
     "output_type": "stream",
     "text": [
      "<Table length=57>\n",
      "   name    dtype \n",
      "--------- -------\n",
      "  mangaID    str8\n",
      "       RA float64\n",
      "      DEC float64\n",
      "        x float64\n",
      "      M_r float64\n",
      "log M/M_o float64\n",
      "    GZ1_c    str3\n",
      "        C float64\n",
      "        A float64\n",
      "   L_OIII   str14\n"
     ]
    }
   ],
   "source": [
    "data.info()"
   ]
  },
  {
   "cell_type": "markdown",
   "metadata": {},
   "source": [
    "### Using Tables\n",
    "\n",
    "Let's try to do some calculations with the data in the above table.\n",
    "\n",
    "First, what if we wanted to sum all the A values for those objects which have a C value above 0.45?  We can index tables with a boolean array that would pick out the rows we want."
   ]
  },
  {
   "cell_type": "code",
   "execution_count": 17,
   "metadata": {},
   "outputs": [
    {
     "data": {
      "text/plain": [
       "array([False,  True,  True, False, False,  True, False, False, False,\n",
       "       False, False, False,  True, False, False, False, False, False,\n",
       "        True, False, False, False, False, False, False,  True, False,\n",
       "       False, False, False, False, False, False, False, False, False,\n",
       "       False, False,  True, False, False,  True, False, False,  True,\n",
       "       False, False, False, False,  True, False, False,  True, False,\n",
       "       False,  True, False], dtype=bool)"
      ]
     },
     "execution_count": 17,
     "metadata": {},
     "output_type": "execute_result"
    }
   ],
   "source": [
    "data['C'] > 0.45"
   ]
  },
  {
   "cell_type": "code",
   "execution_count": 18,
   "metadata": {},
   "outputs": [
    {
     "data": {
      "text/html": [
       "&lt;Table length=12&gt;\n",
       "<table id=\"table4677328008\" class=\"table-striped table-bordered table-condensed\">\n",
       "<thead><tr><th>mangaID</th><th>RA</th><th>DEC</th><th>x</th><th>M_r</th><th>log M/M_o</th><th>GZ1_c</th><th>C</th><th>A</th><th>L_OIII</th></tr></thead>\n",
       "<thead><tr><th>str8</th><th>float64</th><th>float64</th><th>float64</th><th>float64</th><th>float64</th><th>str3</th><th>float64</th><th>float64</th><th>str14</th></tr></thead>\n",
       "<tr><td>1-269632</td><td>247.560974</td><td>26.206474</td><td>0.1315</td><td>-21.78</td><td>11.62</td><td>S</td><td>0.47</td><td>0.05</td><td>30.08$\\pm$1.69</td></tr>\n",
       "<tr><td>1-258599</td><td>186.181</td><td>44.41077</td><td>0.1256</td><td>-21.24</td><td>11.68</td><td>E</td><td>0.5</td><td>0.11</td><td>20.95$\\pm$0.67</td></tr>\n",
       "<tr><td>1-209980</td><td>240.470871</td><td>45.35194</td><td>0.042</td><td>-19.7</td><td>10.79</td><td>S</td><td>0.57</td><td>0.04</td><td>11.01$\\pm$0.17</td></tr>\n",
       "<tr><td>1-92866</td><td>243.581818</td><td>50.465611</td><td>0.0603</td><td>-20.56</td><td>11.69</td><td>E</td><td>0.49</td><td>0.05</td><td>6.12$\\pm$0.30</td></tr>\n",
       "<tr><td>1-256446</td><td>166.509872</td><td>43.173473</td><td>0.0584</td><td>-19.4</td><td>11.14</td><td>E</td><td>0.49</td><td>0.05</td><td>3.74$\\pm$0.15</td></tr>\n",
       "<tr><td>1-248389</td><td>240.658051</td><td>41.293427</td><td>0.0348</td><td>-19.36</td><td>10.57</td><td>S</td><td>0.49</td><td>0.12</td><td>2.55$\\pm$0.09</td></tr>\n",
       "<tr><td>1-95092</td><td>250.84642</td><td>39.806461</td><td>0.0302</td><td>-19.95</td><td>11.2</td><td>E</td><td>0.47</td><td>0.04</td><td>1.54$\\pm$0.07</td></tr>\n",
       "<tr><td>1-198182</td><td>224.749649</td><td>48.409855</td><td>0.0359</td><td>-20.22</td><td>11.09</td><td>E</td><td>0.49</td><td>0.01</td><td>1.34$\\pm$0.11</td></tr>\n",
       "<tr><td>1-491229</td><td>172.607544</td><td>22.21653</td><td>0.0393</td><td>-20.25</td><td>11.12</td><td>E</td><td>0.51</td><td>0.02</td><td>1.14$\\pm$0.11</td></tr>\n",
       "<tr><td>1-167688</td><td>155.885559</td><td>46.057755</td><td>0.0258</td><td>-17.86</td><td>9.75</td><td>E</td><td>0.52</td><td>0.04</td><td>0.84$\\pm$0.02</td></tr>\n",
       "<tr><td>1-258774</td><td>186.400864</td><td>45.083858</td><td>0.0384</td><td>-19.6</td><td>10.77</td><td>--</td><td>0.55</td><td>0.03</td><td>0.77$\\pm$0.10</td></tr>\n",
       "<tr><td>1-279073</td><td>170.58815</td><td>46.430504</td><td>0.0323</td><td>-19.53</td><td>10.79</td><td>E</td><td>0.51</td><td>0.01</td><td>0.63$\\pm$0.06</td></tr>\n",
       "</table>"
      ],
      "text/plain": [
       "<Table length=12>\n",
       "mangaID      RA        DEC       x    ... GZ1_c    C       A        L_OIII    \n",
       "  str8    float64    float64  float64 ...  str3 float64 float64     str14     \n",
       "-------- ---------- --------- ------- ... ----- ------- ------- --------------\n",
       "1-269632 247.560974 26.206474  0.1315 ...     S    0.47    0.05 30.08$\\pm$1.69\n",
       "1-258599    186.181  44.41077  0.1256 ...     E     0.5    0.11 20.95$\\pm$0.67\n",
       "1-209980 240.470871  45.35194   0.042 ...     S    0.57    0.04 11.01$\\pm$0.17\n",
       " 1-92866 243.581818 50.465611  0.0603 ...     E    0.49    0.05  6.12$\\pm$0.30\n",
       "1-256446 166.509872 43.173473  0.0584 ...     E    0.49    0.05  3.74$\\pm$0.15\n",
       "1-248389 240.658051 41.293427  0.0348 ...     S    0.49    0.12  2.55$\\pm$0.09\n",
       " 1-95092  250.84642 39.806461  0.0302 ...     E    0.47    0.04  1.54$\\pm$0.07\n",
       "1-198182 224.749649 48.409855  0.0359 ...     E    0.49    0.01  1.34$\\pm$0.11\n",
       "1-491229 172.607544  22.21653  0.0393 ...     E    0.51    0.02  1.14$\\pm$0.11\n",
       "1-167688 155.885559 46.057755  0.0258 ...     E    0.52    0.04  0.84$\\pm$0.02\n",
       "1-258774 186.400864 45.083858  0.0384 ...    --    0.55    0.03  0.77$\\pm$0.10\n",
       "1-279073  170.58815 46.430504  0.0323 ...     E    0.51    0.01  0.63$\\pm$0.06"
      ]
     },
     "execution_count": 18,
     "metadata": {},
     "output_type": "execute_result"
    }
   ],
   "source": [
    "data[data['C'] > 0.45]"
   ]
  },
  {
   "cell_type": "code",
   "execution_count": 19,
   "metadata": {},
   "outputs": [
    {
     "data": {
      "text/html": [
       "&lt;Column name=&apos;A&apos; dtype=&apos;float64&apos; length=12&gt;\n",
       "<table>\n",
       "<tr><td>0.05</td></tr>\n",
       "<tr><td>0.11</td></tr>\n",
       "<tr><td>0.04</td></tr>\n",
       "<tr><td>0.05</td></tr>\n",
       "<tr><td>0.05</td></tr>\n",
       "<tr><td>0.12</td></tr>\n",
       "<tr><td>0.04</td></tr>\n",
       "<tr><td>0.01</td></tr>\n",
       "<tr><td>0.02</td></tr>\n",
       "<tr><td>0.04</td></tr>\n",
       "<tr><td>0.03</td></tr>\n",
       "<tr><td>0.01</td></tr>\n",
       "</table>"
      ],
      "text/plain": [
       "<Column name='A' dtype='float64' length=12>\n",
       "0.05\n",
       "0.11\n",
       "0.04\n",
       "0.05\n",
       "0.05\n",
       "0.12\n",
       "0.04\n",
       "0.01\n",
       "0.02\n",
       "0.04\n",
       "0.03\n",
       "0.01"
      ]
     },
     "execution_count": 19,
     "metadata": {},
     "output_type": "execute_result"
    }
   ],
   "source": [
    "data[data['C'] > 0.45]['A']"
   ]
  },
  {
   "cell_type": "code",
   "execution_count": 20,
   "metadata": {},
   "outputs": [
    {
     "data": {
      "text/plain": [
       "0.57000000000000006"
      ]
     },
     "execution_count": 20,
     "metadata": {},
     "output_type": "execute_result"
    }
   ],
   "source": [
    "sum(data[data['C'] > 0.45]['A'])"
   ]
  },
  {
   "cell_type": "code",
   "execution_count": 21,
   "metadata": {},
   "outputs": [
    {
     "data": {
      "text/plain": [
       "0.047500000000000007"
      ]
     },
     "execution_count": 21,
     "metadata": {},
     "output_type": "execute_result"
    }
   ],
   "source": [
    "import numpy as np\n",
    "np.mean(data[data['C'] > 0.45]['A'])"
   ]
  },
  {
   "cell_type": "code",
   "execution_count": 22,
   "metadata": {},
   "outputs": [
    {
     "data": {
      "text/plain": [
       "0.040000000000000001"
      ]
     },
     "execution_count": 22,
     "metadata": {},
     "output_type": "execute_result"
    }
   ],
   "source": [
    "np.median(data[data['C'] > 0.45]['A'])"
   ]
  },
  {
   "cell_type": "code",
   "execution_count": 23,
   "metadata": {},
   "outputs": [
    {
     "data": {
      "text/plain": [
       "0.033197640478403484"
      ]
     },
     "execution_count": 23,
     "metadata": {},
     "output_type": "execute_result"
    }
   ],
   "source": [
    "np.std((data[data['C'] > 0.45]['A']))"
   ]
  },
  {
   "cell_type": "markdown",
   "metadata": {},
   "source": [
    "I can also select out groups using the `group_by` method."
   ]
  },
  {
   "cell_type": "code",
   "execution_count": 24,
   "metadata": {
    "collapsed": true
   },
   "outputs": [],
   "source": [
    "byGZ1_c = data.group_by('GZ1_c')"
   ]
  },
  {
   "cell_type": "code",
   "execution_count": 25,
   "metadata": {},
   "outputs": [
    {
     "data": {
      "text/html": [
       "&lt;Table length=6&gt;\n",
       "<table id=\"table4677361616\" class=\"table-striped table-bordered table-condensed\">\n",
       "<thead><tr><th>mangaID</th><th>RA</th><th>DEC</th><th>x</th><th>M_r</th><th>log M/M_o</th><th>GZ1_c</th><th>C</th><th>A</th><th>L_OIII</th></tr></thead>\n",
       "<thead><tr><th>str8</th><th>float64</th><th>float64</th><th>float64</th><th>float64</th><th>float64</th><th>str3</th><th>float64</th><th>float64</th><th>str14</th></tr></thead>\n",
       "<tr><td>1-558912</td><td>166.12941</td><td>42.624554</td><td>0.1261</td><td>-20.46</td><td>11.25</td><td>--</td><td>0.37</td><td>0.12</td><td>56.82$\\pm$1.25</td></tr>\n",
       "<tr><td>1-460812</td><td>127.170799</td><td>17.5814</td><td>0.0665</td><td>-19.81</td><td>11.44</td><td>--</td><td>0.38</td><td>0.05</td><td>6.46$\\pm$0.31</td></tr>\n",
       "<tr><td>1-109056</td><td>39.446587</td><td>0.405085</td><td>0.0473</td><td>-19.27</td><td>10.57</td><td>--</td><td>0.32</td><td>0.05</td><td>3.24$\\pm$0.08</td></tr>\n",
       "<tr><td>1-229010</td><td>57.243038</td><td>-1.144831</td><td>0.0407</td><td>-20.51</td><td>11.46</td><td>--</td><td>0.41</td><td>0.03</td><td>2.11$\\pm$0.09</td></tr>\n",
       "<tr><td>1-279676</td><td>173.981888</td><td>48.021458</td><td>0.0587</td><td>-19.4</td><td>10.81</td><td>--</td><td>0.32</td><td>0.02</td><td>1.52$\\pm$0.14</td></tr>\n",
       "<tr><td>1-258774</td><td>186.400864</td><td>45.083858</td><td>0.0384</td><td>-19.6</td><td>10.77</td><td>--</td><td>0.55</td><td>0.03</td><td>0.77$\\pm$0.10</td></tr>\n",
       "</table>"
      ],
      "text/plain": [
       "<Table length=6>\n",
       "mangaID      RA        DEC       x    ... GZ1_c    C       A        L_OIII    \n",
       "  str8    float64    float64  float64 ...  str3 float64 float64     str14     \n",
       "-------- ---------- --------- ------- ... ----- ------- ------- --------------\n",
       "1-558912  166.12941 42.624554  0.1261 ...    --    0.37    0.12 56.82$\\pm$1.25\n",
       "1-460812 127.170799   17.5814  0.0665 ...    --    0.38    0.05  6.46$\\pm$0.31\n",
       "1-109056  39.446587  0.405085  0.0473 ...    --    0.32    0.05  3.24$\\pm$0.08\n",
       "1-229010  57.243038 -1.144831  0.0407 ...    --    0.41    0.03  2.11$\\pm$0.09\n",
       "1-279676 173.981888 48.021458  0.0587 ...    --    0.32    0.02  1.52$\\pm$0.14\n",
       "1-258774 186.400864 45.083858  0.0384 ...    --    0.55    0.03  0.77$\\pm$0.10"
      ]
     },
     "execution_count": 25,
     "metadata": {},
     "output_type": "execute_result"
    }
   ],
   "source": [
    "# The output is the same table, but which now has `.groups` property.\n",
    "# Let's see what is in the zeroth group\n",
    "byGZ1_c.groups[0]"
   ]
  },
  {
   "cell_type": "code",
   "execution_count": 26,
   "metadata": {},
   "outputs": [
    {
     "data": {
      "text/html": [
       "&lt;Table length=17&gt;\n",
       "<table id=\"table4677358984\" class=\"table-striped table-bordered table-condensed\">\n",
       "<thead><tr><th>mangaID</th><th>RA</th><th>DEC</th><th>x</th><th>M_r</th><th>log M/M_o</th><th>GZ1_c</th><th>C</th><th>A</th><th>L_OIII</th></tr></thead>\n",
       "<thead><tr><th>str8</th><th>float64</th><th>float64</th><th>float64</th><th>float64</th><th>float64</th><th>str3</th><th>float64</th><th>float64</th><th>str14</th></tr></thead>\n",
       "<tr><td>1-258599</td><td>186.181</td><td>44.41077</td><td>0.1256</td><td>-21.24</td><td>11.68</td><td>E</td><td>0.5</td><td>0.11</td><td>20.95$\\pm$0.67</td></tr>\n",
       "<tr><td>1-121532</td><td>118.09111</td><td>34.326569</td><td>0.14</td><td>-20.51</td><td>11.34</td><td>E</td><td>0.33</td><td>0.05</td><td>11.68$\\pm$0.96</td></tr>\n",
       "<tr><td>1-92866</td><td>243.581818</td><td>50.465611</td><td>0.0603</td><td>-20.56</td><td>11.69</td><td>E</td><td>0.49</td><td>0.05</td><td>6.12$\\pm$0.30</td></tr>\n",
       "<tr><td>1-339094</td><td>117.47242</td><td>45.248482</td><td>0.0313</td><td>-19.02</td><td>10.52</td><td>E</td><td>0.36</td><td>0.03</td><td>5.29$\\pm$0.09</td></tr>\n",
       "<tr><td>1-256446</td><td>166.509872</td><td>43.173473</td><td>0.0584</td><td>-19.4</td><td>11.14</td><td>E</td><td>0.49</td><td>0.05</td><td>3.74$\\pm$0.15</td></tr>\n",
       "<tr><td>1-373161</td><td>222.810074</td><td>30.692245</td><td>0.0547</td><td>-21.3</td><td>11.6</td><td>E</td><td>0.43</td><td>0.0</td><td>1.87$\\pm$0.11</td></tr>\n",
       "<tr><td>1-351790</td><td>121.147926</td><td>50.708557</td><td>0.0227</td><td>-18.09</td><td>9.92</td><td>E</td><td>0.39</td><td>0.02</td><td>1.72$\\pm$0.03</td></tr>\n",
       "<tr><td>1-23979</td><td>258.158752</td><td>57.322422</td><td>0.0266</td><td>-18.27</td><td>10.42</td><td>E</td><td>0.44</td><td>0.06</td><td>1.60$\\pm$0.05</td></tr>\n",
       "<tr><td>1-542318</td><td>245.248306</td><td>49.001778</td><td>0.0582</td><td>-19.75</td><td>10.91</td><td>E</td><td>0.34</td><td>0.01</td><td>1.58$\\pm$0.07</td></tr>\n",
       "<tr><td>1-95092</td><td>250.84642</td><td>39.806461</td><td>0.0302</td><td>-19.95</td><td>11.2</td><td>E</td><td>0.47</td><td>0.04</td><td>1.54$\\pm$0.07</td></tr>\n",
       "<tr><td>1-198182</td><td>224.749649</td><td>48.409855</td><td>0.0359</td><td>-20.22</td><td>11.09</td><td>E</td><td>0.49</td><td>0.01</td><td>1.34$\\pm$0.11</td></tr>\n",
       "<tr><td>1-491229</td><td>172.607544</td><td>22.21653</td><td>0.0393</td><td>-20.25</td><td>11.12</td><td>E</td><td>0.51</td><td>0.02</td><td>1.14$\\pm$0.11</td></tr>\n",
       "<tr><td>1-25725</td><td>262.996735</td><td>59.971638</td><td>0.0291</td><td>-18.3</td><td>10.55</td><td>E</td><td>0.44</td><td>0.04</td><td>0.92$\\pm$0.05</td></tr>\n",
       "<tr><td>1-37036</td><td>41.699909</td><td>0.421577</td><td>0.0283</td><td>-19.02</td><td>10.66</td><td>E</td><td>0.4</td><td>0.09</td><td>0.84$\\pm$0.06</td></tr>\n",
       "<tr><td>1-167688</td><td>155.885559</td><td>46.057755</td><td>0.0258</td><td>-17.86</td><td>9.75</td><td>E</td><td>0.52</td><td>0.04</td><td>0.84$\\pm$0.02</td></tr>\n",
       "<tr><td>1-279666</td><td>173.91124</td><td>47.515518</td><td>0.0455</td><td>-18.83</td><td>10.42</td><td>E</td><td>0.31</td><td>0.02</td><td>0.84$\\pm$0.07</td></tr>\n",
       "<tr><td>1-279073</td><td>170.58815</td><td>46.430504</td><td>0.0323</td><td>-19.53</td><td>10.79</td><td>E</td><td>0.51</td><td>0.01</td><td>0.63$\\pm$0.06</td></tr>\n",
       "</table>"
      ],
      "text/plain": [
       "<Table length=17>\n",
       "mangaID      RA        DEC       x    ... GZ1_c    C       A        L_OIII    \n",
       "  str8    float64    float64  float64 ...  str3 float64 float64     str14     \n",
       "-------- ---------- --------- ------- ... ----- ------- ------- --------------\n",
       "1-258599    186.181  44.41077  0.1256 ...     E     0.5    0.11 20.95$\\pm$0.67\n",
       "1-121532  118.09111 34.326569    0.14 ...     E    0.33    0.05 11.68$\\pm$0.96\n",
       " 1-92866 243.581818 50.465611  0.0603 ...     E    0.49    0.05  6.12$\\pm$0.30\n",
       "1-339094  117.47242 45.248482  0.0313 ...     E    0.36    0.03  5.29$\\pm$0.09\n",
       "1-256446 166.509872 43.173473  0.0584 ...     E    0.49    0.05  3.74$\\pm$0.15\n",
       "1-373161 222.810074 30.692245  0.0547 ...     E    0.43     0.0  1.87$\\pm$0.11\n",
       "1-351790 121.147926 50.708557  0.0227 ...     E    0.39    0.02  1.72$\\pm$0.03\n",
       " 1-23979 258.158752 57.322422  0.0266 ...     E    0.44    0.06  1.60$\\pm$0.05\n",
       "1-542318 245.248306 49.001778  0.0582 ...     E    0.34    0.01  1.58$\\pm$0.07\n",
       " 1-95092  250.84642 39.806461  0.0302 ...     E    0.47    0.04  1.54$\\pm$0.07\n",
       "1-198182 224.749649 48.409855  0.0359 ...     E    0.49    0.01  1.34$\\pm$0.11\n",
       "1-491229 172.607544  22.21653  0.0393 ...     E    0.51    0.02  1.14$\\pm$0.11\n",
       " 1-25725 262.996735 59.971638  0.0291 ...     E    0.44    0.04  0.92$\\pm$0.05\n",
       " 1-37036  41.699909  0.421577  0.0283 ...     E     0.4    0.09  0.84$\\pm$0.06\n",
       "1-167688 155.885559 46.057755  0.0258 ...     E    0.52    0.04  0.84$\\pm$0.02\n",
       "1-279666  173.91124 47.515518  0.0455 ...     E    0.31    0.02  0.84$\\pm$0.07\n",
       "1-279073  170.58815 46.430504  0.0323 ...     E    0.51    0.01  0.63$\\pm$0.06"
      ]
     },
     "execution_count": 26,
     "metadata": {},
     "output_type": "execute_result"
    }
   ],
   "source": [
    "# Let's see what is in the first group\n",
    "byGZ1_c.groups[1]"
   ]
  },
  {
   "cell_type": "code",
   "execution_count": 27,
   "metadata": {},
   "outputs": [
    {
     "data": {
      "text/html": [
       "&lt;Table length=5&gt;\n",
       "<table id=\"table4677357696\" class=\"table-striped table-bordered table-condensed\">\n",
       "<thead><tr><th>GZ1_c</th></tr></thead>\n",
       "<thead><tr><th>str3</th></tr></thead>\n",
       "<tr><td>--</td></tr>\n",
       "<tr><td>E</td></tr>\n",
       "<tr><td>E/S</td></tr>\n",
       "<tr><td>M</td></tr>\n",
       "<tr><td>S</td></tr>\n",
       "</table>"
      ],
      "text/plain": [
       "<Table length=5>\n",
       "GZ1_c\n",
       " str3\n",
       "-----\n",
       "   --\n",
       "    E\n",
       "  E/S\n",
       "    M\n",
       "    S"
      ]
     },
     "execution_count": 27,
     "metadata": {},
     "output_type": "execute_result"
    }
   ],
   "source": [
    "# The info about which group has which value of GZ1_c is in the `.keys` property.\n",
    "byGZ1_c.groups.keys"
   ]
  },
  {
   "cell_type": "code",
   "execution_count": 28,
   "metadata": {},
   "outputs": [
    {
     "data": {
      "text/plain": [
       "array([False, False, False, False,  True], dtype=bool)"
      ]
     },
     "execution_count": 28,
     "metadata": {},
     "output_type": "execute_result"
    }
   ],
   "source": [
    "# We can find out which elements of the keys `Column` are equal to the one we are interested in:\n",
    "byGZ1_c.groups.keys['GZ1_c'] == 'S'"
   ]
  },
  {
   "cell_type": "code",
   "execution_count": 29,
   "metadata": {},
   "outputs": [
    {
     "data": {
      "text/html": [
       "&lt;Table length=31&gt;\n",
       "<table id=\"table4677454648\" class=\"table-striped table-bordered table-condensed\">\n",
       "<thead><tr><th>mangaID</th><th>RA</th><th>DEC</th><th>x</th><th>M_r</th><th>log M/M_o</th><th>GZ1_c</th><th>C</th><th>A</th><th>L_OIII</th></tr></thead>\n",
       "<thead><tr><th>str8</th><th>float64</th><th>float64</th><th>float64</th><th>float64</th><th>float64</th><th>str3</th><th>float64</th><th>float64</th><th>str14</th></tr></thead>\n",
       "<tr><td>1-269632</td><td>247.560974</td><td>26.206474</td><td>0.1315</td><td>-21.78</td><td>11.62</td><td>S</td><td>0.47</td><td>0.05</td><td>30.08$\\pm$1.69</td></tr>\n",
       "<tr><td>1-72322</td><td>121.014198</td><td>40.802612</td><td>0.1262</td><td>-21.81</td><td>12.05</td><td>S</td><td>0.34</td><td>0.08</td><td>20.66$\\pm$0.43</td></tr>\n",
       "<tr><td>1-209980</td><td>240.470871</td><td>45.35194</td><td>0.042</td><td>-19.7</td><td>10.79</td><td>S</td><td>0.57</td><td>0.04</td><td>11.01$\\pm$0.17</td></tr>\n",
       "<tr><td>1-44379</td><td>120.700706</td><td>45.034554</td><td>0.0389</td><td>-19.89</td><td>10.97</td><td>S</td><td>0.24</td><td>0.06</td><td>8.94$\\pm$0.14</td></tr>\n",
       "<tr><td>1-149211</td><td>168.9478</td><td>50.401634</td><td>0.0473</td><td>-18.27</td><td>10.16</td><td>S</td><td>0.29</td><td>0.03</td><td>7.88$\\pm$0.14</td></tr>\n",
       "<tr><td>1-173958</td><td>167.306015</td><td>49.519432</td><td>0.0724</td><td>-20.53</td><td>11.31</td><td>S</td><td>0.33</td><td>0.06</td><td>6.79$\\pm$0.30</td></tr>\n",
       "<tr><td>1-279147</td><td>168.957733</td><td>46.319565</td><td>0.0533</td><td>-19.51</td><td>10.66</td><td>S</td><td>0.45</td><td>0.03</td><td>6.77$\\pm$0.20</td></tr>\n",
       "<tr><td>1-94784</td><td>249.31842</td><td>44.418228</td><td>0.0314</td><td>-20.06</td><td>10.85</td><td>S</td><td>0.42</td><td>0.03</td><td>5.96$\\pm$0.12</td></tr>\n",
       "<tr><td>1-44303</td><td>119.182152</td><td>44.856709</td><td>0.0499</td><td>-19.72</td><td>10.62</td><td>S</td><td>0.29</td><td>0.1</td><td>5.56$\\pm$0.12</td></tr>\n",
       "<tr><td>1-48116</td><td>132.653992</td><td>57.359669</td><td>0.0261</td><td>-19.18</td><td>10.6</td><td>S</td><td>0.31</td><td>0.06</td><td>3.79$\\pm$0.08</td></tr>\n",
       "<tr><td>...</td><td>...</td><td>...</td><td>...</td><td>...</td><td>...</td><td>...</td><td>...</td><td>...</td><td>...</td></tr>\n",
       "<tr><td>1-248420</td><td>241.823395</td><td>41.403603</td><td>0.0346</td><td>-19.71</td><td>10.9</td><td>S</td><td>0.21</td><td>0.07</td><td>1.66$\\pm$0.06</td></tr>\n",
       "<tr><td>1-201561</td><td>118.053215</td><td>28.772579</td><td>0.0637</td><td>-19.73</td><td>10.88</td><td>S</td><td>0.3</td><td>0.07</td><td>1.37$\\pm$0.15</td></tr>\n",
       "<tr><td>1-96075</td><td>253.946381</td><td>39.310535</td><td>0.0631</td><td>-21.12</td><td>11.35</td><td>S</td><td>0.29</td><td>0.07</td><td>1.26$\\pm$0.13</td></tr>\n",
       "<tr><td>1-519742</td><td>206.612457</td><td>22.076742</td><td>0.0276</td><td>-17.62</td><td>9.64</td><td>S</td><td>0.23</td><td>0.04</td><td>1.19$\\pm$0.03</td></tr>\n",
       "<tr><td>1-604761</td><td>113.472275</td><td>37.025906</td><td>0.0618</td><td>-20.92</td><td>11.34</td><td>S</td><td>0.26</td><td>0.12</td><td>1.00$\\pm$0.13</td></tr>\n",
       "<tr><td>1-94604</td><td>251.335938</td><td>42.75779</td><td>0.0493</td><td>-19.44</td><td>10.52</td><td>S</td><td>0.37</td><td>0.01</td><td>0.86$\\pm$0.07</td></tr>\n",
       "<tr><td>1-339163</td><td>116.280205</td><td>46.072422</td><td>0.0312</td><td>-20.02</td><td>10.97</td><td>S</td><td>0.3</td><td>0.1</td><td>0.82$\\pm$0.07</td></tr>\n",
       "<tr><td>1-198153</td><td>224.289078</td><td>48.633968</td><td>0.0354</td><td>-19.83</td><td>11.0</td><td>S</td><td>0.27</td><td>0.07</td><td>0.76$\\pm$0.08</td></tr>\n",
       "<tr><td>1-91016</td><td>234.810974</td><td>56.670856</td><td>0.0463</td><td>-18.6</td><td>10.56</td><td>S</td><td>0.27</td><td>0.06</td><td>0.76$\\pm$0.09</td></tr>\n",
       "<tr><td>1-135044</td><td>247.90799</td><td>41.493645</td><td>0.0303</td><td>-19.76</td><td>10.65</td><td>S</td><td>0.31</td><td>0.05</td><td>0.61$\\pm$0.04</td></tr>\n",
       "</table>"
      ],
      "text/plain": [
       "<Table length=31>\n",
       "mangaID      RA        DEC       x    ... GZ1_c    C       A        L_OIII    \n",
       "  str8    float64    float64  float64 ...  str3 float64 float64     str14     \n",
       "-------- ---------- --------- ------- ... ----- ------- ------- --------------\n",
       "1-269632 247.560974 26.206474  0.1315 ...     S    0.47    0.05 30.08$\\pm$1.69\n",
       " 1-72322 121.014198 40.802612  0.1262 ...     S    0.34    0.08 20.66$\\pm$0.43\n",
       "1-209980 240.470871  45.35194   0.042 ...     S    0.57    0.04 11.01$\\pm$0.17\n",
       " 1-44379 120.700706 45.034554  0.0389 ...     S    0.24    0.06  8.94$\\pm$0.14\n",
       "1-149211   168.9478 50.401634  0.0473 ...     S    0.29    0.03  7.88$\\pm$0.14\n",
       "1-173958 167.306015 49.519432  0.0724 ...     S    0.33    0.06  6.79$\\pm$0.30\n",
       "1-279147 168.957733 46.319565  0.0533 ...     S    0.45    0.03  6.77$\\pm$0.20\n",
       " 1-94784  249.31842 44.418228  0.0314 ...     S    0.42    0.03  5.96$\\pm$0.12\n",
       " 1-44303 119.182152 44.856709  0.0499 ...     S    0.29     0.1  5.56$\\pm$0.12\n",
       " 1-48116 132.653992 57.359669  0.0261 ...     S    0.31    0.06  3.79$\\pm$0.08\n",
       "     ...        ...       ...     ... ...   ...     ...     ...            ...\n",
       "1-248420 241.823395 41.403603  0.0346 ...     S    0.21    0.07  1.66$\\pm$0.06\n",
       "1-201561 118.053215 28.772579  0.0637 ...     S     0.3    0.07  1.37$\\pm$0.15\n",
       " 1-96075 253.946381 39.310535  0.0631 ...     S    0.29    0.07  1.26$\\pm$0.13\n",
       "1-519742 206.612457 22.076742  0.0276 ...     S    0.23    0.04  1.19$\\pm$0.03\n",
       "1-604761 113.472275 37.025906  0.0618 ...     S    0.26    0.12  1.00$\\pm$0.13\n",
       " 1-94604 251.335938  42.75779  0.0493 ...     S    0.37    0.01  0.86$\\pm$0.07\n",
       "1-339163 116.280205 46.072422  0.0312 ...     S     0.3     0.1  0.82$\\pm$0.07\n",
       "1-198153 224.289078 48.633968  0.0354 ...     S    0.27    0.07  0.76$\\pm$0.08\n",
       " 1-91016 234.810974 56.670856  0.0463 ...     S    0.27    0.06  0.76$\\pm$0.09\n",
       "1-135044  247.90799 41.493645  0.0303 ...     S    0.31    0.05  0.61$\\pm$0.04"
      ]
     },
     "execution_count": 29,
     "metadata": {},
     "output_type": "execute_result"
    }
   ],
   "source": [
    "# Therefore if I want to examine those rows of the table which have GZ1_c == S:\n",
    "byGZ1_c.groups[byGZ1_c.groups.keys['GZ1_c'] == 'S']"
   ]
  },
  {
   "cell_type": "markdown",
   "metadata": {},
   "source": [
    "### Editing Tables\n",
    "\n",
    "There are times when you want to edit data in a Table.  For example, in the table above the `L_OIII` column is a string which is inconvienient.\n",
    "\n",
    "We want to split out the value and the uncertainty."
   ]
  },
  {
   "cell_type": "code",
   "execution_count": 30,
   "metadata": {},
   "outputs": [
    {
     "data": {
      "text/plain": [
       "'56.82$\\\\pm$1.25'"
      ]
     },
     "execution_count": 30,
     "metadata": {},
     "output_type": "execute_result"
    }
   ],
   "source": [
    "# First I want figiure out how to get the values.  I get those by using the `.split` method on the string.\n",
    "# An example of the content of a cell is:\n",
    "data['L_OIII'][0]"
   ]
  },
  {
   "cell_type": "code",
   "execution_count": 31,
   "metadata": {
    "collapsed": true
   },
   "outputs": [],
   "source": [
    "# So I want to split on the \"$\\\\pm$\" LaTeX string.\n",
    "# Using list comprehension I would do that like this:\n",
    "L_OIII_value = [x.split(\"$\\\\pm$\")[0] for x in data['L_OIII']]\n",
    "\n",
    "# but that just fives me another string, so I need to get the float of that:\n",
    "L_OIII_value = [float(x.split(\"$\\\\pm$\")[0]) for x in data['L_OIII']]\n",
    "\n",
    "# but that gives me a list type, I want a table Column:\n",
    "L_OIII_value = Column([float(x.split(\"$\\\\pm$\")[0]) for x in data['L_OIII']], name=\"L_OIII_value\")"
   ]
  },
  {
   "cell_type": "code",
   "execution_count": 32,
   "metadata": {},
   "outputs": [
    {
     "data": {
      "text/html": [
       "&lt;Column name=&apos;L_OIII_value&apos; dtype=&apos;float64&apos; length=57&gt;\n",
       "<table>\n",
       "<tr><td>56.82</td></tr>\n",
       "<tr><td>30.08</td></tr>\n",
       "<tr><td>20.95</td></tr>\n",
       "<tr><td>20.66</td></tr>\n",
       "<tr><td>11.68</td></tr>\n",
       "<tr><td>11.01</td></tr>\n",
       "<tr><td>8.94</td></tr>\n",
       "<tr><td>7.88</td></tr>\n",
       "<tr><td>6.79</td></tr>\n",
       "<tr><td>6.77</td></tr>\n",
       "<tr><td>6.77</td></tr>\n",
       "<tr><td>6.46</td></tr>\n",
       "<tr><td>...</td></tr>\n",
       "<tr><td>1.0</td></tr>\n",
       "<tr><td>0.92</td></tr>\n",
       "<tr><td>0.86</td></tr>\n",
       "<tr><td>0.84</td></tr>\n",
       "<tr><td>0.84</td></tr>\n",
       "<tr><td>0.84</td></tr>\n",
       "<tr><td>0.82</td></tr>\n",
       "<tr><td>0.77</td></tr>\n",
       "<tr><td>0.76</td></tr>\n",
       "<tr><td>0.76</td></tr>\n",
       "<tr><td>0.63</td></tr>\n",
       "<tr><td>0.61</td></tr>\n",
       "</table>"
      ],
      "text/plain": [
       "<Column name='L_OIII_value' dtype='float64' length=57>\n",
       "56.82\n",
       "30.08\n",
       "20.95\n",
       "20.66\n",
       "11.68\n",
       "11.01\n",
       " 8.94\n",
       " 7.88\n",
       " 6.79\n",
       " 6.77\n",
       " 6.77\n",
       " 6.46\n",
       "  ...\n",
       "  1.0\n",
       " 0.92\n",
       " 0.86\n",
       " 0.84\n",
       " 0.84\n",
       " 0.84\n",
       " 0.82\n",
       " 0.77\n",
       " 0.76\n",
       " 0.76\n",
       " 0.63\n",
       " 0.61"
      ]
     },
     "execution_count": 32,
     "metadata": {},
     "output_type": "execute_result"
    }
   ],
   "source": [
    "L_OIII_value"
   ]
  },
  {
   "cell_type": "code",
   "execution_count": 33,
   "metadata": {
    "collapsed": true
   },
   "outputs": [],
   "source": [
    "# Let's get the uncertainty the same way:\n",
    "L_OIII_uncertainty = Column([float(x.split(\"$\\\\pm$\")[1]) for x in data['L_OIII']], name=\"L_OIII_uncertainty\")"
   ]
  },
  {
   "cell_type": "code",
   "execution_count": 34,
   "metadata": {},
   "outputs": [
    {
     "data": {
      "text/html": [
       "&lt;Column name=&apos;L_OIII_uncertainty&apos; dtype=&apos;float64&apos; length=57&gt;\n",
       "<table>\n",
       "<tr><td>1.25</td></tr>\n",
       "<tr><td>1.69</td></tr>\n",
       "<tr><td>0.67</td></tr>\n",
       "<tr><td>0.43</td></tr>\n",
       "<tr><td>0.96</td></tr>\n",
       "<tr><td>0.17</td></tr>\n",
       "<tr><td>0.14</td></tr>\n",
       "<tr><td>0.14</td></tr>\n",
       "<tr><td>0.3</td></tr>\n",
       "<tr><td>0.9</td></tr>\n",
       "<tr><td>0.2</td></tr>\n",
       "<tr><td>0.31</td></tr>\n",
       "<tr><td>...</td></tr>\n",
       "<tr><td>0.13</td></tr>\n",
       "<tr><td>0.05</td></tr>\n",
       "<tr><td>0.07</td></tr>\n",
       "<tr><td>0.06</td></tr>\n",
       "<tr><td>0.02</td></tr>\n",
       "<tr><td>0.07</td></tr>\n",
       "<tr><td>0.07</td></tr>\n",
       "<tr><td>0.1</td></tr>\n",
       "<tr><td>0.08</td></tr>\n",
       "<tr><td>0.09</td></tr>\n",
       "<tr><td>0.06</td></tr>\n",
       "<tr><td>0.04</td></tr>\n",
       "</table>"
      ],
      "text/plain": [
       "<Column name='L_OIII_uncertainty' dtype='float64' length=57>\n",
       "1.25\n",
       "1.69\n",
       "0.67\n",
       "0.43\n",
       "0.96\n",
       "0.17\n",
       "0.14\n",
       "0.14\n",
       " 0.3\n",
       " 0.9\n",
       " 0.2\n",
       "0.31\n",
       " ...\n",
       "0.13\n",
       "0.05\n",
       "0.07\n",
       "0.06\n",
       "0.02\n",
       "0.07\n",
       "0.07\n",
       " 0.1\n",
       "0.08\n",
       "0.09\n",
       "0.06\n",
       "0.04"
      ]
     },
     "execution_count": 34,
     "metadata": {},
     "output_type": "execute_result"
    }
   ],
   "source": [
    "L_OIII_uncertainty"
   ]
  },
  {
   "cell_type": "code",
   "execution_count": 35,
   "metadata": {},
   "outputs": [
    {
     "data": {
      "text/html": [
       "&lt;Table length=57&gt;\n",
       "<table id=\"table4677187680\" class=\"table-striped table-bordered table-condensed\">\n",
       "<thead><tr><th>mangaID</th><th>RA</th><th>DEC</th><th>x</th><th>M_r</th><th>log M/M_o</th><th>GZ1_c</th><th>C</th><th>A</th><th>L_OIII</th><th>L_OIII_value</th><th>L_OIII_uncertainty</th></tr></thead>\n",
       "<thead><tr><th>str8</th><th>float64</th><th>float64</th><th>float64</th><th>float64</th><th>float64</th><th>str3</th><th>float64</th><th>float64</th><th>str14</th><th>float64</th><th>float64</th></tr></thead>\n",
       "<tr><td>1-558912</td><td>166.12941</td><td>42.624554</td><td>0.1261</td><td>-20.46</td><td>11.25</td><td>--</td><td>0.37</td><td>0.12</td><td>56.82$\\pm$1.25</td><td>56.82</td><td>1.25</td></tr>\n",
       "<tr><td>1-269632</td><td>247.560974</td><td>26.206474</td><td>0.1315</td><td>-21.78</td><td>11.62</td><td>S</td><td>0.47</td><td>0.05</td><td>30.08$\\pm$1.69</td><td>30.08</td><td>1.69</td></tr>\n",
       "<tr><td>1-258599</td><td>186.181</td><td>44.41077</td><td>0.1256</td><td>-21.24</td><td>11.68</td><td>E</td><td>0.5</td><td>0.11</td><td>20.95$\\pm$0.67</td><td>20.95</td><td>0.67</td></tr>\n",
       "<tr><td>1-72322</td><td>121.014198</td><td>40.802612</td><td>0.1262</td><td>-21.81</td><td>12.05</td><td>S</td><td>0.34</td><td>0.08</td><td>20.66$\\pm$0.43</td><td>20.66</td><td>0.43</td></tr>\n",
       "<tr><td>1-121532</td><td>118.09111</td><td>34.326569</td><td>0.14</td><td>-20.51</td><td>11.34</td><td>E</td><td>0.33</td><td>0.05</td><td>11.68$\\pm$0.96</td><td>11.68</td><td>0.96</td></tr>\n",
       "<tr><td>1-209980</td><td>240.470871</td><td>45.35194</td><td>0.042</td><td>-19.7</td><td>10.79</td><td>S</td><td>0.57</td><td>0.04</td><td>11.01$\\pm$0.17</td><td>11.01</td><td>0.17</td></tr>\n",
       "<tr><td>1-44379</td><td>120.700706</td><td>45.034554</td><td>0.0389</td><td>-19.89</td><td>10.97</td><td>S</td><td>0.24</td><td>0.06</td><td>8.94$\\pm$0.14</td><td>8.94</td><td>0.14</td></tr>\n",
       "<tr><td>1-149211</td><td>168.9478</td><td>50.401634</td><td>0.0473</td><td>-18.27</td><td>10.16</td><td>S</td><td>0.29</td><td>0.03</td><td>7.88$\\pm$0.14</td><td>7.88</td><td>0.14</td></tr>\n",
       "<tr><td>1-173958</td><td>167.306015</td><td>49.519432</td><td>0.0724</td><td>-20.53</td><td>11.31</td><td>S</td><td>0.33</td><td>0.06</td><td>6.79$\\pm$0.30</td><td>6.79</td><td>0.3</td></tr>\n",
       "<tr><td>1-338922</td><td>114.775749</td><td>44.402767</td><td>0.1345</td><td>-20.27</td><td>11.13</td><td>M</td><td>0.44</td><td>0.03</td><td>6.77$\\pm$0.90</td><td>6.77</td><td>0.9</td></tr>\n",
       "<tr><td>...</td><td>...</td><td>...</td><td>...</td><td>...</td><td>...</td><td>...</td><td>...</td><td>...</td><td>...</td><td>...</td><td>...</td></tr>\n",
       "<tr><td>1-94604</td><td>251.335938</td><td>42.75779</td><td>0.0493</td><td>-19.44</td><td>10.52</td><td>S</td><td>0.37</td><td>0.01</td><td>0.86$\\pm$0.07</td><td>0.86</td><td>0.07</td></tr>\n",
       "<tr><td>1-37036</td><td>41.699909</td><td>0.421577</td><td>0.0283</td><td>-19.02</td><td>10.66</td><td>E</td><td>0.4</td><td>0.09</td><td>0.84$\\pm$0.06</td><td>0.84</td><td>0.06</td></tr>\n",
       "<tr><td>1-167688</td><td>155.885559</td><td>46.057755</td><td>0.0258</td><td>-17.86</td><td>9.75</td><td>E</td><td>0.52</td><td>0.04</td><td>0.84$\\pm$0.02</td><td>0.84</td><td>0.02</td></tr>\n",
       "<tr><td>1-279666</td><td>173.91124</td><td>47.515518</td><td>0.0455</td><td>-18.83</td><td>10.42</td><td>E</td><td>0.31</td><td>0.02</td><td>0.84$\\pm$0.07</td><td>0.84</td><td>0.07</td></tr>\n",
       "<tr><td>1-339163</td><td>116.280205</td><td>46.072422</td><td>0.0312</td><td>-20.02</td><td>10.97</td><td>S</td><td>0.3</td><td>0.1</td><td>0.82$\\pm$0.07</td><td>0.82</td><td>0.07</td></tr>\n",
       "<tr><td>1-258774</td><td>186.400864</td><td>45.083858</td><td>0.0384</td><td>-19.6</td><td>10.77</td><td>--</td><td>0.55</td><td>0.03</td><td>0.77$\\pm$0.10</td><td>0.77</td><td>0.1</td></tr>\n",
       "<tr><td>1-198153</td><td>224.289078</td><td>48.633968</td><td>0.0354</td><td>-19.83</td><td>11.0</td><td>S</td><td>0.27</td><td>0.07</td><td>0.76$\\pm$0.08</td><td>0.76</td><td>0.08</td></tr>\n",
       "<tr><td>1-91016</td><td>234.810974</td><td>56.670856</td><td>0.0463</td><td>-18.6</td><td>10.56</td><td>S</td><td>0.27</td><td>0.06</td><td>0.76$\\pm$0.09</td><td>0.76</td><td>0.09</td></tr>\n",
       "<tr><td>1-279073</td><td>170.58815</td><td>46.430504</td><td>0.0323</td><td>-19.53</td><td>10.79</td><td>E</td><td>0.51</td><td>0.01</td><td>0.63$\\pm$0.06</td><td>0.63</td><td>0.06</td></tr>\n",
       "<tr><td>1-135044</td><td>247.90799</td><td>41.493645</td><td>0.0303</td><td>-19.76</td><td>10.65</td><td>S</td><td>0.31</td><td>0.05</td><td>0.61$\\pm$0.04</td><td>0.61</td><td>0.04</td></tr>\n",
       "</table>"
      ],
      "text/plain": [
       "<Table length=57>\n",
       "mangaID      RA        DEC    ...     L_OIII     L_OIII_value L_OIII_uncertainty\n",
       "  str8    float64    float64  ...     str14        float64         float64      \n",
       "-------- ---------- --------- ... -------------- ------------ ------------------\n",
       "1-558912  166.12941 42.624554 ... 56.82$\\pm$1.25        56.82               1.25\n",
       "1-269632 247.560974 26.206474 ... 30.08$\\pm$1.69        30.08               1.69\n",
       "1-258599    186.181  44.41077 ... 20.95$\\pm$0.67        20.95               0.67\n",
       " 1-72322 121.014198 40.802612 ... 20.66$\\pm$0.43        20.66               0.43\n",
       "1-121532  118.09111 34.326569 ... 11.68$\\pm$0.96        11.68               0.96\n",
       "1-209980 240.470871  45.35194 ... 11.01$\\pm$0.17        11.01               0.17\n",
       " 1-44379 120.700706 45.034554 ...  8.94$\\pm$0.14         8.94               0.14\n",
       "1-149211   168.9478 50.401634 ...  7.88$\\pm$0.14         7.88               0.14\n",
       "1-173958 167.306015 49.519432 ...  6.79$\\pm$0.30         6.79                0.3\n",
       "1-338922 114.775749 44.402767 ...  6.77$\\pm$0.90         6.77                0.9\n",
       "     ...        ...       ... ...            ...          ...                ...\n",
       " 1-94604 251.335938  42.75779 ...  0.86$\\pm$0.07         0.86               0.07\n",
       " 1-37036  41.699909  0.421577 ...  0.84$\\pm$0.06         0.84               0.06\n",
       "1-167688 155.885559 46.057755 ...  0.84$\\pm$0.02         0.84               0.02\n",
       "1-279666  173.91124 47.515518 ...  0.84$\\pm$0.07         0.84               0.07\n",
       "1-339163 116.280205 46.072422 ...  0.82$\\pm$0.07         0.82               0.07\n",
       "1-258774 186.400864 45.083858 ...  0.77$\\pm$0.10         0.77                0.1\n",
       "1-198153 224.289078 48.633968 ...  0.76$\\pm$0.08         0.76               0.08\n",
       " 1-91016 234.810974 56.670856 ...  0.76$\\pm$0.09         0.76               0.09\n",
       "1-279073  170.58815 46.430504 ...  0.63$\\pm$0.06         0.63               0.06\n",
       "1-135044  247.90799 41.493645 ...  0.61$\\pm$0.04         0.61               0.04"
      ]
     },
     "execution_count": 35,
     "metadata": {},
     "output_type": "execute_result"
    }
   ],
   "source": [
    "# Now let's add those back in to the table:\n",
    "data.add_columns([L_OIII_value, L_OIII_uncertainty])\n",
    "# And look at the result:\n",
    "data"
   ]
  },
  {
   "cell_type": "code",
   "execution_count": 36,
   "metadata": {
    "collapsed": true
   },
   "outputs": [],
   "source": [
    "# Let's do soemthing with that new information.  Let's add a SNR column for the L_OIII measurement.\n",
    "SNR = Column([x['L_OIII_value']/x['L_OIII_uncertainty'] for x in data], name='L_OIII_SNR', format='.2f')"
   ]
  },
  {
   "cell_type": "code",
   "execution_count": 37,
   "metadata": {
    "collapsed": true
   },
   "outputs": [],
   "source": [
    "data.add_column(SNR)"
   ]
  },
  {
   "cell_type": "code",
   "execution_count": 38,
   "metadata": {
    "scrolled": true
   },
   "outputs": [
    {
     "data": {
      "text/html": [
       "&lt;Table length=57&gt;\n",
       "<table id=\"table4677187680\" class=\"table-striped table-bordered table-condensed\">\n",
       "<thead><tr><th>mangaID</th><th>RA</th><th>DEC</th><th>x</th><th>M_r</th><th>log M/M_o</th><th>GZ1_c</th><th>C</th><th>A</th><th>L_OIII</th><th>L_OIII_value</th><th>L_OIII_uncertainty</th><th>L_OIII_SNR</th></tr></thead>\n",
       "<thead><tr><th>str8</th><th>float64</th><th>float64</th><th>float64</th><th>float64</th><th>float64</th><th>str3</th><th>float64</th><th>float64</th><th>str14</th><th>float64</th><th>float64</th><th>float64</th></tr></thead>\n",
       "<tr><td>1-558912</td><td>166.12941</td><td>42.624554</td><td>0.1261</td><td>-20.46</td><td>11.25</td><td>--</td><td>0.37</td><td>0.12</td><td>56.82$\\pm$1.25</td><td>56.82</td><td>1.25</td><td>45.46</td></tr>\n",
       "<tr><td>1-269632</td><td>247.560974</td><td>26.206474</td><td>0.1315</td><td>-21.78</td><td>11.62</td><td>S</td><td>0.47</td><td>0.05</td><td>30.08$\\pm$1.69</td><td>30.08</td><td>1.69</td><td>17.80</td></tr>\n",
       "<tr><td>1-258599</td><td>186.181</td><td>44.41077</td><td>0.1256</td><td>-21.24</td><td>11.68</td><td>E</td><td>0.5</td><td>0.11</td><td>20.95$\\pm$0.67</td><td>20.95</td><td>0.67</td><td>31.27</td></tr>\n",
       "<tr><td>1-72322</td><td>121.014198</td><td>40.802612</td><td>0.1262</td><td>-21.81</td><td>12.05</td><td>S</td><td>0.34</td><td>0.08</td><td>20.66$\\pm$0.43</td><td>20.66</td><td>0.43</td><td>48.05</td></tr>\n",
       "<tr><td>1-121532</td><td>118.09111</td><td>34.326569</td><td>0.14</td><td>-20.51</td><td>11.34</td><td>E</td><td>0.33</td><td>0.05</td><td>11.68$\\pm$0.96</td><td>11.68</td><td>0.96</td><td>12.17</td></tr>\n",
       "<tr><td>1-209980</td><td>240.470871</td><td>45.35194</td><td>0.042</td><td>-19.7</td><td>10.79</td><td>S</td><td>0.57</td><td>0.04</td><td>11.01$\\pm$0.17</td><td>11.01</td><td>0.17</td><td>64.76</td></tr>\n",
       "<tr><td>1-44379</td><td>120.700706</td><td>45.034554</td><td>0.0389</td><td>-19.89</td><td>10.97</td><td>S</td><td>0.24</td><td>0.06</td><td>8.94$\\pm$0.14</td><td>8.94</td><td>0.14</td><td>63.86</td></tr>\n",
       "<tr><td>1-149211</td><td>168.9478</td><td>50.401634</td><td>0.0473</td><td>-18.27</td><td>10.16</td><td>S</td><td>0.29</td><td>0.03</td><td>7.88$\\pm$0.14</td><td>7.88</td><td>0.14</td><td>56.29</td></tr>\n",
       "<tr><td>1-173958</td><td>167.306015</td><td>49.519432</td><td>0.0724</td><td>-20.53</td><td>11.31</td><td>S</td><td>0.33</td><td>0.06</td><td>6.79$\\pm$0.30</td><td>6.79</td><td>0.3</td><td>22.63</td></tr>\n",
       "<tr><td>1-338922</td><td>114.775749</td><td>44.402767</td><td>0.1345</td><td>-20.27</td><td>11.13</td><td>M</td><td>0.44</td><td>0.03</td><td>6.77$\\pm$0.90</td><td>6.77</td><td>0.9</td><td>7.52</td></tr>\n",
       "<tr><td>...</td><td>...</td><td>...</td><td>...</td><td>...</td><td>...</td><td>...</td><td>...</td><td>...</td><td>...</td><td>...</td><td>...</td><td>...</td></tr>\n",
       "<tr><td>1-94604</td><td>251.335938</td><td>42.75779</td><td>0.0493</td><td>-19.44</td><td>10.52</td><td>S</td><td>0.37</td><td>0.01</td><td>0.86$\\pm$0.07</td><td>0.86</td><td>0.07</td><td>12.29</td></tr>\n",
       "<tr><td>1-37036</td><td>41.699909</td><td>0.421577</td><td>0.0283</td><td>-19.02</td><td>10.66</td><td>E</td><td>0.4</td><td>0.09</td><td>0.84$\\pm$0.06</td><td>0.84</td><td>0.06</td><td>14.00</td></tr>\n",
       "<tr><td>1-167688</td><td>155.885559</td><td>46.057755</td><td>0.0258</td><td>-17.86</td><td>9.75</td><td>E</td><td>0.52</td><td>0.04</td><td>0.84$\\pm$0.02</td><td>0.84</td><td>0.02</td><td>42.00</td></tr>\n",
       "<tr><td>1-279666</td><td>173.91124</td><td>47.515518</td><td>0.0455</td><td>-18.83</td><td>10.42</td><td>E</td><td>0.31</td><td>0.02</td><td>0.84$\\pm$0.07</td><td>0.84</td><td>0.07</td><td>12.00</td></tr>\n",
       "<tr><td>1-339163</td><td>116.280205</td><td>46.072422</td><td>0.0312</td><td>-20.02</td><td>10.97</td><td>S</td><td>0.3</td><td>0.1</td><td>0.82$\\pm$0.07</td><td>0.82</td><td>0.07</td><td>11.71</td></tr>\n",
       "<tr><td>1-258774</td><td>186.400864</td><td>45.083858</td><td>0.0384</td><td>-19.6</td><td>10.77</td><td>--</td><td>0.55</td><td>0.03</td><td>0.77$\\pm$0.10</td><td>0.77</td><td>0.1</td><td>7.70</td></tr>\n",
       "<tr><td>1-198153</td><td>224.289078</td><td>48.633968</td><td>0.0354</td><td>-19.83</td><td>11.0</td><td>S</td><td>0.27</td><td>0.07</td><td>0.76$\\pm$0.08</td><td>0.76</td><td>0.08</td><td>9.50</td></tr>\n",
       "<tr><td>1-91016</td><td>234.810974</td><td>56.670856</td><td>0.0463</td><td>-18.6</td><td>10.56</td><td>S</td><td>0.27</td><td>0.06</td><td>0.76$\\pm$0.09</td><td>0.76</td><td>0.09</td><td>8.44</td></tr>\n",
       "<tr><td>1-279073</td><td>170.58815</td><td>46.430504</td><td>0.0323</td><td>-19.53</td><td>10.79</td><td>E</td><td>0.51</td><td>0.01</td><td>0.63$\\pm$0.06</td><td>0.63</td><td>0.06</td><td>10.50</td></tr>\n",
       "<tr><td>1-135044</td><td>247.90799</td><td>41.493645</td><td>0.0303</td><td>-19.76</td><td>10.65</td><td>S</td><td>0.31</td><td>0.05</td><td>0.61$\\pm$0.04</td><td>0.61</td><td>0.04</td><td>15.25</td></tr>\n",
       "</table>"
      ],
      "text/plain": [
       "<Table length=57>\n",
       "mangaID      RA        DEC    ... L_OIII_value L_OIII_uncertainty L_OIII_SNR\n",
       "  str8    float64    float64  ...   float64         float64        float64  \n",
       "-------- ---------- --------- ... ------------ ------------------ ----------\n",
       "1-558912  166.12941 42.624554 ...        56.82               1.25      45.46\n",
       "1-269632 247.560974 26.206474 ...        30.08               1.69      17.80\n",
       "1-258599    186.181  44.41077 ...        20.95               0.67      31.27\n",
       " 1-72322 121.014198 40.802612 ...        20.66               0.43      48.05\n",
       "1-121532  118.09111 34.326569 ...        11.68               0.96      12.17\n",
       "1-209980 240.470871  45.35194 ...        11.01               0.17      64.76\n",
       " 1-44379 120.700706 45.034554 ...         8.94               0.14      63.86\n",
       "1-149211   168.9478 50.401634 ...         7.88               0.14      56.29\n",
       "1-173958 167.306015 49.519432 ...         6.79                0.3      22.63\n",
       "1-338922 114.775749 44.402767 ...         6.77                0.9       7.52\n",
       "     ...        ...       ... ...          ...                ...        ...\n",
       " 1-94604 251.335938  42.75779 ...         0.86               0.07      12.29\n",
       " 1-37036  41.699909  0.421577 ...         0.84               0.06      14.00\n",
       "1-167688 155.885559 46.057755 ...         0.84               0.02      42.00\n",
       "1-279666  173.91124 47.515518 ...         0.84               0.07      12.00\n",
       "1-339163 116.280205 46.072422 ...         0.82               0.07      11.71\n",
       "1-258774 186.400864 45.083858 ...         0.77                0.1       7.70\n",
       "1-198153 224.289078 48.633968 ...         0.76               0.08       9.50\n",
       " 1-91016 234.810974 56.670856 ...         0.76               0.09       8.44\n",
       "1-279073  170.58815 46.430504 ...         0.63               0.06      10.50\n",
       "1-135044  247.90799 41.493645 ...         0.61               0.04      15.25"
      ]
     },
     "execution_count": 38,
     "metadata": {},
     "output_type": "execute_result"
    }
   ],
   "source": [
    "data"
   ]
  },
  {
   "cell_type": "code",
   "execution_count": null,
   "metadata": {
    "collapsed": true
   },
   "outputs": [],
   "source": []
  },
  {
   "cell_type": "code",
   "execution_count": null,
   "metadata": {
    "collapsed": true
   },
   "outputs": [],
   "source": []
  }
 ],
 "metadata": {
  "kernelspec": {
   "display_name": "Python 3",
   "language": "python",
   "name": "python3"
  },
  "language_info": {
   "codemirror_mode": {
    "name": "ipython",
    "version": 3
   },
   "file_extension": ".py",
   "mimetype": "text/x-python",
   "name": "python",
   "nbconvert_exporter": "python",
   "pygments_lexer": "ipython3",
   "version": "3.6.2"
  }
 },
 "nbformat": 4,
 "nbformat_minor": 2
}
