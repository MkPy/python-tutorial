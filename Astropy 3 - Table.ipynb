{
 "cells": [
  {
   "cell_type": "markdown",
   "metadata": {
    "collapsed": true
   },
   "source": [
    "# Table\n",
    "\n",
    "I didn't go in to opening and reading files in python because the `astropy.tables` module covers most of what astronomers will need.  If you want to open and edit files directly, see the `open()` and `close()` funtions in python.\n",
    "\n",
    "Astropy has a module (`astropy.io`) which covers input and output for reading and writing various file types.  The `tables` module uses that to read and write numerous file formatting options."
   ]
  },
  {
   "cell_type": "code",
   "execution_count": null,
   "metadata": {
    "collapsed": true
   },
   "outputs": [],
   "source": [
    "from astropy import units as u\n",
    "from astropy.table import Table, Column, Row"
   ]
  },
  {
   "cell_type": "code",
   "execution_count": null,
   "metadata": {
    "collapsed": true
   },
   "outputs": [],
   "source": [
    "# Tables can be formed from columns\n",
    "a = [1, 4, 5]\n",
    "b = [2.0, 5.0, 8.2]\n",
    "c = ['x', 'y', 'z']\n",
    "t = Table([a, b, c], names=('a', 'b', 'c'))"
   ]
  },
  {
   "cell_type": "code",
   "execution_count": null,
   "metadata": {},
   "outputs": [],
   "source": [
    "t"
   ]
  },
  {
   "cell_type": "code",
   "execution_count": null,
   "metadata": {
    "collapsed": true
   },
   "outputs": [],
   "source": [
    "# Tables can be formed from rows\n",
    "data_rows = [(1, 2.0, 'x'),\n",
    "             (4, 5.0, 'y'),\n",
    "             (5, 8.2, 'z')]\n",
    "t = Table(rows=data_rows, names=('a', 'b', 'c'), meta={'name': 'first table'},\n",
    "          dtype=(int, float, str))"
   ]
  },
  {
   "cell_type": "code",
   "execution_count": null,
   "metadata": {},
   "outputs": [],
   "source": [
    "t"
   ]
  },
  {
   "cell_type": "code",
   "execution_count": null,
   "metadata": {
    "collapsed": true
   },
   "outputs": [],
   "source": [
    "# Tables work with astropy units\n",
    "# We can assign unit of seconds to column b\n",
    "t['b'].unit = u.second"
   ]
  },
  {
   "cell_type": "code",
   "execution_count": null,
   "metadata": {},
   "outputs": [],
   "source": [
    "t"
   ]
  },
  {
   "cell_type": "code",
   "execution_count": null,
   "metadata": {},
   "outputs": [],
   "source": [
    "# To get summary information about a table\n",
    "t.info"
   ]
  },
  {
   "cell_type": "code",
   "execution_count": null,
   "metadata": {},
   "outputs": [],
   "source": [
    "t['b'].format = '7.3f'\n",
    "t"
   ]
  },
  {
   "cell_type": "code",
   "execution_count": null,
   "metadata": {
    "collapsed": true
   },
   "outputs": [],
   "source": []
  },
  {
   "cell_type": "markdown",
   "metadata": {},
   "source": [
    "### Reading from Files"
   ]
  },
  {
   "cell_type": "code",
   "execution_count": null,
   "metadata": {
    "collapsed": true
   },
   "outputs": [],
   "source": [
    "data = Table.read('table.tex', format='latex')"
   ]
  },
  {
   "cell_type": "code",
   "execution_count": null,
   "metadata": {},
   "outputs": [],
   "source": [
    "data"
   ]
  },
  {
   "cell_type": "code",
   "execution_count": null,
   "metadata": {},
   "outputs": [],
   "source": [
    "# Tables have several tools for convienient display.  For example, they can display interactively in a notebook!\n",
    "data.show_in_notebook()"
   ]
  },
  {
   "cell_type": "markdown",
   "metadata": {},
   "source": [
    "Astropy tables are very powerful (and thus can be somewhat complex).  They can be manipulated in numerous ways."
   ]
  },
  {
   "cell_type": "code",
   "execution_count": null,
   "metadata": {},
   "outputs": [],
   "source": [
    "data.info()"
   ]
  },
  {
   "cell_type": "code",
   "execution_count": null,
   "metadata": {},
   "outputs": [],
   "source": [
    "data.keys()"
   ]
  },
  {
   "cell_type": "code",
   "execution_count": null,
   "metadata": {
    "collapsed": true
   },
   "outputs": [],
   "source": [
    "# Let's clean up some of those column names to remove the LaTeX\n",
    "data['$M_r$'].name = 'M_r'\n",
    "data['log $M^\\star/M_\\odot$'].name = 'log M/M_o'\n",
    "data['GZ1$_c$'].name = 'GZ1_c'\n",
    "data['$C$'].name = 'C'\n",
    "data['$A$'].name = 'A'\n",
    "data['$L(\\\\rm{[OIII]})$'].name = 'L_OIII'"
   ]
  },
  {
   "cell_type": "code",
   "execution_count": null,
   "metadata": {},
   "outputs": [],
   "source": [
    "data.info()"
   ]
  },
  {
   "cell_type": "markdown",
   "metadata": {},
   "source": [
    "### Using Tables\n",
    "\n",
    "Let's try to do some calculations with the data in the above table.\n",
    "\n",
    "First, what if we wanted to sum all the A values for those objects which have a C value above 0.45?  We can index tables with a boolean array that would pick out the rows we want."
   ]
  },
  {
   "cell_type": "code",
   "execution_count": null,
   "metadata": {},
   "outputs": [],
   "source": [
    "data['C'] > 0.45"
   ]
  },
  {
   "cell_type": "code",
   "execution_count": null,
   "metadata": {},
   "outputs": [],
   "source": [
    "data[data['C'] > 0.45]"
   ]
  },
  {
   "cell_type": "code",
   "execution_count": null,
   "metadata": {},
   "outputs": [],
   "source": [
    "col = data[data['C'] > 0.45]['A']\n",
    "col.data"
   ]
  },
  {
   "cell_type": "code",
   "execution_count": null,
   "metadata": {},
   "outputs": [],
   "source": [
    "sum(data[data['C'] > 0.45]['A'])"
   ]
  },
  {
   "cell_type": "code",
   "execution_count": null,
   "metadata": {},
   "outputs": [],
   "source": [
    "import numpy as np\n",
    "np.mean(data[data['C'] > 0.45]['A'])"
   ]
  },
  {
   "cell_type": "code",
   "execution_count": null,
   "metadata": {},
   "outputs": [],
   "source": [
    "np.median(data[data['C'] > 0.45]['A'])"
   ]
  },
  {
   "cell_type": "code",
   "execution_count": null,
   "metadata": {},
   "outputs": [],
   "source": [
    "np.std((data[data['C'] > 0.45]['A']))"
   ]
  },
  {
   "cell_type": "markdown",
   "metadata": {},
   "source": [
    "I can also select out groups using the `group_by` method."
   ]
  },
  {
   "cell_type": "code",
   "execution_count": null,
   "metadata": {
    "collapsed": true
   },
   "outputs": [],
   "source": [
    "byGZ1_c = data.group_by('GZ1_c')"
   ]
  },
  {
   "cell_type": "code",
   "execution_count": null,
   "metadata": {},
   "outputs": [],
   "source": [
    "# The output is the same table, but which now has `.groups` property.\n",
    "# Let's see what is in the zeroth group\n",
    "byGZ1_c.groups[0]"
   ]
  },
  {
   "cell_type": "code",
   "execution_count": null,
   "metadata": {},
   "outputs": [],
   "source": [
    "# Let's see what is in the first group\n",
    "byGZ1_c.groups[1]"
   ]
  },
  {
   "cell_type": "code",
   "execution_count": null,
   "metadata": {},
   "outputs": [],
   "source": [
    "# The info about which group has which value of GZ1_c is in the `.keys` property.\n",
    "byGZ1_c.groups.keys"
   ]
  },
  {
   "cell_type": "code",
   "execution_count": null,
   "metadata": {},
   "outputs": [],
   "source": [
    "# We can find out which elements of the keys `Column` are equal to the one we are interested in:\n",
    "byGZ1_c.groups.keys['GZ1_c'] == 'S'"
   ]
  },
  {
   "cell_type": "code",
   "execution_count": null,
   "metadata": {},
   "outputs": [],
   "source": [
    "# Therefore if I want to examine those rows of the table which have GZ1_c == S:\n",
    "byGZ1_c.groups[byGZ1_c.groups.keys['GZ1_c'] == 'S']"
   ]
  },
  {
   "cell_type": "markdown",
   "metadata": {},
   "source": [
    "### Editing Tables\n",
    "\n",
    "There are times when you want to edit data in a Table.  For example, in the table above the `L_OIII` column is a string which is inconvienient.\n",
    "\n",
    "We want to split out the value and the uncertainty."
   ]
  },
  {
   "cell_type": "code",
   "execution_count": null,
   "metadata": {},
   "outputs": [],
   "source": [
    "# First I want figiure out how to get the values.  I get those by using the `.split` method on the string.\n",
    "# An example of the content of a cell is:\n",
    "data['L_OIII'][0]"
   ]
  },
  {
   "cell_type": "code",
   "execution_count": null,
   "metadata": {},
   "outputs": [],
   "source": [
    "# So I want to split on the \"$\\\\pm$\" LaTeX string.\n",
    "# Using list comprehension I would do that like this:\n",
    "L_OIII_value = [x.split(\"$\\\\pm$\")[0] for x in data['L_OIII']]\n",
    "L_OIII_value"
   ]
  },
  {
   "cell_type": "code",
   "execution_count": null,
   "metadata": {},
   "outputs": [],
   "source": [
    "# but that just gives me strings, so I need to get the float of that:\n",
    "L_OIII_value = [float(x.split(\"$\\\\pm$\")[0]) for x in data['L_OIII']]\n",
    "L_OIII_value"
   ]
  },
  {
   "cell_type": "code",
   "execution_count": null,
   "metadata": {
    "collapsed": true
   },
   "outputs": [],
   "source": [
    "# but that gives me a list type, I want a table Column:\n",
    "L_OIII_value = Column([float(x.split(\"$\\\\pm$\")[0]) for x in data['L_OIII']], name=\"L_OIII_value\")"
   ]
  },
  {
   "cell_type": "code",
   "execution_count": null,
   "metadata": {},
   "outputs": [],
   "source": [
    "L_OIII_value"
   ]
  },
  {
   "cell_type": "code",
   "execution_count": null,
   "metadata": {
    "collapsed": true
   },
   "outputs": [],
   "source": [
    "# Let's get the uncertainty the same way:\n",
    "L_OIII_uncertainty = Column([float(x.split(\"$\\\\pm$\")[1]) for x in data['L_OIII']], name=\"L_OIII_uncertainty\")"
   ]
  },
  {
   "cell_type": "code",
   "execution_count": null,
   "metadata": {},
   "outputs": [],
   "source": [
    "# Now let's add those back in to the table:\n",
    "data.add_columns([L_OIII_value, L_OIII_uncertainty])\n",
    "# And look at the result:\n",
    "data"
   ]
  },
  {
   "cell_type": "code",
   "execution_count": null,
   "metadata": {
    "collapsed": true
   },
   "outputs": [],
   "source": [
    "# Let's do soemthing with that new information.  Let's add a SNR column for the L_OIII measurement.\n",
    "SNR = Column([x['L_OIII_value']/x['L_OIII_uncertainty'] for x in data], name='L_OIII_SNR', format='.2f')"
   ]
  },
  {
   "cell_type": "code",
   "execution_count": null,
   "metadata": {
    "collapsed": true
   },
   "outputs": [],
   "source": [
    "data.add_column(SNR)"
   ]
  },
  {
   "cell_type": "code",
   "execution_count": null,
   "metadata": {
    "scrolled": true
   },
   "outputs": [],
   "source": [
    "data.write?"
   ]
  },
  {
   "cell_type": "markdown",
   "metadata": {},
   "source": [
    "### Other Features of Tables\n",
    "\n",
    "Tables also have a few other nice features which we haven't had time to go in to here.\n",
    "\n",
    "For one thing, table columns can be associated with units.  Thus, data in a table can play well with calculations using `astropy.units`.\n",
    "\n",
    "Another is that table columns can contain other types of data such as `SkyCoord`s, so you can have a table with object coordinates and carry around all the power of a `SkyCoord` or a `Time`."
   ]
  },
  {
   "cell_type": "markdown",
   "metadata": {
    "collapsed": true
   },
   "source": [
    "# Exercises\n",
    "\n",
    "Tables can also be read in from FITS files which use the FITS table format, you'll try that out in this exercise.\n",
    "\n",
    "First, we have to get the data.  Astropy has utilities for downloading data and we will use that here.\n",
    "\n",
    "(much of this exercise is stolen from a notebook by Lia R. Corrales)"
   ]
  },
  {
   "cell_type": "code",
   "execution_count": null,
   "metadata": {
    "collapsed": true
   },
   "outputs": [],
   "source": [
    "import numpy as np\n",
    "\n",
    "from astropy.io import fits\n",
    "from astropy.table import Table\n",
    "from astropy.utils.data import download_file\n",
    "\n",
    "%matplotlib inline\n",
    "import matplotlib.pyplot as plt"
   ]
  },
  {
   "cell_type": "code",
   "execution_count": null,
   "metadata": {
    "collapsed": true
   },
   "outputs": [],
   "source": [
    "# First we identify the file we want to download\n",
    "event_filename = download_file( 'http://data.astropy.org/tutorials/FITS-tables/chandra_events.fits', cache=True )"
   ]
  },
  {
   "cell_type": "code",
   "execution_count": null,
   "metadata": {},
   "outputs": [],
   "source": [
    "# First read in the FITS data.\n",
    "# We use memmap to prevent RAM storage issues for large files.\n",
    "hdu_list = fits.open(event_filename, memmap=True)\n",
    "hdu_list.info()"
   ]
  },
  {
   "cell_type": "code",
   "execution_count": null,
   "metadata": {},
   "outputs": [],
   "source": [
    "# Lets look at the EVENTS data.  It is stored in a FITS table.\n",
    "type(hdu_list[1].data)"
   ]
  },
  {
   "cell_type": "code",
   "execution_count": null,
   "metadata": {},
   "outputs": [],
   "source": [
    "# We could work with it in that form, but Tables are much nicer.\n",
    "evt_data = Table(hdu_list[1].data)\n",
    "evt_data"
   ]
  },
  {
   "cell_type": "markdown",
   "metadata": {},
   "source": [
    "### Exercise 1) Make a Histogram Plot\n",
    "\n",
    "Generate a histogram of the energy of each photon.  Set a reasonable number of bins so that the plot is informative and contains as much of the raw information as possible, but not busy.\n",
    "\n",
    "Hint: pyplot's `hist` may be useful."
   ]
  },
  {
   "cell_type": "code",
   "execution_count": null,
   "metadata": {},
   "outputs": [],
   "source": [
    "# your code here"
   ]
  },
  {
   "cell_type": "markdown",
   "metadata": {},
   "source": [
    "### Exercise 2) Select out the events which fall on the main (ACIS-I) chips.\n",
    "\n",
    "This particular observation spans five CCD chips. First we determine the events that only fell on the main (ACIS-I) chips, which have numerical IDs (\"ccd_id\") equal to 0, 1, 2, and 3.\n",
    "\n",
    "Once you have the data for those chips, print out the total number of events which meet the criteria."
   ]
  },
  {
   "cell_type": "code",
   "execution_count": null,
   "metadata": {},
   "outputs": [],
   "source": [
    "# your code here"
   ]
  },
  {
   "cell_type": "markdown",
   "metadata": {},
   "source": [
    "### Exercise 3) Make a 2D Spatial Histogram of the Events\n",
    "\n",
    "Generate an image of the event hits in the 2D space of the detector.\n",
    "\n",
    "Hint: You may find the `np.histogram_2d` tool useful."
   ]
  },
  {
   "cell_type": "code",
   "execution_count": null,
   "metadata": {},
   "outputs": [],
   "source": [
    "# your code here"
   ]
  },
  {
   "cell_type": "markdown",
   "metadata": {},
   "source": [
    "### Exercise 4) Make the same image with a log-normal color scheme\n",
    "\n",
    "You may notice that the dynamic range of your \"image\" from exercise 2 is far greater than can be easily displayed.  Make a similar \"image\" with the event count displayed in log space, so that the dynamic range is compressed.\n",
    "\n",
    "Hint: the `plt.hist2d` tool has options you might be interested in."
   ]
  },
  {
   "cell_type": "code",
   "execution_count": null,
   "metadata": {},
   "outputs": [],
   "source": [
    "# your code here"
   ]
  }
 ],
 "metadata": {
  "kernelspec": {
   "display_name": "Python 3",
   "language": "python",
   "name": "python3"
  },
  "language_info": {
   "codemirror_mode": {
    "name": "ipython",
    "version": 3
   },
   "file_extension": ".py",
   "mimetype": "text/x-python",
   "name": "python",
   "nbconvert_exporter": "python",
   "pygments_lexer": "ipython3",
   "version": "3.6.2"
  }
 },
 "nbformat": 4,
 "nbformat_minor": 2
}
